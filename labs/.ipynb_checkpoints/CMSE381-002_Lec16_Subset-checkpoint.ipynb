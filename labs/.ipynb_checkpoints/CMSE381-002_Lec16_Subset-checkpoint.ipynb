{
 "cells": [
  {
   "cell_type": "markdown",
   "id": "4dfd68f5",
   "metadata": {},
   "source": [
    "# Jupyter - Day 16 - Section 002\n",
    "# Lect 16: Subset Selection"
   ]
  },
  {
   "cell_type": "code",
   "execution_count": null,
   "id": "4ea3a4b4",
   "metadata": {},
   "outputs": [],
   "source": [
    "# Everyone's favorite standard imports\n",
    "import numpy as np\n",
    "import pandas as pd\n",
    "import matplotlib.pyplot as plt\n",
    "import seaborn as sns\n",
    "%matplotlib inline\n",
    "\n",
    "from sklearn.linear_model import LinearRegression,LogisticRegression\n",
    "from sklearn.metrics import mean_squared_error\n",
    "from sklearn.model_selection import cross_val_score\n",
    "from sklearn.model_selection import KFold"
   ]
  },
  {
   "cell_type": "code",
   "execution_count": null,
   "id": "98db390a",
   "metadata": {},
   "outputs": [],
   "source": [
    "# First, we're going to do all the data loading we've had for a while for this data set\n",
    "auto = pd.read_csv('../../../DataSets/Auto.csv')# update path to where you downloaded the csv\n",
    "auto = auto.replace('?', np.nan)\n",
    "auto = auto.dropna()\n",
    "auto.horsepower = auto.horsepower.astype('int')\n",
    "\n",
    "#this shuffles my data set in advance so that i don't need to worry about it later \n",
    "auto = auto.sample(frac=1).reset_index(drop=True)\n",
    "\n",
    "\n",
    "auto.head()\n"
   ]
  },
  {
   "cell_type": "markdown",
   "id": "32b8a2d2",
   "metadata": {},
   "source": [
    "Let's try to run subset selection on the `auto` data set! We're going to use `cylinders`, `horsepower`, `weight`, and `acceleration` to predict `mpg`. "
   ]
  },
  {
   "cell_type": "code",
   "execution_count": null,
   "id": "158938b5",
   "metadata": {},
   "outputs": [],
   "source": [
    "inputvars = ['cylinders','horsepower','weight', 'acceleration']"
   ]
  },
  {
   "cell_type": "markdown",
   "id": "6928bb0c",
   "metadata": {},
   "source": [
    "The first tool we are going to use is the `itertools` package, which gives us a way to get subsets of whatever size we want using the `combinations` command.  "
   ]
  },
  {
   "cell_type": "code",
   "execution_count": null,
   "id": "d502051a",
   "metadata": {},
   "outputs": [],
   "source": [
    "from itertools import combinations"
   ]
  },
  {
   "cell_type": "markdown",
   "id": "58a6c673",
   "metadata": {},
   "source": [
    "The weird thing is it's an iterator, so if I just try to print out what I want, it's not helpful to me. "
   ]
  },
  {
   "cell_type": "code",
   "execution_count": null,
   "id": "5f89e5f9",
   "metadata": {},
   "outputs": [],
   "source": [
    "combinations(inputvars,2)"
   ]
  },
  {
   "cell_type": "markdown",
   "id": "85077bb8",
   "metadata": {},
   "source": [
    "But if I use it in a for loop it does what I want!"
   ]
  },
  {
   "cell_type": "code",
   "execution_count": null,
   "id": "5194fd8e",
   "metadata": {},
   "outputs": [],
   "source": [
    "for x in combinations(inputvars,2):\n",
    "    print(x)"
   ]
  },
  {
   "cell_type": "markdown",
   "id": "ee6d2e20",
   "metadata": {},
   "source": [
    "Here's some code stolen from the last few days to run linear regression on a subset of the input variables and get the *training error*. Note that this has no train/test split.  "
   ]
  },
  {
   "cell_type": "code",
   "execution_count": null,
   "id": "ad735fd8",
   "metadata": {},
   "outputs": [],
   "source": [
    "def myscore(df,listofvars, outputvar = 'mpg'):\n",
    "    '''\n",
    "    This code returns the training mean squared error of a linear regression model. No train test split or anything like that. \n",
    "    '''\n",
    "    if listofvars == 'null model':\n",
    "        # Predict the mean of the output variable for any input \n",
    "        yhat = np.full(auto.shape[0],np.average(auto.mpg))\n",
    "        return mean_squared_error(auto.mpg, yhat)\n",
    "    \n",
    "    else:\n",
    "        X = df[list(listofvars)]\n",
    "        y = df[outputvar]\n",
    "        \n",
    "        #build linear regression model\n",
    "        model = LinearRegression()\n",
    "        \n",
    "        # fit model\n",
    "        model.fit(X,y)\n",
    "\n",
    "        #predict y\n",
    "        ypred = model.predict(X)\n",
    "\n",
    "        #view mean absolute error\n",
    "        return mean_squared_error(y,ypred)\n",
    "    \n",
    "\n",
    "myvars = ('cylinders', 'acceleration')\n",
    "print(f\"MSE for the (cylinders, acceleration) model: {myscore(auto,myvars)}\")\n",
    "\n",
    "print(f\"MSE for the null model: {myscore(auto,'null model')}\")"
   ]
  },
  {
   "cell_type": "markdown",
   "id": "e2dd18fc",
   "metadata": {},
   "source": [
    "\n",
    "&#9989; **<font color=red>Do this:</font>** Modify the code below by  using the `myscore` function to get the training error for each possible model of size $k=2$.\n"
   ]
  },
  {
   "cell_type": "code",
   "execution_count": null,
   "id": "6db134f1",
   "metadata": {},
   "outputs": [],
   "source": [
    "def getBestModel_df(df, k=2, outputvar = 'mpg'):\n",
    "    '''\n",
    "    This function will return the best model for a given number of input variables\n",
    "    '''\n",
    "    myvars = []\n",
    "    myscores = []\n",
    "    \n",
    "    if k == 0:\n",
    "        return pd.DataFrame({'Vars':'null model', 'Train Score':[myscore(auto,'null model')]})\n",
    "    else:\n",
    "\n",
    "        for Xs in combinations(inputvars,k):\n",
    "            myvars.append(Xs) \n",
    "            myscores.append(None) #<--- Fix this None\n",
    "                \n",
    "        myResults = pd.DataFrame({'Vars':myvars, 'Train Score':myscores})\n",
    "        return myResults\n",
    "\n",
    "print(\"k = 2\")\n",
    "print(getBestModel_df(auto, k=2))\n",
    "print(\"\\n\")\n",
    "print(\"k = 0, so this is the null model\")\n",
    "print(getBestModel_df(auto, k=0))"
   ]
  },
  {
   "cell_type": "markdown",
   "id": "2cfaddc6",
   "metadata": {},
   "source": [
    "\n",
    "&#9989; **<font color=red>Q:</font>** What is $M_2$? That is, what is the set of variables that give the lowest training error over all sets of size 2? Write a command to pull this automatically from the table above. \n",
    "\n",
    "*Hint: the command `DataFrame.idxmin()` will give you the row index of the minimum entry in a pandas series.*\n"
   ]
  },
  {
   "cell_type": "code",
   "execution_count": null,
   "id": "20f2ab98",
   "metadata": {},
   "outputs": [],
   "source": [
    "# Your code here \n",
    "\n",
    "def getBestModel(df, k=2, outputvar = 'mpg'):\n",
    "    '''\n",
    "    This function will return the best model for a given number of input variables\n",
    "    '''\n",
    "    myResults = getBestModel_df(df, k, outputvar)\n",
    "    \n",
    "    # Add code here to find the index of the minimum training score, return variable names\n",
    "    M_k = None\n",
    "    return M_k\n",
    "\n",
    "print(getBestModel(auto, k=2))\n",
    "\n",
    "# Check to make sure this is right :-P\n",
    "getBestModel(auto, k=2) == ('horsepower', 'weight')"
   ]
  },
  {
   "cell_type": "markdown",
   "id": "e249cce3",
   "metadata": {},
   "source": [
    "Now, once we've found all the $M_k$, we want to return the best model using the *testing* error. So, here's a function that will take in a list of variables and give you the 5-fold CV score. "
   ]
  },
  {
   "cell_type": "code",
   "execution_count": null,
   "id": "559f4bb7",
   "metadata": {},
   "outputs": [],
   "source": [
    "def myscore_cv(df,listofvars, outputvar = 'mpg'):\n",
    "\n",
    "\n",
    "    if listofvars == 'null model':\n",
    "        # Predict the mean of the output variable for any input\n",
    "        test_scores = [] \n",
    "        for (train,test) in KFold(5).split(df):\n",
    "            y_train = df[outputvar].iloc[train]\n",
    "            y_test = df[outputvar].iloc[test]\n",
    "            yhat = np.full(y_test.shape[0],np.average(y_train))\n",
    "            test_scores.append(mean_squared_error(y_test, yhat))\n",
    "        return np.average(test_scores)\n",
    "    else:\n",
    "        X = df[list(listofvars)]\n",
    "        y = df[outputvar]\n",
    "        #build linear regression model\n",
    "        model = LinearRegression()\n",
    "        \n",
    "        #use 5-fold CV to evaluate model\n",
    "        scores = cross_val_score(model, X,y, \n",
    "                                scoring='neg_mean_squared_error',\n",
    "                                cv=5)\n",
    "\n",
    "        #view mean absolute error\n",
    "        return np.average(np.absolute(scores))\n",
    "    \n",
    "\n",
    "myvars = ('cylinders', 'acceleration')\n",
    "myscore_cv(auto,myvars)"
   ]
  },
  {
   "cell_type": "markdown",
   "id": "f3197a46",
   "metadata": {},
   "source": [
    "\n",
    "&#9989; **<font color=red>Do this:</font>** Put it all together. Finish the for loop that runs through $k=0$ to $k=5$, and gets the set of variables giving the best size $k$ model, and then computs the test error for each model. Which model would be returned by the best subset selection method? \n"
   ]
  },
  {
   "cell_type": "code",
   "execution_count": null,
   "id": "e1e0aac3",
   "metadata": {},
   "outputs": [],
   "source": [
    "\n",
    "for k in range(5):\n",
    "    M_k = None #<-- Use the getBestModel function here to get the list of variables\n",
    "    print(f\"Best {k} variable model: {M_k}\")\n",
    "    M_k_CV = 0 #<-- Use the myscore_cv function here to get the test error\n",
    "    print(f\"CV Score: {M_k_CV:0.3f}\")\n"
   ]
  },
  {
   "cell_type": "markdown",
   "id": "66f79113",
   "metadata": {},
   "source": [
    "\n",
    "\n",
    "-----\n",
    "### Congratulations, we're done!\n",
    "Initially created by Dr. Liz Munch, adapted by Dr. Mengsen Zhang, Michigan State University\n",
    "\n",
    "<a rel=\"license\" href=\"http://creativecommons.org/licenses/by-nc/4.0/\"><img alt=\"Creative Commons License\" style=\"border-width:0\" src=\"https://i.creativecommons.org/l/by-nc/4.0/88x31.png\" /></a><br />This work is licensed under a <a rel=\"license\" href=\"http://creativecommons.org/licenses/by-nc/4.0/\">Creative Commons Attribution-NonCommercial 4.0 International License</a>."
   ]
  },
  {
   "cell_type": "code",
   "execution_count": null,
   "id": "3fb8354f",
   "metadata": {},
   "outputs": [],
   "source": []
  }
 ],
 "metadata": {
  "kernelspec": {
   "display_name": "Python 3.12 (default)",
   "language": "python",
   "name": "python3"
  },
  "language_info": {
   "codemirror_mode": {
    "name": "ipython",
    "version": 3
   },
   "file_extension": ".py",
   "mimetype": "text/x-python",
   "name": "python",
   "nbconvert_exporter": "python",
   "pygments_lexer": "ipython3",
   "version": "3.12.11"
  }
 },
 "nbformat": 4,
 "nbformat_minor": 5
}
