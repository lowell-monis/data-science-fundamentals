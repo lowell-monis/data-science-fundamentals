{
 "cells": [
  {
   "cell_type": "markdown",
   "id": "4dfd68f5",
   "metadata": {},
   "source": [
    "# Jupyter Day 9 - Section 002\n",
    "## Lec 9 - Intro to Classification"
   ]
  },
  {
   "cell_type": "code",
   "execution_count": 1,
   "id": "3f2bdd6f",
   "metadata": {},
   "outputs": [],
   "source": [
    "# Standard imports\n",
    "import numpy as np \n",
    "import matplotlib.pyplot as plt\n",
    "import pandas as pd \n",
    "%matplotlib inline\n",
    "import seaborn as sns"
   ]
  },
  {
   "cell_type": "markdown",
   "id": "5461dc39",
   "metadata": {},
   "source": [
    "## Reading in the chicken or egg data"
   ]
  },
  {
   "cell_type": "markdown",
   "id": "cb8460cf",
   "metadata": {},
   "source": [
    "In this lab, we are going to try out the KNN classification described in class. First, we're going to load up our data. This data is 100% made up by Dr. Munch and the code can generate it can be found on the [DataSets page](../../../DataSets/DataSets.md). Based on two inputs $x_1$ and $x_2$, we get to predict whether we have a `chicken` or an `egg`. \n",
    "\n",
    "<!-- ![A scatter plot of the data set](../../DataSets/ChickenEgg.png) -->\n",
    "\n",
    "Go get the data from [the class website](../../../DataSets/DataSets.md) then run the following."
   ]
  },
  {
   "cell_type": "code",
   "execution_count": 2,
   "id": "e549978e",
   "metadata": {},
   "outputs": [
    {
     "data": {
      "text/html": [
       "<div>\n",
       "<style scoped>\n",
       "    .dataframe tbody tr th:only-of-type {\n",
       "        vertical-align: middle;\n",
       "    }\n",
       "\n",
       "    .dataframe tbody tr th {\n",
       "        vertical-align: top;\n",
       "    }\n",
       "\n",
       "    .dataframe thead th {\n",
       "        text-align: right;\n",
       "    }\n",
       "</style>\n",
       "<table border=\"1\" class=\"dataframe\">\n",
       "  <thead>\n",
       "    <tr style=\"text-align: right;\">\n",
       "      <th></th>\n",
       "      <th>x1</th>\n",
       "      <th>x2</th>\n",
       "      <th>Label</th>\n",
       "    </tr>\n",
       "  </thead>\n",
       "  <tbody>\n",
       "    <tr>\n",
       "      <th>0</th>\n",
       "      <td>-3.156478</td>\n",
       "      <td>-1.110356</td>\n",
       "      <td>chicken</td>\n",
       "    </tr>\n",
       "    <tr>\n",
       "      <th>1</th>\n",
       "      <td>-3.547711</td>\n",
       "      <td>0.438432</td>\n",
       "      <td>chicken</td>\n",
       "    </tr>\n",
       "    <tr>\n",
       "      <th>2</th>\n",
       "      <td>-6.243875</td>\n",
       "      <td>5.288547</td>\n",
       "      <td>chicken</td>\n",
       "    </tr>\n",
       "    <tr>\n",
       "      <th>3</th>\n",
       "      <td>-5.398701</td>\n",
       "      <td>4.044941</td>\n",
       "      <td>chicken</td>\n",
       "    </tr>\n",
       "    <tr>\n",
       "      <th>4</th>\n",
       "      <td>3.556318</td>\n",
       "      <td>4.750270</td>\n",
       "      <td>chicken</td>\n",
       "    </tr>\n",
       "    <tr>\n",
       "      <th>5</th>\n",
       "      <td>3.208898</td>\n",
       "      <td>-1.319343</td>\n",
       "      <td>chicken</td>\n",
       "    </tr>\n",
       "    <tr>\n",
       "      <th>6</th>\n",
       "      <td>6.486065</td>\n",
       "      <td>-3.953278</td>\n",
       "      <td>egg</td>\n",
       "    </tr>\n",
       "    <tr>\n",
       "      <th>7</th>\n",
       "      <td>-1.126397</td>\n",
       "      <td>3.032450</td>\n",
       "      <td>chicken</td>\n",
       "    </tr>\n",
       "    <tr>\n",
       "      <th>8</th>\n",
       "      <td>1.820567</td>\n",
       "      <td>-6.872025</td>\n",
       "      <td>egg</td>\n",
       "    </tr>\n",
       "    <tr>\n",
       "      <th>9</th>\n",
       "      <td>-2.601184</td>\n",
       "      <td>5.737621</td>\n",
       "      <td>chicken</td>\n",
       "    </tr>\n",
       "  </tbody>\n",
       "</table>\n",
       "</div>"
      ],
      "text/plain": [
       "         x1        x2    Label\n",
       "0 -3.156478 -1.110356  chicken\n",
       "1 -3.547711  0.438432  chicken\n",
       "2 -6.243875  5.288547  chicken\n",
       "3 -5.398701  4.044941  chicken\n",
       "4  3.556318  4.750270  chicken\n",
       "5  3.208898 -1.319343  chicken\n",
       "6  6.486065 -3.953278      egg\n",
       "7 -1.126397  3.032450  chicken\n",
       "8  1.820567 -6.872025      egg\n",
       "9 -2.601184  5.737621  chicken"
      ]
     },
     "execution_count": 2,
     "metadata": {},
     "output_type": "execute_result"
    }
   ],
   "source": [
    "Chick_df = pd.read_csv('../data/ChickenEgg.csv')\n",
    "Chick_df.head(10)"
   ]
  },
  {
   "cell_type": "markdown",
   "id": "ca60419a",
   "metadata": {},
   "source": [
    "The first step is always to do some data exploration. \n",
    "\n",
    "&#9989; **<font color=red>Do this:</font>** Draw a scatter plot of your data with the relevant labels. \n",
    "\n",
    "*Hint: There are many ways to do this, but `sns.scatterplot` often works the fastest, and if you set `hue` and/or `style` to the `Label` column, you should get the labels drawn as color and/or symbol.*\n"
   ]
  },
  {
   "cell_type": "code",
   "execution_count": 5,
   "id": "a30ff1b3",
   "metadata": {},
   "outputs": [
    {
     "data": {
      "text/plain": [
       "<Axes: xlabel='x1', ylabel='x2'>"
      ]
     },
     "execution_count": 5,
     "metadata": {},
     "output_type": "execute_result"
    },
    {
     "data": {
      "image/png": "[encoded data removed]",
      "text/plain": [
       "<Figure size 640x480 with 1 Axes>"
      ]
     },
     "metadata": {},
     "output_type": "display_data"
    }
   ],
   "source": [
    "sns.scatterplot(x='x1', y='x2', data=Chick_df, hue='Label')"
   ]
  },
  {
   "cell_type": "markdown",
   "id": "60a4804c",
   "metadata": {},
   "source": [
    "&#9989; **<font color=red>Do this:</font>** Based on your scatter plot, what you expect a KNN classifer with $k=1$ to predict for a data point at $(-4,4)$? What about at $(6,0)$?\n"
   ]
  },
  {
   "cell_type": "markdown",
   "id": "caafde6a",
   "metadata": {},
   "source": [
    "*(-4,4) would be chicken, and (6,0) would be egg at $k=1$.*"
   ]
  },
  {
   "cell_type": "markdown",
   "id": "94f2f50d",
   "metadata": {},
   "source": [
    "## KNN with `sklearn`"
   ]
  },
  {
   "cell_type": "markdown",
   "id": "468eb553",
   "metadata": {},
   "source": [
    "Ok, but let's be honest, no one is going to do this by hand everytime. Let's make `sklearn` do it for us!"
   ]
  },
  {
   "cell_type": "code",
   "execution_count": 6,
   "id": "0277d79c",
   "metadata": {},
   "outputs": [],
   "source": [
    "from sklearn.neighbors import KNeighborsClassifier"
   ]
  },
  {
   "cell_type": "markdown",
   "id": "887385e2",
   "metadata": {},
   "source": [
    "First, we're going to split our data into two pieces. The $X$ input variables, and the $Y$ output variable. "
   ]
  },
  {
   "cell_type": "code",
   "execution_count": 7,
   "id": "5bdc956a",
   "metadata": {},
   "outputs": [],
   "source": [
    "X = Chick_df.drop('Label', axis =1)\n",
    "y = Chick_df['Label']"
   ]
  },
  {
   "cell_type": "code",
   "execution_count": 8,
   "id": "a77aaf33",
   "metadata": {},
   "outputs": [
    {
     "data": {
      "text/html": [
       "<div>\n",
       "<style scoped>\n",
       "    .dataframe tbody tr th:only-of-type {\n",
       "        vertical-align: middle;\n",
       "    }\n",
       "\n",
       "    .dataframe tbody tr th {\n",
       "        vertical-align: top;\n",
       "    }\n",
       "\n",
       "    .dataframe thead th {\n",
       "        text-align: right;\n",
       "    }\n",
       "</style>\n",
       "<table border=\"1\" class=\"dataframe\">\n",
       "  <thead>\n",
       "    <tr style=\"text-align: right;\">\n",
       "      <th></th>\n",
       "      <th>x1</th>\n",
       "      <th>x2</th>\n",
       "    </tr>\n",
       "  </thead>\n",
       "  <tbody>\n",
       "    <tr>\n",
       "      <th>0</th>\n",
       "      <td>-3.156478</td>\n",
       "      <td>-1.110356</td>\n",
       "    </tr>\n",
       "    <tr>\n",
       "      <th>1</th>\n",
       "      <td>-3.547711</td>\n",
       "      <td>0.438432</td>\n",
       "    </tr>\n",
       "    <tr>\n",
       "      <th>2</th>\n",
       "      <td>-6.243875</td>\n",
       "      <td>5.288547</td>\n",
       "    </tr>\n",
       "    <tr>\n",
       "      <th>3</th>\n",
       "      <td>-5.398701</td>\n",
       "      <td>4.044941</td>\n",
       "    </tr>\n",
       "    <tr>\n",
       "      <th>4</th>\n",
       "      <td>3.556318</td>\n",
       "      <td>4.750270</td>\n",
       "    </tr>\n",
       "  </tbody>\n",
       "</table>\n",
       "</div>"
      ],
      "text/plain": [
       "         x1        x2\n",
       "0 -3.156478 -1.110356\n",
       "1 -3.547711  0.438432\n",
       "2 -6.243875  5.288547\n",
       "3 -5.398701  4.044941\n",
       "4  3.556318  4.750270"
      ]
     },
     "execution_count": 8,
     "metadata": {},
     "output_type": "execute_result"
    }
   ],
   "source": [
    "X.head()"
   ]
  },
  {
   "cell_type": "code",
   "execution_count": 9,
   "id": "84228f86",
   "metadata": {},
   "outputs": [
    {
     "data": {
      "text/plain": [
       "0    chicken\n",
       "1    chicken\n",
       "2    chicken\n",
       "3    chicken\n",
       "4    chicken\n",
       "5    chicken\n",
       "6        egg\n",
       "7    chicken\n",
       "8        egg\n",
       "9    chicken\n",
       "Name: Label, dtype: object"
      ]
     },
     "execution_count": 9,
     "metadata": {},
     "output_type": "execute_result"
    }
   ],
   "source": [
    "y.head(10)"
   ]
  },
  {
   "cell_type": "markdown",
   "id": "8775a7b3",
   "metadata": {},
   "source": [
    "Then the following code trains our classifier. "
   ]
  },
  {
   "cell_type": "code",
   "execution_count": 10,
   "id": "4c56001d",
   "metadata": {},
   "outputs": [
    {
     "data": {
      "text/html": [
       "<style>#sk-container-id-1 {\n",
       "  /* Definition of color scheme common for light and dark mode */\n",
       "  --sklearn-color-text: #000;\n",
       "  --sklearn-color-text-muted: #666;\n",
       "  --sklearn-color-line: gray;\n",
       "  /* Definition of color scheme for unfitted estimators */\n",
       "  --sklearn-color-unfitted-level-0: #fff5e6;\n",
       "  --sklearn-color-unfitted-level-1: #f6e4d2;\n",
       "  --sklearn-color-unfitted-level-2: #ffe0b3;\n",
       "  --sklearn-color-unfitted-level-3: chocolate;\n",
       "  /* Definition of color scheme for fitted estimators */\n",
       "  --sklearn-color-fitted-level-0: #f0f8ff;\n",
       "  --sklearn-color-fitted-level-1: #d4ebff;\n",
       "  --sklearn-color-fitted-level-2: #b3dbfd;\n",
       "  --sklearn-color-fitted-level-3: cornflowerblue;\n",
       "\n",
       "  /* Specific color for light theme */\n",
       "  --sklearn-color-text-on-default-background: var(--sg-text-color, var(--theme-code-foreground, var(--jp-content-font-color1, black)));\n",
       "  --sklearn-color-background: var(--sg-background-color, var(--theme-background, var(--jp-layout-color0, white)));\n",
       "  --sklearn-color-border-box: var(--sg-text-color, var(--theme-code-foreground, var(--jp-content-font-color1, black)));\n",
       "  --sklearn-color-icon: #696969;\n",
       "\n",
       "  @media (prefers-color-scheme: dark) {\n",
       "    /* Redefinition of color scheme for dark theme */\n",
       "    --sklearn-color-text-on-default-background: var(--sg-text-color, var(--theme-code-foreground, var(--jp-content-font-color1, white)));\n",
       "    --sklearn-color-background: var(--sg-background-color, var(--theme-background, var(--jp-layout-color0, #111)));\n",
       "    --sklearn-color-border-box: var(--sg-text-color, var(--theme-code-foreground, var(--jp-content-font-color1, white)));\n",
       "    --sklearn-color-icon: #878787;\n",
       "  }\n",
       "}\n",
       "\n",
       "#sk-container-id-1 {\n",
       "  color: var(--sklearn-color-text);\n",
       "}\n",
       "\n",
       "#sk-container-id-1 pre {\n",
       "  padding: 0;\n",
       "}\n",
       "\n",
       "#sk-container-id-1 input.sk-hidden--visually {\n",
       "  border: 0;\n",
       "  clip: rect(1px 1px 1px 1px);\n",
       "  clip: rect(1px, 1px, 1px, 1px);\n",
       "  height: 1px;\n",
       "  margin: -1px;\n",
       "  overflow: hidden;\n",
       "  padding: 0;\n",
       "  position: absolute;\n",
       "  width: 1px;\n",
       "}\n",
       "\n",
       "#sk-container-id-1 div.sk-dashed-wrapped {\n",
       "  border: 1px dashed var(--sklearn-color-line);\n",
       "  margin: 0 0.4em 0.5em 0.4em;\n",
       "  box-sizing: border-box;\n",
       "  padding-bottom: 0.4em;\n",
       "  background-color: var(--sklearn-color-background);\n",
       "}\n",
       "\n",
       "#sk-container-id-1 div.sk-container {\n",
       "  /* jupyter's `normalize.less` sets `[hidden] { display: none; }`\n",
       "     but bootstrap.min.css set `[hidden] { display: none !important; }`\n",
       "     so we also need the `!important` here to be able to override the\n",
       "     default hidden behavior on the sphinx rendered scikit-learn.org.\n",
       "     See: https://github.com/scikit-learn/scikit-learn/issues/21755 */\n",
       "  display: inline-block !important;\n",
       "  position: relative;\n",
       "}\n",
       "\n",
       "#sk-container-id-1 div.sk-text-repr-fallback {\n",
       "  display: none;\n",
       "}\n",
       "\n",
       "div.sk-parallel-item,\n",
       "div.sk-serial,\n",
       "div.sk-item {\n",
       "  /* draw centered vertical line to link estimators */\n",
       "  background-image: linear-gradient(var(--sklearn-color-text-on-default-background), var(--sklearn-color-text-on-default-background));\n",
       "  background-size: 2px 100%;\n",
       "  background-repeat: no-repeat;\n",
       "  background-position: center center;\n",
       "}\n",
       "\n",
       "/* Parallel-specific style estimator block */\n",
       "\n",
       "#sk-container-id-1 div.sk-parallel-item::after {\n",
       "  content: \"\";\n",
       "  width: 100%;\n",
       "  border-bottom: 2px solid var(--sklearn-color-text-on-default-background);\n",
       "  flex-grow: 1;\n",
       "}\n",
       "\n",
       "#sk-container-id-1 div.sk-parallel {\n",
       "  display: flex;\n",
       "  align-items: stretch;\n",
       "  justify-content: center;\n",
       "  background-color: var(--sklearn-color-background);\n",
       "  position: relative;\n",
       "}\n",
       "\n",
       "#sk-container-id-1 div.sk-parallel-item {\n",
       "  display: flex;\n",
       "  flex-direction: column;\n",
       "}\n",
       "\n",
       "#sk-container-id-1 div.sk-parallel-item:first-child::after {\n",
       "  align-self: flex-end;\n",
       "  width: 50%;\n",
       "}\n",
       "\n",
       "#sk-container-id-1 div.sk-parallel-item:last-child::after {\n",
       "  align-self: flex-start;\n",
       "  width: 50%;\n",
       "}\n",
       "\n",
       "#sk-container-id-1 div.sk-parallel-item:only-child::after {\n",
       "  width: 0;\n",
       "}\n",
       "\n",
       "/* Serial-specific style estimator block */\n",
       "\n",
       "#sk-container-id-1 div.sk-serial {\n",
       "  display: flex;\n",
       "  flex-direction: column;\n",
       "  align-items: center;\n",
       "  background-color: var(--sklearn-color-background);\n",
       "  padding-right: 1em;\n",
       "  padding-left: 1em;\n",
       "}\n",
       "\n",
       "\n",
       "/* Toggleable style: style used for estimator/Pipeline/ColumnTransformer box that is\n",
       "clickable and can be expanded/collapsed.\n",
       "- Pipeline and ColumnTransformer use this feature and define the default style\n",
       "- Estimators will overwrite some part of the style using the `sk-estimator` class\n",
       "*/\n",
       "\n",
       "/* Pipeline and ColumnTransformer style (default) */\n",
       "\n",
       "#sk-container-id-1 div.sk-toggleable {\n",
       "  /* Default theme specific background. It is overwritten whether we have a\n",
       "  specific estimator or a Pipeline/ColumnTransformer */\n",
       "  background-color: var(--sklearn-color-background);\n",
       "}\n",
       "\n",
       "/* Toggleable label */\n",
       "#sk-container-id-1 label.sk-toggleable__label {\n",
       "  cursor: pointer;\n",
       "  display: flex;\n",
       "  width: 100%;\n",
       "  margin-bottom: 0;\n",
       "  padding: 0.5em;\n",
       "  box-sizing: border-box;\n",
       "  text-align: center;\n",
       "  align-items: start;\n",
       "  justify-content: space-between;\n",
       "  gap: 0.5em;\n",
       "}\n",
       "\n",
       "#sk-container-id-1 label.sk-toggleable__label .caption {\n",
       "  font-size: 0.6rem;\n",
       "  font-weight: lighter;\n",
       "  color: var(--sklearn-color-text-muted);\n",
       "}\n",
       "\n",
       "#sk-container-id-1 label.sk-toggleable__label-arrow:before {\n",
       "  /* Arrow on the left of the label */\n",
       "  content: \"▸\";\n",
       "  float: left;\n",
       "  margin-right: 0.25em;\n",
       "  color: var(--sklearn-color-icon);\n",
       "}\n",
       "\n",
       "#sk-container-id-1 label.sk-toggleable__label-arrow:hover:before {\n",
       "  color: var(--sklearn-color-text);\n",
       "}\n",
       "\n",
       "/* Toggleable content - dropdown */\n",
       "\n",
       "#sk-container-id-1 div.sk-toggleable__content {\n",
       "  display: none;\n",
       "  text-align: left;\n",
       "  /* unfitted */\n",
       "  background-color: var(--sklearn-color-unfitted-level-0);\n",
       "}\n",
       "\n",
       "#sk-container-id-1 div.sk-toggleable__content.fitted {\n",
       "  /* fitted */\n",
       "  background-color: var(--sklearn-color-fitted-level-0);\n",
       "}\n",
       "\n",
       "#sk-container-id-1 div.sk-toggleable__content pre {\n",
       "  margin: 0.2em;\n",
       "  border-radius: 0.25em;\n",
       "  color: var(--sklearn-color-text);\n",
       "  /* unfitted */\n",
       "  background-color: var(--sklearn-color-unfitted-level-0);\n",
       "}\n",
       "\n",
       "#sk-container-id-1 div.sk-toggleable__content.fitted pre {\n",
       "  /* unfitted */\n",
       "  background-color: var(--sklearn-color-fitted-level-0);\n",
       "}\n",
       "\n",
       "#sk-container-id-1 input.sk-toggleable__control:checked~div.sk-toggleable__content {\n",
       "  /* Expand drop-down */\n",
       "  display: block;\n",
       "  width: 100%;\n",
       "  overflow: visible;\n",
       "}\n",
       "\n",
       "#sk-container-id-1 input.sk-toggleable__control:checked~label.sk-toggleable__label-arrow:before {\n",
       "  content: \"▾\";\n",
       "}\n",
       "\n",
       "/* Pipeline/ColumnTransformer-specific style */\n",
       "\n",
       "#sk-container-id-1 div.sk-label input.sk-toggleable__control:checked~label.sk-toggleable__label {\n",
       "  color: var(--sklearn-color-text);\n",
       "  background-color: var(--sklearn-color-unfitted-level-2);\n",
       "}\n",
       "\n",
       "#sk-container-id-1 div.sk-label.fitted input.sk-toggleable__control:checked~label.sk-toggleable__label {\n",
       "  background-color: var(--sklearn-color-fitted-level-2);\n",
       "}\n",
       "\n",
       "/* Estimator-specific style */\n",
       "\n",
       "/* Colorize estimator box */\n",
       "#sk-container-id-1 div.sk-estimator input.sk-toggleable__control:checked~label.sk-toggleable__label {\n",
       "  /* unfitted */\n",
       "  background-color: var(--sklearn-color-unfitted-level-2);\n",
       "}\n",
       "\n",
       "#sk-container-id-1 div.sk-estimator.fitted input.sk-toggleable__control:checked~label.sk-toggleable__label {\n",
       "  /* fitted */\n",
       "  background-color: var(--sklearn-color-fitted-level-2);\n",
       "}\n",
       "\n",
       "#sk-container-id-1 div.sk-label label.sk-toggleable__label,\n",
       "#sk-container-id-1 div.sk-label label {\n",
       "  /* The background is the default theme color */\n",
       "  color: var(--sklearn-color-text-on-default-background);\n",
       "}\n",
       "\n",
       "/* On hover, darken the color of the background */\n",
       "#sk-container-id-1 div.sk-label:hover label.sk-toggleable__label {\n",
       "  color: var(--sklearn-color-text);\n",
       "  background-color: var(--sklearn-color-unfitted-level-2);\n",
       "}\n",
       "\n",
       "/* Label box, darken color on hover, fitted */\n",
       "#sk-container-id-1 div.sk-label.fitted:hover label.sk-toggleable__label.fitted {\n",
       "  color: var(--sklearn-color-text);\n",
       "  background-color: var(--sklearn-color-fitted-level-2);\n",
       "}\n",
       "\n",
       "/* Estimator label */\n",
       "\n",
       "#sk-container-id-1 div.sk-label label {\n",
       "  font-family: monospace;\n",
       "  font-weight: bold;\n",
       "  display: inline-block;\n",
       "  line-height: 1.2em;\n",
       "}\n",
       "\n",
       "#sk-container-id-1 div.sk-label-container {\n",
       "  text-align: center;\n",
       "}\n",
       "\n",
       "/* Estimator-specific */\n",
       "#sk-container-id-1 div.sk-estimator {\n",
       "  font-family: monospace;\n",
       "  border: 1px dotted var(--sklearn-color-border-box);\n",
       "  border-radius: 0.25em;\n",
       "  box-sizing: border-box;\n",
       "  margin-bottom: 0.5em;\n",
       "  /* unfitted */\n",
       "  background-color: var(--sklearn-color-unfitted-level-0);\n",
       "}\n",
       "\n",
       "#sk-container-id-1 div.sk-estimator.fitted {\n",
       "  /* fitted */\n",
       "  background-color: var(--sklearn-color-fitted-level-0);\n",
       "}\n",
       "\n",
       "/* on hover */\n",
       "#sk-container-id-1 div.sk-estimator:hover {\n",
       "  /* unfitted */\n",
       "  background-color: var(--sklearn-color-unfitted-level-2);\n",
       "}\n",
       "\n",
       "#sk-container-id-1 div.sk-estimator.fitted:hover {\n",
       "  /* fitted */\n",
       "  background-color: var(--sklearn-color-fitted-level-2);\n",
       "}\n",
       "\n",
       "/* Specification for estimator info (e.g. \"i\" and \"?\") */\n",
       "\n",
       "/* Common style for \"i\" and \"?\" */\n",
       "\n",
       ".sk-estimator-doc-link,\n",
       "a:link.sk-estimator-doc-link,\n",
       "a:visited.sk-estimator-doc-link {\n",
       "  float: right;\n",
       "  font-size: smaller;\n",
       "  line-height: 1em;\n",
       "  font-family: monospace;\n",
       "  background-color: var(--sklearn-color-background);\n",
       "  border-radius: 1em;\n",
       "  height: 1em;\n",
       "  width: 1em;\n",
       "  text-decoration: none !important;\n",
       "  margin-left: 0.5em;\n",
       "  text-align: center;\n",
       "  /* unfitted */\n",
       "  border: var(--sklearn-color-unfitted-level-1) 1pt solid;\n",
       "  color: var(--sklearn-color-unfitted-level-1);\n",
       "}\n",
       "\n",
       ".sk-estimator-doc-link.fitted,\n",
       "a:link.sk-estimator-doc-link.fitted,\n",
       "a:visited.sk-estimator-doc-link.fitted {\n",
       "  /* fitted */\n",
       "  border: var(--sklearn-color-fitted-level-1) 1pt solid;\n",
       "  color: var(--sklearn-color-fitted-level-1);\n",
       "}\n",
       "\n",
       "/* On hover */\n",
       "div.sk-estimator:hover .sk-estimator-doc-link:hover,\n",
       ".sk-estimator-doc-link:hover,\n",
       "div.sk-label-container:hover .sk-estimator-doc-link:hover,\n",
       ".sk-estimator-doc-link:hover {\n",
       "  /* unfitted */\n",
       "  background-color: var(--sklearn-color-unfitted-level-3);\n",
       "  color: var(--sklearn-color-background);\n",
       "  text-decoration: none;\n",
       "}\n",
       "\n",
       "div.sk-estimator.fitted:hover .sk-estimator-doc-link.fitted:hover,\n",
       ".sk-estimator-doc-link.fitted:hover,\n",
       "div.sk-label-container:hover .sk-estimator-doc-link.fitted:hover,\n",
       ".sk-estimator-doc-link.fitted:hover {\n",
       "  /* fitted */\n",
       "  background-color: var(--sklearn-color-fitted-level-3);\n",
       "  color: var(--sklearn-color-background);\n",
       "  text-decoration: none;\n",
       "}\n",
       "\n",
       "/* Span, style for the box shown on hovering the info icon */\n",
       ".sk-estimator-doc-link span {\n",
       "  display: none;\n",
       "  z-index: 9999;\n",
       "  position: relative;\n",
       "  font-weight: normal;\n",
       "  right: .2ex;\n",
       "  padding: .5ex;\n",
       "  margin: .5ex;\n",
       "  width: min-content;\n",
       "  min-width: 20ex;\n",
       "  max-width: 50ex;\n",
       "  color: var(--sklearn-color-text);\n",
       "  box-shadow: 2pt 2pt 4pt #999;\n",
       "  /* unfitted */\n",
       "  background: var(--sklearn-color-unfitted-level-0);\n",
       "  border: .5pt solid var(--sklearn-color-unfitted-level-3);\n",
       "}\n",
       "\n",
       ".sk-estimator-doc-link.fitted span {\n",
       "  /* fitted */\n",
       "  background: var(--sklearn-color-fitted-level-0);\n",
       "  border: var(--sklearn-color-fitted-level-3);\n",
       "}\n",
       "\n",
       ".sk-estimator-doc-link:hover span {\n",
       "  display: block;\n",
       "}\n",
       "\n",
       "/* \"?\"-specific style due to the `<a>` HTML tag */\n",
       "\n",
       "#sk-container-id-1 a.estimator_doc_link {\n",
       "  float: right;\n",
       "  font-size: 1rem;\n",
       "  line-height: 1em;\n",
       "  font-family: monospace;\n",
       "  background-color: var(--sklearn-color-background);\n",
       "  border-radius: 1rem;\n",
       "  height: 1rem;\n",
       "  width: 1rem;\n",
       "  text-decoration: none;\n",
       "  /* unfitted */\n",
       "  color: var(--sklearn-color-unfitted-level-1);\n",
       "  border: var(--sklearn-color-unfitted-level-1) 1pt solid;\n",
       "}\n",
       "\n",
       "#sk-container-id-1 a.estimator_doc_link.fitted {\n",
       "  /* fitted */\n",
       "  border: var(--sklearn-color-fitted-level-1) 1pt solid;\n",
       "  color: var(--sklearn-color-fitted-level-1);\n",
       "}\n",
       "\n",
       "/* On hover */\n",
       "#sk-container-id-1 a.estimator_doc_link:hover {\n",
       "  /* unfitted */\n",
       "  background-color: var(--sklearn-color-unfitted-level-3);\n",
       "  color: var(--sklearn-color-background);\n",
       "  text-decoration: none;\n",
       "}\n",
       "\n",
       "#sk-container-id-1 a.estimator_doc_link.fitted:hover {\n",
       "  /* fitted */\n",
       "  background-color: var(--sklearn-color-fitted-level-3);\n",
       "}\n",
       "\n",
       ".estimator-table summary {\n",
       "    padding: .5rem;\n",
       "    font-family: monospace;\n",
       "    cursor: pointer;\n",
       "}\n",
       "\n",
       ".estimator-table details[open] {\n",
       "    padding-left: 0.1rem;\n",
       "    padding-right: 0.1rem;\n",
       "    padding-bottom: 0.3rem;\n",
       "}\n",
       "\n",
       ".estimator-table .parameters-table {\n",
       "    margin-left: auto !important;\n",
       "    margin-right: auto !important;\n",
       "}\n",
       "\n",
       ".estimator-table .parameters-table tr:nth-child(odd) {\n",
       "    background-color: #fff;\n",
       "}\n",
       "\n",
       ".estimator-table .parameters-table tr:nth-child(even) {\n",
       "    background-color: #f6f6f6;\n",
       "}\n",
       "\n",
       ".estimator-table .parameters-table tr:hover {\n",
       "    background-color: #e0e0e0;\n",
       "}\n",
       "\n",
       ".estimator-table table td {\n",
       "    border: 1px solid rgba(106, 105, 104, 0.232);\n",
       "}\n",
       "\n",
       ".user-set td {\n",
       "    color:rgb(255, 94, 0);\n",
       "    text-align: left;\n",
       "}\n",
       "\n",
       ".user-set td.value pre {\n",
       "    color:rgb(255, 94, 0) !important;\n",
       "    background-color: transparent !important;\n",
       "}\n",
       "\n",
       ".default td {\n",
       "    color: black;\n",
       "    text-align: left;\n",
       "}\n",
       "\n",
       ".user-set td i,\n",
       ".default td i {\n",
       "    color: black;\n",
       "}\n",
       "\n",
       ".copy-paste-icon {\n",
       "    background-image: url(data:image/svg+xml;base64,PHN2ZyB4bWxucz0iaHR0cDovL3d3dy53My5vcmcvMjAwMC9zdmciIHZpZXdCb3g9IjAgMCA0NDggNTEyIj48IS0tIUZvbnQgQXdlc29tZSBGcmVlIDYuNy4yIGJ5IEBmb250YXdlc29tZSAtIGh0dHBzOi8vZm9udGF3ZXNvbWUuY29tIExpY2Vuc2UgLSBodHRwczovL2ZvbnRhd2Vzb21lLmNvbS9saWNlbnNlL2ZyZWUgQ29weXJpZ2h0IDIwMjUgRm9udGljb25zLCBJbmMuLS0+PHBhdGggZD0iTTIwOCAwTDMzMi4xIDBjMTIuNyAwIDI0LjkgNS4xIDMzLjkgMTQuMWw2Ny45IDY3LjljOSA5IDE0LjEgMjEuMiAxNC4xIDMzLjlMNDQ4IDMzNmMwIDI2LjUtMjEuNSA0OC00OCA0OGwtMTkyIDBjLTI2LjUgMC00OC0yMS41LTQ4LTQ4bDAtMjg4YzAtMjYuNSAyMS41LTQ4IDQ4LTQ4ek00OCAxMjhsODAgMCAwIDY0LTY0IDAgMCAyNTYgMTkyIDAgMC0zMiA2NCAwIDAgNDhjMCAyNi41LTIxLjUgNDgtNDggNDhMNDggNTEyYy0yNi41IDAtNDgtMjEuNS00OC00OEwwIDE3NmMwLTI2LjUgMjEuNS00OCA0OC00OHoiLz48L3N2Zz4=);\n",
       "    background-repeat: no-repeat;\n",
       "    background-size: 14px 14px;\n",
       "    background-position: 0;\n",
       "    display: inline-block;\n",
       "    width: 14px;\n",
       "    height: 14px;\n",
       "    cursor: pointer;\n",
       "}\n",
       "</style><body><div id=\"sk-container-id-1\" class=\"sk-top-container\"><div class=\"sk-text-repr-fallback\"><pre>KNeighborsClassifier(n_neighbors=1)</pre><b>In a Jupyter environment, please rerun this cell to show the HTML representation or trust the notebook. <br />On GitHub, the HTML representation is unable to render, please try loading this page with nbviewer.org.</b></div><div class=\"sk-container\" hidden><div class=\"sk-item\"><div class=\"sk-estimator fitted sk-toggleable\"><input class=\"sk-toggleable__control sk-hidden--visually\" id=\"sk-estimator-id-1\" type=\"checkbox\" checked><label for=\"sk-estimator-id-1\" class=\"sk-toggleable__label fitted sk-toggleable__label-arrow\"><div><div>KNeighborsClassifier</div></div><div><a class=\"sk-estimator-doc-link fitted\" rel=\"noreferrer\" target=\"_blank\" href=\"https://scikit-learn.org/1.7/modules/generated/sklearn.neighbors.KNeighborsClassifier.html\">?<span>Documentation for KNeighborsClassifier</span></a><span class=\"sk-estimator-doc-link fitted\">i<span>Fitted</span></span></div></label><div class=\"sk-toggleable__content fitted\" data-param-prefix=\"\">\n",
       "        <div class=\"estimator-table\">\n",
       "            <details>\n",
       "                <summary>Parameters</summary>\n",
       "                <table class=\"parameters-table\">\n",
       "                  <tbody>\n",
       "                    \n",
       "        <tr class=\"user-set\">\n",
       "            <td><i class=\"copy-paste-icon\"\n",
       "                 onclick=\"copyToClipboard('n_neighbors',\n",
       "                          this.parentElement.nextElementSibling)\"\n",
       "            ></i></td>\n",
       "            <td class=\"param\">n_neighbors&nbsp;</td>\n",
       "            <td class=\"value\">1</td>\n",
       "        </tr>\n",
       "    \n",
       "\n",
       "        <tr class=\"default\">\n",
       "            <td><i class=\"copy-paste-icon\"\n",
       "                 onclick=\"copyToClipboard('weights',\n",
       "                          this.parentElement.nextElementSibling)\"\n",
       "            ></i></td>\n",
       "            <td class=\"param\">weights&nbsp;</td>\n",
       "            <td class=\"value\">&#x27;uniform&#x27;</td>\n",
       "        </tr>\n",
       "    \n",
       "\n",
       "        <tr class=\"default\">\n",
       "            <td><i class=\"copy-paste-icon\"\n",
       "                 onclick=\"copyToClipboard('algorithm',\n",
       "                          this.parentElement.nextElementSibling)\"\n",
       "            ></i></td>\n",
       "            <td class=\"param\">algorithm&nbsp;</td>\n",
       "            <td class=\"value\">&#x27;auto&#x27;</td>\n",
       "        </tr>\n",
       "    \n",
       "\n",
       "        <tr class=\"default\">\n",
       "            <td><i class=\"copy-paste-icon\"\n",
       "                 onclick=\"copyToClipboard('leaf_size',\n",
       "                          this.parentElement.nextElementSibling)\"\n",
       "            ></i></td>\n",
       "            <td class=\"param\">leaf_size&nbsp;</td>\n",
       "            <td class=\"value\">30</td>\n",
       "        </tr>\n",
       "    \n",
       "\n",
       "        <tr class=\"default\">\n",
       "            <td><i class=\"copy-paste-icon\"\n",
       "                 onclick=\"copyToClipboard('p',\n",
       "                          this.parentElement.nextElementSibling)\"\n",
       "            ></i></td>\n",
       "            <td class=\"param\">p&nbsp;</td>\n",
       "            <td class=\"value\">2</td>\n",
       "        </tr>\n",
       "    \n",
       "\n",
       "        <tr class=\"default\">\n",
       "            <td><i class=\"copy-paste-icon\"\n",
       "                 onclick=\"copyToClipboard('metric',\n",
       "                          this.parentElement.nextElementSibling)\"\n",
       "            ></i></td>\n",
       "            <td class=\"param\">metric&nbsp;</td>\n",
       "            <td class=\"value\">&#x27;minkowski&#x27;</td>\n",
       "        </tr>\n",
       "    \n",
       "\n",
       "        <tr class=\"default\">\n",
       "            <td><i class=\"copy-paste-icon\"\n",
       "                 onclick=\"copyToClipboard('metric_params',\n",
       "                          this.parentElement.nextElementSibling)\"\n",
       "            ></i></td>\n",
       "            <td class=\"param\">metric_params&nbsp;</td>\n",
       "            <td class=\"value\">None</td>\n",
       "        </tr>\n",
       "    \n",
       "\n",
       "        <tr class=\"default\">\n",
       "            <td><i class=\"copy-paste-icon\"\n",
       "                 onclick=\"copyToClipboard('n_jobs',\n",
       "                          this.parentElement.nextElementSibling)\"\n",
       "            ></i></td>\n",
       "            <td class=\"param\">n_jobs&nbsp;</td>\n",
       "            <td class=\"value\">None</td>\n",
       "        </tr>\n",
       "    \n",
       "                  </tbody>\n",
       "                </table>\n",
       "            </details>\n",
       "        </div>\n",
       "    </div></div></div></div></div><script>function copyToClipboard(text, element) {\n",
       "    // Get the parameter prefix from the closest toggleable content\n",
       "    const toggleableContent = element.closest('.sk-toggleable__content');\n",
       "    const paramPrefix = toggleableContent ? toggleableContent.dataset.paramPrefix : '';\n",
       "    const fullParamName = paramPrefix ? `${paramPrefix}${text}` : text;\n",
       "\n",
       "    const originalStyle = element.style;\n",
       "    const computedStyle = window.getComputedStyle(element);\n",
       "    const originalWidth = computedStyle.width;\n",
       "    const originalHTML = element.innerHTML.replace('Copied!', '');\n",
       "\n",
       "    navigator.clipboard.writeText(fullParamName)\n",
       "        .then(() => {\n",
       "            element.style.width = originalWidth;\n",
       "            element.style.color = 'green';\n",
       "            element.innerHTML = \"Copied!\";\n",
       "\n",
       "            setTimeout(() => {\n",
       "                element.innerHTML = originalHTML;\n",
       "                element.style = originalStyle;\n",
       "            }, 2000);\n",
       "        })\n",
       "        .catch(err => {\n",
       "            console.error('Failed to copy:', err);\n",
       "            element.style.color = 'red';\n",
       "            element.innerHTML = \"Failed!\";\n",
       "            setTimeout(() => {\n",
       "                element.innerHTML = originalHTML;\n",
       "                element.style = originalStyle;\n",
       "            }, 2000);\n",
       "        });\n",
       "    return false;\n",
       "}\n",
       "\n",
       "document.querySelectorAll('.fa-regular.fa-copy').forEach(function(element) {\n",
       "    const toggleableContent = element.closest('.sk-toggleable__content');\n",
       "    const paramPrefix = toggleableContent ? toggleableContent.dataset.paramPrefix : '';\n",
       "    const paramName = element.parentElement.nextElementSibling.textContent.trim();\n",
       "    const fullParamName = paramPrefix ? `${paramPrefix}${paramName}` : paramName;\n",
       "\n",
       "    element.setAttribute('title', fullParamName);\n",
       "});\n",
       "</script></body>"
      ],
      "text/plain": [
       "KNeighborsClassifier(n_neighbors=1)"
      ]
     },
     "execution_count": 10,
     "metadata": {},
     "output_type": "execute_result"
    }
   ],
   "source": [
    "knn = KNeighborsClassifier(n_neighbors=1)\n",
    "knn.fit(X,y)"
   ]
  },
  {
   "cell_type": "markdown",
   "id": "76ad7ca2",
   "metadata": {},
   "source": [
    "...and this command provides a prediction for an input of  $(-2,3)$ input. "
   ]
  },
  {
   "cell_type": "code",
   "execution_count": 11,
   "id": "544ff516",
   "metadata": {},
   "outputs": [
    {
     "name": "stderr",
     "output_type": "stream",
     "text": [
      "/opt/miniconda3/lib/python3.12/site-packages/sklearn/utils/validation.py:2749: UserWarning: X does not have valid feature names, but KNeighborsClassifier was fitted with feature names\n",
      "  warnings.warn(\n"
     ]
    },
    {
     "data": {
      "text/plain": [
       "array(['chicken'], dtype=object)"
      ]
     },
     "execution_count": 11,
     "metadata": {},
     "output_type": "execute_result"
    }
   ],
   "source": [
    "knn.predict([[-2,3]])"
   ]
  },
  {
   "cell_type": "markdown",
   "id": "954a17fc",
   "metadata": {},
   "source": [
    "&#9989; **<font color=red>Do this:</font>** What does your classifier predict for $(-4,4)$? What about at $(6,0)$? Are these the same that you guessed above? \n"
   ]
  },
  {
   "cell_type": "code",
   "execution_count": 12,
   "id": "b9c17044",
   "metadata": {},
   "outputs": [
    {
     "name": "stderr",
     "output_type": "stream",
     "text": [
      "/opt/miniconda3/lib/python3.12/site-packages/sklearn/utils/validation.py:2749: UserWarning: X does not have valid feature names, but KNeighborsClassifier was fitted with feature names\n",
      "  warnings.warn(\n"
     ]
    },
    {
     "data": {
      "text/plain": [
       "array(['chicken'], dtype=object)"
      ]
     },
     "execution_count": 12,
     "metadata": {},
     "output_type": "execute_result"
    }
   ],
   "source": [
    "knn.predict([[-4,4]])"
   ]
  },
  {
   "cell_type": "code",
   "execution_count": 13,
   "id": "7981b014-b639-4254-a39c-e7d66aa3daca",
   "metadata": {},
   "outputs": [
    {
     "name": "stderr",
     "output_type": "stream",
     "text": [
      "/opt/miniconda3/lib/python3.12/site-packages/sklearn/utils/validation.py:2749: UserWarning: X does not have valid feature names, but KNeighborsClassifier was fitted with feature names\n",
      "  warnings.warn(\n"
     ]
    },
    {
     "data": {
      "text/plain": [
       "array(['egg'], dtype=object)"
      ]
     },
     "execution_count": 13,
     "metadata": {},
     "output_type": "execute_result"
    }
   ],
   "source": [
    "knn.predict([[6,0]])"
   ]
  },
  {
   "cell_type": "markdown",
   "id": "378f585d",
   "metadata": {},
   "source": [
    "This predict function is pretty powerful. If I want to get all predictions for all of my inputs, I can just pass my $X$ dataframe."
   ]
  },
  {
   "cell_type": "code",
   "execution_count": 14,
   "id": "12cdd9d3",
   "metadata": {},
   "outputs": [
    {
     "data": {
      "text/plain": [
       "array(['chicken', 'chicken', 'chicken', 'chicken', 'chicken', 'chicken',\n",
       "       'egg', 'chicken', 'egg', 'chicken', 'egg', 'egg', 'chicken', 'egg',\n",
       "       'egg', 'chicken', 'chicken', 'chicken', 'egg', 'egg', 'egg',\n",
       "       'chicken', 'chicken', 'egg', 'egg', 'chicken', 'egg', 'chicken',\n",
       "       'chicken', 'chicken', 'chicken', 'chicken', 'egg', 'chicken',\n",
       "       'chicken', 'egg', 'chicken', 'chicken', 'egg', 'chicken', 'egg',\n",
       "       'chicken', 'chicken', 'chicken', 'egg', 'egg', 'egg', 'egg',\n",
       "       'chicken', 'chicken', 'egg', 'chicken', 'chicken', 'egg',\n",
       "       'chicken', 'egg', 'egg', 'egg', 'chicken', 'chicken', 'chicken',\n",
       "       'chicken', 'egg', 'chicken', 'egg', 'chicken', 'chicken',\n",
       "       'chicken', 'egg', 'chicken', 'egg', 'chicken', 'egg', 'chicken',\n",
       "       'egg', 'egg', 'chicken', 'egg', 'chicken', 'chicken', 'egg',\n",
       "       'chicken', 'egg', 'egg', 'egg', 'chicken', 'chicken', 'egg', 'egg',\n",
       "       'chicken'], dtype=object)"
      ]
     },
     "execution_count": 14,
     "metadata": {},
     "output_type": "execute_result"
    }
   ],
   "source": [
    "knn.predict(X)"
   ]
  },
  {
   "cell_type": "markdown",
   "id": "df34d5b6",
   "metadata": {},
   "source": [
    "Remember what all the actual labels were? "
   ]
  },
  {
   "cell_type": "code",
   "execution_count": 15,
   "id": "a514b76e",
   "metadata": {},
   "outputs": [
    {
     "data": {
      "text/plain": [
       "array(['chicken', 'chicken', 'chicken', 'chicken', 'chicken', 'chicken',\n",
       "       'egg', 'chicken', 'egg', 'chicken', 'egg', 'egg', 'chicken', 'egg',\n",
       "       'egg', 'chicken', 'chicken', 'chicken', 'egg', 'egg', 'egg',\n",
       "       'chicken', 'chicken', 'egg', 'egg', 'chicken', 'egg', 'chicken',\n",
       "       'chicken', 'chicken', 'chicken', 'chicken', 'egg', 'chicken',\n",
       "       'chicken', 'egg', 'chicken', 'chicken', 'egg', 'chicken', 'egg',\n",
       "       'chicken', 'chicken', 'chicken', 'egg', 'egg', 'egg', 'egg',\n",
       "       'chicken', 'chicken', 'egg', 'chicken', 'chicken', 'egg',\n",
       "       'chicken', 'egg', 'egg', 'egg', 'chicken', 'chicken', 'chicken',\n",
       "       'chicken', 'egg', 'chicken', 'egg', 'chicken', 'chicken',\n",
       "       'chicken', 'egg', 'chicken', 'egg', 'chicken', 'egg', 'chicken',\n",
       "       'egg', 'egg', 'chicken', 'egg', 'chicken', 'chicken', 'egg',\n",
       "       'chicken', 'egg', 'egg', 'egg', 'chicken', 'chicken', 'egg', 'egg',\n",
       "       'chicken'], dtype=object)"
      ]
     },
     "execution_count": 15,
     "metadata": {},
     "output_type": "execute_result"
    }
   ],
   "source": [
    "np.array(y)"
   ]
  },
  {
   "cell_type": "markdown",
   "id": "3c88d4d3",
   "metadata": {},
   "source": [
    "Now, I could sit here and go through one by one to see if they have the same predicted value as the label to decide on my accuracy. But, as usual, `sklearn` comes to the rescue. "
   ]
  },
  {
   "cell_type": "code",
   "execution_count": 16,
   "id": "baac5abc",
   "metadata": {},
   "outputs": [
    {
     "data": {
      "text/plain": [
       "1.0"
      ]
     },
     "execution_count": 16,
     "metadata": {},
     "output_type": "execute_result"
    }
   ],
   "source": [
    "from sklearn.metrics import accuracy_score\n",
    "\n",
    "accuracy_score(knn.predict(X),y)"
   ]
  },
  {
   "cell_type": "markdown",
   "id": "11d5bbe5",
   "metadata": {},
   "source": [
    "## Train test splits \n",
    "\n",
    "Ok, so you got 100% accuracy! You're done, right???? \n",
    "\n",
    "**<font color=red>Wrong!</font>**\n",
    "\n",
    "We know better than to report our training accuracy as our actual accuracy! So, let's set up some basic train/test splits!"
   ]
  },
  {
   "cell_type": "code",
   "execution_count": 17,
   "id": "89fc5ccd",
   "metadata": {},
   "outputs": [],
   "source": [
    "from sklearn.model_selection import train_test_split\n",
    "X_train, X_test, y_train, y_test = train_test_split(X, y, test_size=0.1)"
   ]
  },
  {
   "cell_type": "markdown",
   "id": "58ff280a",
   "metadata": {},
   "source": [
    "In this case, the `X_train` data frame has the inputs we'll use for training..."
   ]
  },
  {
   "cell_type": "code",
   "execution_count": 18,
   "id": "60be6ad6",
   "metadata": {},
   "outputs": [
    {
     "name": "stdout",
     "output_type": "stream",
     "text": [
      "(81, 2)\n"
     ]
    },
    {
     "data": {
      "text/html": [
       "<div>\n",
       "<style scoped>\n",
       "    .dataframe tbody tr th:only-of-type {\n",
       "        vertical-align: middle;\n",
       "    }\n",
       "\n",
       "    .dataframe tbody tr th {\n",
       "        vertical-align: top;\n",
       "    }\n",
       "\n",
       "    .dataframe thead th {\n",
       "        text-align: right;\n",
       "    }\n",
       "</style>\n",
       "<table border=\"1\" class=\"dataframe\">\n",
       "  <thead>\n",
       "    <tr style=\"text-align: right;\">\n",
       "      <th></th>\n",
       "      <th>x1</th>\n",
       "      <th>x2</th>\n",
       "    </tr>\n",
       "  </thead>\n",
       "  <tbody>\n",
       "    <tr>\n",
       "      <th>75</th>\n",
       "      <td>-2.445548</td>\n",
       "      <td>-2.630740</td>\n",
       "    </tr>\n",
       "    <tr>\n",
       "      <th>23</th>\n",
       "      <td>2.920934</td>\n",
       "      <td>1.152175</td>\n",
       "    </tr>\n",
       "    <tr>\n",
       "      <th>38</th>\n",
       "      <td>-2.881874</td>\n",
       "      <td>-5.895848</td>\n",
       "    </tr>\n",
       "    <tr>\n",
       "      <th>18</th>\n",
       "      <td>0.886421</td>\n",
       "      <td>-4.603679</td>\n",
       "    </tr>\n",
       "    <tr>\n",
       "      <th>12</th>\n",
       "      <td>1.334163</td>\n",
       "      <td>4.570304</td>\n",
       "    </tr>\n",
       "  </tbody>\n",
       "</table>\n",
       "</div>"
      ],
      "text/plain": [
       "          x1        x2\n",
       "75 -2.445548 -2.630740\n",
       "23  2.920934  1.152175\n",
       "38 -2.881874 -5.895848\n",
       "18  0.886421 -4.603679\n",
       "12  1.334163  4.570304"
      ]
     },
     "execution_count": 18,
     "metadata": {},
     "output_type": "execute_result"
    }
   ],
   "source": [
    "print(X_train.shape)\n",
    "X_train.head()"
   ]
  },
  {
   "cell_type": "markdown",
   "id": "09b8266a",
   "metadata": {},
   "source": [
    "..., and the `y_train` has the outputs for those same data points. "
   ]
  },
  {
   "cell_type": "code",
   "execution_count": 19,
   "id": "949b0271",
   "metadata": {},
   "outputs": [
    {
     "name": "stdout",
     "output_type": "stream",
     "text": [
      "(81,)\n"
     ]
    },
    {
     "data": {
      "text/plain": [
       "75        egg\n",
       "23        egg\n",
       "38        egg\n",
       "18        egg\n",
       "12    chicken\n",
       "Name: Label, dtype: object"
      ]
     },
     "execution_count": 19,
     "metadata": {},
     "output_type": "execute_result"
    }
   ],
   "source": [
    "print(y_train.shape)\n",
    "y_train.head()"
   ]
  },
  {
   "cell_type": "markdown",
   "id": "fe3f66b5",
   "metadata": {},
   "source": [
    "The `X_test` data frame has the rest of the inputs which we'll use for testing, and the `y_test` has the outputs for those same data points. We don't get to touch these until after the training is all done! Otherwise we are data-snooping!"
   ]
  },
  {
   "cell_type": "code",
   "execution_count": 20,
   "id": "2a1dc4f8",
   "metadata": {},
   "outputs": [
    {
     "name": "stdout",
     "output_type": "stream",
     "text": [
      "(9, 2)\n"
     ]
    },
    {
     "data": {
      "text/html": [
       "<div>\n",
       "<style scoped>\n",
       "    .dataframe tbody tr th:only-of-type {\n",
       "        vertical-align: middle;\n",
       "    }\n",
       "\n",
       "    .dataframe tbody tr th {\n",
       "        vertical-align: top;\n",
       "    }\n",
       "\n",
       "    .dataframe thead th {\n",
       "        text-align: right;\n",
       "    }\n",
       "</style>\n",
       "<table border=\"1\" class=\"dataframe\">\n",
       "  <thead>\n",
       "    <tr style=\"text-align: right;\">\n",
       "      <th></th>\n",
       "      <th>x1</th>\n",
       "      <th>x2</th>\n",
       "    </tr>\n",
       "  </thead>\n",
       "  <tbody>\n",
       "    <tr>\n",
       "      <th>46</th>\n",
       "      <td>1.747229</td>\n",
       "      <td>-2.692229</td>\n",
       "    </tr>\n",
       "    <tr>\n",
       "      <th>15</th>\n",
       "      <td>1.128787</td>\n",
       "      <td>-1.024619</td>\n",
       "    </tr>\n",
       "    <tr>\n",
       "      <th>89</th>\n",
       "      <td>-4.116941</td>\n",
       "      <td>-0.201863</td>\n",
       "    </tr>\n",
       "    <tr>\n",
       "      <th>9</th>\n",
       "      <td>-2.601184</td>\n",
       "      <td>5.737621</td>\n",
       "    </tr>\n",
       "    <tr>\n",
       "      <th>59</th>\n",
       "      <td>-1.561367</td>\n",
       "      <td>6.222374</td>\n",
       "    </tr>\n",
       "    <tr>\n",
       "      <th>5</th>\n",
       "      <td>3.208898</td>\n",
       "      <td>-1.319343</td>\n",
       "    </tr>\n",
       "    <tr>\n",
       "      <th>78</th>\n",
       "      <td>-1.898098</td>\n",
       "      <td>0.124103</td>\n",
       "    </tr>\n",
       "    <tr>\n",
       "      <th>26</th>\n",
       "      <td>1.613779</td>\n",
       "      <td>-3.030344</td>\n",
       "    </tr>\n",
       "    <tr>\n",
       "      <th>69</th>\n",
       "      <td>-2.976418</td>\n",
       "      <td>3.921586</td>\n",
       "    </tr>\n",
       "  </tbody>\n",
       "</table>\n",
       "</div>"
      ],
      "text/plain": [
       "          x1        x2\n",
       "46  1.747229 -2.692229\n",
       "15  1.128787 -1.024619\n",
       "89 -4.116941 -0.201863\n",
       "9  -2.601184  5.737621\n",
       "59 -1.561367  6.222374\n",
       "5   3.208898 -1.319343\n",
       "78 -1.898098  0.124103\n",
       "26  1.613779 -3.030344\n",
       "69 -2.976418  3.921586"
      ]
     },
     "execution_count": 20,
     "metadata": {},
     "output_type": "execute_result"
    }
   ],
   "source": [
    "print(X_test.shape)\n",
    "X_test.head(10)"
   ]
  },
  {
   "cell_type": "code",
   "execution_count": 21,
   "id": "47f4bb7a",
   "metadata": {},
   "outputs": [
    {
     "name": "stdout",
     "output_type": "stream",
     "text": [
      "(9,)\n"
     ]
    },
    {
     "data": {
      "text/plain": [
       "46        egg\n",
       "15    chicken\n",
       "89    chicken\n",
       "9     chicken\n",
       "59    chicken\n",
       "5     chicken\n",
       "78    chicken\n",
       "26        egg\n",
       "69    chicken\n",
       "Name: Label, dtype: object"
      ]
     },
     "execution_count": 21,
     "metadata": {},
     "output_type": "execute_result"
    }
   ],
   "source": [
    "print(y_test.shape)\n",
    "y_test.head(10)"
   ]
  },
  {
   "cell_type": "markdown",
   "id": "1a94e29a",
   "metadata": {},
   "source": [
    "&#9989; **<font color=red>Do this:</font>** Build a KNN classifier using $k=3$ neighbors, and train it on your `X_train` and `y_train` data. Call it `knn` like before. \n",
    "\n",
    "- What is your training accuracy? \n",
    "- What is your testing accuracy? "
   ]
  },
  {
   "cell_type": "code",
   "execution_count": 25,
   "id": "c59fbfd4",
   "metadata": {},
   "outputs": [
    {
     "data": {
      "text/plain": [
       "0.9753086419753086"
      ]
     },
     "execution_count": 25,
     "metadata": {},
     "output_type": "execute_result"
    }
   ],
   "source": [
    "knn = KNeighborsClassifier(n_neighbors=3)\n",
    "knn.fit(X_train,y_train)\n",
    "accuracy_score(knn.predict(X_train),y_train)"
   ]
  },
  {
   "cell_type": "code",
   "execution_count": 26,
   "id": "a7a0cea7-64fd-4d66-9a61-87e4bbdd52e5",
   "metadata": {},
   "outputs": [
    {
     "data": {
      "text/plain": [
       "0.8888888888888888"
      ]
     },
     "execution_count": 26,
     "metadata": {},
     "output_type": "execute_result"
    }
   ],
   "source": [
    "accuracy_score(knn.predict(X_test),y_test)"
   ]
  },
  {
   "cell_type": "markdown",
   "id": "1476e076",
   "metadata": {},
   "source": [
    "I want to show you one more nice command in here. Remember that KNNs work by returning the label of the most frequently seen label among the $k$ numbers, but that doesn't mean every neighbor had that label. \n",
    "\n",
    "The `predict_proba` function will tell you the percentage of each that was seen. "
   ]
  },
  {
   "cell_type": "code",
   "execution_count": 27,
   "id": "0c57667c",
   "metadata": {},
   "outputs": [
    {
     "data": {
      "text/plain": [
       "array([[0.        , 1.        ],\n",
       "       [0.66666667, 0.33333333],\n",
       "       [0.66666667, 0.33333333],\n",
       "       [1.        , 0.        ],\n",
       "       [1.        , 0.        ],\n",
       "       [0.        , 1.        ],\n",
       "       [1.        , 0.        ],\n",
       "       [0.        , 1.        ],\n",
       "       [1.        , 0.        ]])"
      ]
     },
     "execution_count": 27,
     "metadata": {},
     "output_type": "execute_result"
    }
   ],
   "source": [
    "knn.predict_proba(X_test)"
   ]
  },
  {
   "cell_type": "markdown",
   "id": "3f146567",
   "metadata": {},
   "source": [
    "## Bayes classifier \n",
    "\n",
    "Now, because I generated our data so I know the real Bayes decision boundary, we can take a look at how our results match up with the Bayes classifier. \n"
   ]
  },
  {
   "cell_type": "markdown",
   "id": "c8b598f8",
   "metadata": {},
   "source": [
    "First, I am going to set up some code that will figure out what your model, named `knn` above hopfully, will predict for a grid of numbers covering our $[-7,7] \\times [-7,7]$ box. "
   ]
  },
  {
   "cell_type": "code",
   "execution_count": 28,
   "id": "cc084e8c",
   "metadata": {},
   "outputs": [],
   "source": [
    "# Run this cell, we just need to generate some inputs \n",
    "# to be able to draw figures in a moment. \n",
    "t = np.linspace(-7,7,28)\n",
    "X_mesh,Y_mesh = np.meshgrid(t,t)\n",
    "X_mesh_flat = X_mesh.flatten()\n",
    "Y_mesh_flat = Y_mesh.flatten()\n",
    "\n",
    "# The test_all_df is a dataframe with all the possible inputs of x1 and x2, so if we predict on all of them we can see the decision boundary.\n",
    "test_all_df = pd.DataFrame({'x1':X_mesh_flat,'x2':Y_mesh_flat})\n"
   ]
  },
  {
   "cell_type": "code",
   "execution_count": 29,
   "id": "49e23163",
   "metadata": {},
   "outputs": [],
   "source": [
    "pred_all = knn.predict(test_all_df)\n",
    "def to_int(chickegg):\n",
    "    if chickegg == 'egg':\n",
    "        return -1\n",
    "    else:\n",
    "        return 1\n",
    "    \n",
    "pred_all = np.array([to_int(x) for x in pred_all])\n",
    "pred_all.shape\n",
    "pred_all = pred_all.reshape([28,28])"
   ]
  },
  {
   "cell_type": "markdown",
   "id": "72e8097d",
   "metadata": {},
   "source": [
    "Then this will plot these predictions on our 2D plane. "
   ]
  },
  {
   "cell_type": "code",
   "execution_count": 30,
   "id": "e5e461b4",
   "metadata": {},
   "outputs": [
    {
     "data": {
      "text/plain": [
       "[Text(1, -1, 'egg'), Text(1, 1, 'chicken')]"
      ]
     },
     "execution_count": 30,
     "metadata": {},
     "output_type": "execute_result"
    },
    {
     "data": {
      "image/png": "[encoded data removed]",
      "text/plain": [
       "<Figure size 640x480 with 2 Axes>"
      ]
     },
     "metadata": {},
     "output_type": "display_data"
    }
   ],
   "source": [
    "plt.pcolor(X_mesh,Y_mesh,pred_all)\n",
    "\n",
    "cbar = plt.colorbar(ticks=[-1, 1])\n",
    "cbar.ax.set_yticklabels(['egg','chicken'])\n",
    "\n",
    "# Just for comparison, I can also plot my original data points on top. Uncomment the line below to see that.\n",
    "# sns.scatterplot(data = Chick_df, x = 'x1', y = 'x2', style = 'Label').set(title = 'Chicken or Egg?')"
   ]
  },
  {
   "cell_type": "markdown",
   "id": "327550db",
   "metadata": {},
   "source": [
    "&#9989; **<font color=red>Q:</font>** Using this plot, what is your model going to predict for a data point at $(-4,6)$? "
   ]
  },
  {
   "cell_type": "markdown",
   "id": "e60d3e1e",
   "metadata": {},
   "source": [
    "*Your answer here*"
   ]
  },
  {
   "cell_type": "markdown",
   "id": "f1ad7b7d",
   "metadata": {},
   "source": [
    "Note that since I generated this data, I know where the line was between the two regions used to generate it. In my case, I happened to use the function\n",
    "\n",
    "$$\n",
    "f(x_1,x_2) = (x_2)^3 - x_2 -x_1\n",
    "$$\n",
    "\n",
    "and labeled a new data point based on whether $f(x_1,x_2) + \\varepsilon$ was positive or negative. \n",
    "\n",
    "Below, you can see $f(x_1,x_2)$ (in this case, the Bayes classifier) drawn on top of your model's predictions. How similar did your KNN get? \n",
    "\n",
    "&#9989; **<font color=red>Q:</font>** Where are the regions that your model predicts something different than the Bayes classifier? "
   ]
  },
  {
   "cell_type": "code",
   "execution_count": null,
   "id": "4290fa69",
   "metadata": {},
   "outputs": [],
   "source": [
    "# This command tries to draw a line between the two regions \n",
    "plt.pcolor(X_mesh,Y_mesh,pred_all)\n",
    "\n",
    "cbar = plt.colorbar(ticks=[-1, 1])\n",
    "cbar.ax.set_yticklabels(['egg','chicken'])\n",
    "\n",
    "# This draws the line I used to generate the data \n",
    "ty = np.linspace(-2.1,2.1,100)\n",
    "tx = ty**3 - ty\n",
    "plt.plot(tx,ty, color = 'grey')\n",
    "\n",
    "# Again, you can uncomment the line below to the original data overlaid.\n",
    "# sns.scatterplot(data = Chick_df, x = 'x1', y = 'x2', style = 'Label').set(title = 'Chicken or Egg?')"
   ]
  },
  {
   "cell_type": "markdown",
   "id": "db4f94b9",
   "metadata": {},
   "source": [
    "## Messing with $k$\n",
    "\n",
    "Finally, we're going to generate plots like Fig 2.17 in the book, where we look at the training and testing errors vs the flexibility (in this case, $1/k$) of the model used. "
   ]
  },
  {
   "cell_type": "code",
   "execution_count": null,
   "id": "c5e68339",
   "metadata": {},
   "outputs": [],
   "source": [
    "# Our choices of $K$\n",
    "# Note that the graph will use $1/k$ for flexibility\n",
    "Kinv = np.array([0.04, 0.05,0.2,0.5,1])\n",
    "Ks = 1/Kinv\n",
    "Ks = Ks.astype(int)\n",
    "print(Ks)\n",
    "\n",
    "Accuracies = []\n",
    "TrainAccuracies = []\n",
    "\n",
    "\n",
    "# I'm going to run this model for all my choices of k\n",
    "for k in Ks:\n",
    "    thisruntest = []\n",
    "    thisruntrain = []\n",
    "    \n",
    "    # For each choice of k, i'll do this 10 times and average\n",
    "    for runNum in range(50):\n",
    "        X_train, X_test, y_train, y_test = train_test_split(X, y, test_size=0.3)\n",
    "        knn = KNeighborsClassifier(n_neighbors=k)\n",
    "        knn.fit(X_train,y_train)\n",
    "        \n",
    "        # Figure out my training error rate \n",
    "        acctrain = accuracy_score(knn.predict(X_train),y_train)\n",
    "        thisruntrain.append(1-acctrain)\n",
    "        \n",
    "        # Figure out my testing error rate\n",
    "        acctest = accuracy_score(knn.predict(X_test),y_test)\n",
    "        thisruntest.append(1-acctest)\n",
    "    \n",
    "    # Keep the average over the 10 runs\n",
    "    TrainAccuracies.append(np.average(thisruntrain))\n",
    "    Accuracies.append(np.average(thisruntest))\n",
    "\n",
    "    \n",
    "# Plot train and test with x-axis on a log scale\n",
    "plt.semilogx(1/Ks,Accuracies, label = 'Test', marker = 'x')\n",
    "plt.semilogx(1/Ks,TrainAccuracies, label = 'Train', marker = 'o')\n",
    "plt.xlabel('1/k')\n",
    "plt.ylabel('Error rate')\n",
    "plt.legend()\n",
    "plt.show()"
   ]
  },
  {
   "cell_type": "markdown",
   "id": "37a929d2",
   "metadata": {},
   "source": [
    "&#9989; **<font color=red>Q:</font>** Based on your graph above\n",
    "- What do you notice about the shape of the train and test error plots? \n",
    "- What would you choose for $k$ based on this data? "
   ]
  },
  {
   "cell_type": "markdown",
   "id": "66f79113",
   "metadata": {},
   "source": [
    "\n",
    "\n",
    "-----\n",
    "### Congratulations, we're done!\n",
    "Initially created by Dr. Liz Munch, adapted by Mengsen Zhang Michigan State University\n",
    "\n",
    "<a rel=\"license\" href=\"http://creativecommons.org/licenses/by-nc/4.0/\"><img alt=\"Creative Commons License\" style=\"border-width:0\" src=\"https://i.creativecommons.org/l/by-nc/4.0/88x31.png\" /></a><br />This work is licensed under a <a rel=\"license\" href=\"http://creativecommons.org/licenses/by-nc/4.0/\">Creative Commons Attribution-NonCommercial 4.0 International License</a>."
   ]
  },
  {
   "cell_type": "markdown",
   "id": "1877d319",
   "metadata": {},
   "source": []
  },
  {
   "cell_type": "code",
   "execution_count": null,
   "id": "3fb8354f",
   "metadata": {},
   "outputs": [],
   "source": []
  }
 ],
 "metadata": {
  "kernelspec": {
   "display_name": "Python 3.12 (default)",
   "language": "python",
   "name": "python3"
  },
  "language_info": {
   "codemirror_mode": {
    "name": "ipython",
    "version": 3
   },
   "file_extension": ".py",
   "mimetype": "text/x-python",
   "name": "python",
   "nbconvert_exporter": "python",
   "pygments_lexer": "ipython3",
   "version": "3.12.11"
  }
 },
 "nbformat": 4,
 "nbformat_minor": 5
}
