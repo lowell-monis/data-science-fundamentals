{
 "cells": [
  {
   "cell_type": "code",
   "execution_count": 52,
   "id": "7f2699a1-1b0a-4912-918a-cc172683b317",
   "metadata": {},
   "outputs": [],
   "source": [
    "import pandas as pd\n",
    "import numpy as np\n",
    "import matplotlib.pyplot as plt\n",
    "import seaborn as sns\n",
    "import statsmodels.api as sm\n",
    "import statsmodels.formula.api as smf\n",
    "%matplotlib inline\n",
    "from sklearn.linear_model import LinearRegression\n",
    "from sklearn.model_selection import LeaveOneOut, KFold, train_test_split\n",
    "from sklearn.preprocessing import PolynomialFeatures\n",
    "from sklearn.pipeline import make_pipeline\n",
    "from sklearn.metrics import mean_squared_error"
   ]
  },
  {
   "cell_type": "markdown",
   "id": "a279f6ea-cc5e-4cf4-bb70-d3ef8e7c6066",
   "metadata": {},
   "source": [
    "# CMSE 381, Fundamental Data Science Methods\n",
    "## Homework 4, Fall 2025\n",
    "\n",
    "**Name:** Monis, Lowell\n",
    "\n",
    "---\n",
    "\n",
    "### Question 1: ISLP $\\S$ 5.4.3\n",
    "\n",
    "We now review $k$-fold cross-validation.\n",
    "\n",
    "#### (a) Explain how k-fold cross-validation is implemented.\n",
    "\n",
    "The $k$-fold cross-validation method is a more generalized form of the leave-one-out cross-validation method. This approach involves randomly dividing the set of observations, after shuffling, into $k$ groups, which we will call folds, of ideally equal size, or approximately equal size in non-ideal scenarios. The first fold is treated as a validation set, and the method is fit to the remaining ($k-1$) folds. Them, the MSE for the first fold, say $\\text{MSE}_1$, is computed on the observations in the validation fold. This procedure is then repeated $k$ times, until each fold is treated as the validation set once. This process will result in $k$ estimates of the test error, $\\text{MSE}_k$. the $k$-fold CV estimate is computed by averaging all $\\text{MSE}_k$:\n",
    "\n",
    "$$\\text{CV}_{(k)}=\\frac{1}{k}\\sum_{i=1}^{k}\\text{MSE}_i$$\n",
    "\n",
    "LOOCV is basically $n$-fold CV, where $n$ is the number of data points.\n",
    "\n",
    "*Reference:* ISLP $\\S$ 5.1.3\n",
    "\n",
    "#### (b) What are the advantages and disadvantages of $k$-fold cross-validation relative to:\n",
    "\n",
    "##### i. the validation set approach\n",
    "\n",
    "Compared to the validation set approach, $k$-fold CV is generally preferred because it produces a less biased and less variable estimate of the test error rate. It is less biased because a larger fraction of the available observations are used to fit the model. This extensive use of the data also dramatically reduces the variance of the error estimate, as the result is not dependent on a single, arbitrary split of the observations. The main disadvantage of $k$-fold CV relative to the validation set approach is that it requires fitting the model $k$ times, making it more computationally expensive.\n",
    "\n",
    "##### ii. LOOCV\n",
    "\n",
    "Relative to LOOCV (which is $k$-fold CV with $k=n$), $k$-fold CV offers two primary advantages: computational speed and lower variance. It is much faster because the model is fit only $k$ times (e.g., $k=10$) instead of $n$ times. Critically, $k$-fold CV tends to have lower variance in the estimated test error than LOOCV, because the $k$ training sets used are less correlated with each other than the $n$ nearly identical training sets used in LOOCV. The slight drawback is that $k$-fold CV introduces a bit more bias since the training set used is smaller ($\\frac{n(k-1)}{k}$ observations compared to $n-1$) and thus the model is trained on less data. For these reasons, choosing a $k$ of 5 or 10 is often considered a good trade-off between bias and variance.\n",
    "\n",
    "### Question 2: ISLP $\\S$ 5.4.5\n",
    "\n",
    "In Chapter 4, we used logistic regression to predict the probability of default using `income` and `balance` on the `Default` data set. We will now estimate the test error of this logistic regression model using the validation set approach. Do not forget to set a random seed before beginning your analysis.\n",
    "\n",
    "#### (a) Fit a logistic regression model that uses `income` and `balance` to predict `default`.\n",
    "\n",
    "First, we load the `Default` data set from the repository."
   ]
  },
  {
   "cell_type": "code",
   "execution_count": 3,
   "id": "ca6e468e-1854-4d9c-8c31-15f3063700c2",
   "metadata": {},
   "outputs": [
    {
     "data": {
      "text/html": [
       "<div>\n",
       "<style scoped>\n",
       "    .dataframe tbody tr th:only-of-type {\n",
       "        vertical-align: middle;\n",
       "    }\n",
       "\n",
       "    .dataframe tbody tr th {\n",
       "        vertical-align: top;\n",
       "    }\n",
       "\n",
       "    .dataframe thead th {\n",
       "        text-align: right;\n",
       "    }\n",
       "</style>\n",
       "<table border=\"1\" class=\"dataframe\">\n",
       "  <thead>\n",
       "    <tr style=\"text-align: right;\">\n",
       "      <th></th>\n",
       "      <th>default</th>\n",
       "      <th>student</th>\n",
       "      <th>balance</th>\n",
       "      <th>income</th>\n",
       "    </tr>\n",
       "  </thead>\n",
       "  <tbody>\n",
       "    <tr>\n",
       "      <th>0</th>\n",
       "      <td>0</td>\n",
       "      <td>No</td>\n",
       "      <td>729.526495</td>\n",
       "      <td>44361.62507</td>\n",
       "    </tr>\n",
       "    <tr>\n",
       "      <th>1</th>\n",
       "      <td>0</td>\n",
       "      <td>Yes</td>\n",
       "      <td>817.180407</td>\n",
       "      <td>12106.13470</td>\n",
       "    </tr>\n",
       "    <tr>\n",
       "      <th>2</th>\n",
       "      <td>0</td>\n",
       "      <td>No</td>\n",
       "      <td>1073.549164</td>\n",
       "      <td>31767.13895</td>\n",
       "    </tr>\n",
       "    <tr>\n",
       "      <th>3</th>\n",
       "      <td>0</td>\n",
       "      <td>No</td>\n",
       "      <td>529.250605</td>\n",
       "      <td>35704.49394</td>\n",
       "    </tr>\n",
       "    <tr>\n",
       "      <th>4</th>\n",
       "      <td>0</td>\n",
       "      <td>No</td>\n",
       "      <td>785.655883</td>\n",
       "      <td>38463.49588</td>\n",
       "    </tr>\n",
       "  </tbody>\n",
       "</table>\n",
       "</div>"
      ],
      "text/plain": [
       "   default student      balance       income\n",
       "0        0      No   729.526495  44361.62507\n",
       "1        0     Yes   817.180407  12106.13470\n",
       "2        0      No  1073.549164  31767.13895\n",
       "3        0      No   529.250605  35704.49394\n",
       "4        0      No   785.655883  38463.49588"
      ]
     },
     "execution_count": 3,
     "metadata": {},
     "output_type": "execute_result"
    }
   ],
   "source": [
    "data=pd.read_csv('../data/Default.csv')\n",
    "data['default']=(data['default'] == 'Yes').astype(int)\n",
    "data.head()"
   ]
  },
  {
   "cell_type": "markdown",
   "id": "bed8d386-6e47-49c2-8bad-243dd72b939f",
   "metadata": {},
   "source": [
    "We then train a model on the data. We will not be doing a validation split on this data yet. We build the model by first setting the seed and one-hot encoding the response variable, since its current type is string. We then use the `logit()` method of `statsmodels.formula.api` to train the model on the whole data set."
   ]
  },
  {
   "cell_type": "code",
   "execution_count": 4,
   "id": "47aabf08-4862-4aa6-8dba-d2bad20b2a2f",
   "metadata": {},
   "outputs": [
    {
     "name": "stdout",
     "output_type": "stream",
     "text": [
      "Optimization terminated successfully.\n",
      "         Current function value: 0.078948\n",
      "         Iterations 10\n"
     ]
    },
    {
     "data": {
      "text/html": [
       "<table class=\"simpletable\">\n",
       "<caption>Logit Regression Results</caption>\n",
       "<tr>\n",
       "  <th>Dep. Variable:</th>        <td>default</td>     <th>  No. Observations:  </th>   <td> 10000</td>  \n",
       "</tr>\n",
       "<tr>\n",
       "  <th>Model:</th>                 <td>Logit</td>      <th>  Df Residuals:      </th>   <td>  9997</td>  \n",
       "</tr>\n",
       "<tr>\n",
       "  <th>Method:</th>                 <td>MLE</td>       <th>  Df Model:          </th>   <td>     2</td>  \n",
       "</tr>\n",
       "<tr>\n",
       "  <th>Date:</th>            <td>Fri, 03 Oct 2025</td> <th>  Pseudo R-squ.:     </th>   <td>0.4594</td>  \n",
       "</tr>\n",
       "<tr>\n",
       "  <th>Time:</th>                <td>12:25:51</td>     <th>  Log-Likelihood:    </th>  <td> -789.48</td> \n",
       "</tr>\n",
       "<tr>\n",
       "  <th>converged:</th>             <td>True</td>       <th>  LL-Null:           </th>  <td> -1460.3</td> \n",
       "</tr>\n",
       "<tr>\n",
       "  <th>Covariance Type:</th>     <td>nonrobust</td>    <th>  LLR p-value:       </th> <td>4.541e-292</td>\n",
       "</tr>\n",
       "</table>\n",
       "<table class=\"simpletable\">\n",
       "<tr>\n",
       "      <td></td>         <th>coef</th>     <th>std err</th>      <th>z</th>      <th>P>|z|</th>  <th>[0.025</th>    <th>0.975]</th>  \n",
       "</tr>\n",
       "<tr>\n",
       "  <th>Intercept</th> <td>  -11.5405</td> <td>    0.435</td> <td>  -26.544</td> <td> 0.000</td> <td>  -12.393</td> <td>  -10.688</td>\n",
       "</tr>\n",
       "<tr>\n",
       "  <th>income</th>    <td> 2.081e-05</td> <td> 4.99e-06</td> <td>    4.174</td> <td> 0.000</td> <td>  1.1e-05</td> <td> 3.06e-05</td>\n",
       "</tr>\n",
       "<tr>\n",
       "  <th>balance</th>   <td>    0.0056</td> <td>    0.000</td> <td>   24.835</td> <td> 0.000</td> <td>    0.005</td> <td>    0.006</td>\n",
       "</tr>\n",
       "</table><br/><br/>Possibly complete quasi-separation: A fraction 0.14 of observations can be<br/>perfectly predicted. This might indicate that there is complete<br/>quasi-separation. In this case some parameters will not be identified."
      ],
      "text/latex": [
       "\\begin{center}\n",
       "\\begin{tabular}{lclc}\n",
       "\\toprule\n",
       "\\textbf{Dep. Variable:}   &     default      & \\textbf{  No. Observations:  } &    10000    \\\\\n",
       "\\textbf{Model:}           &      Logit       & \\textbf{  Df Residuals:      } &     9997    \\\\\n",
       "\\textbf{Method:}          &       MLE        & \\textbf{  Df Model:          } &        2    \\\\\n",
       "\\textbf{Date:}            & Fri, 03 Oct 2025 & \\textbf{  Pseudo R-squ.:     } &   0.4594    \\\\\n",
       "\\textbf{Time:}            &     12:25:51     & \\textbf{  Log-Likelihood:    } &   -789.48   \\\\\n",
       "\\textbf{converged:}       &       True       & \\textbf{  LL-Null:           } &   -1460.3   \\\\\n",
       "\\textbf{Covariance Type:} &    nonrobust     & \\textbf{  LLR p-value:       } & 4.541e-292  \\\\\n",
       "\\bottomrule\n",
       "\\end{tabular}\n",
       "\\begin{tabular}{lcccccc}\n",
       "                   & \\textbf{coef} & \\textbf{std err} & \\textbf{z} & \\textbf{P$> |$z$|$} & \\textbf{[0.025} & \\textbf{0.975]}  \\\\\n",
       "\\midrule\n",
       "\\textbf{Intercept} &     -11.5405  &        0.435     &   -26.544  &         0.000        &      -12.393    &      -10.688     \\\\\n",
       "\\textbf{income}    &    2.081e-05  &     4.99e-06     &     4.174  &         0.000        &      1.1e-05    &     3.06e-05     \\\\\n",
       "\\textbf{balance}   &       0.0056  &        0.000     &    24.835  &         0.000        &        0.005    &        0.006     \\\\\n",
       "\\bottomrule\n",
       "\\end{tabular}\n",
       "%\\caption{Logit Regression Results}\n",
       "\\end{center}\n",
       "\n",
       "Possibly complete quasi-separation: A fraction 0.14 of observations can be \\newline\n",
       " perfectly predicted. This might indicate that there is complete \\newline\n",
       " quasi-separation. In this case some parameters will not be identified."
      ],
      "text/plain": [
       "<class 'statsmodels.iolib.summary.Summary'>\n",
       "\"\"\"\n",
       "                           Logit Regression Results                           \n",
       "==============================================================================\n",
       "Dep. Variable:                default   No. Observations:                10000\n",
       "Model:                          Logit   Df Residuals:                     9997\n",
       "Method:                           MLE   Df Model:                            2\n",
       "Date:                Fri, 03 Oct 2025   Pseudo R-squ.:                  0.4594\n",
       "Time:                        12:25:51   Log-Likelihood:                -789.48\n",
       "converged:                       True   LL-Null:                       -1460.3\n",
       "Covariance Type:            nonrobust   LLR p-value:                4.541e-292\n",
       "==============================================================================\n",
       "                 coef    std err          z      P>|z|      [0.025      0.975]\n",
       "------------------------------------------------------------------------------\n",
       "Intercept    -11.5405      0.435    -26.544      0.000     -12.393     -10.688\n",
       "income      2.081e-05   4.99e-06      4.174      0.000     1.1e-05    3.06e-05\n",
       "balance        0.0056      0.000     24.835      0.000       0.005       0.006\n",
       "==============================================================================\n",
       "\n",
       "Possibly complete quasi-separation: A fraction 0.14 of observations can be\n",
       "perfectly predicted. This might indicate that there is complete\n",
       "quasi-separation. In this case some parameters will not be identified.\n",
       "\"\"\""
      ]
     },
     "execution_count": 4,
     "metadata": {},
     "output_type": "execute_result"
    }
   ],
   "source": [
    "np.random.seed(381)\n",
    "model = smf.logit('default~income+balance', data).fit()\n",
    "model.summary()"
   ]
  },
  {
   "cell_type": "markdown",
   "id": "50061aba-be89-445f-ad45-a3bed76ad0d3",
   "metadata": {},
   "source": [
    "#### (b) Using the validation set approach, estimate the test error of this model.\n",
    "\n",
    "i. We first split the sample set into a training set and a validation set. The split is equal."
   ]
  },
  {
   "cell_type": "code",
   "execution_count": 5,
   "id": "5fbadf54-e42c-478d-ad38-dacb7873aebe",
   "metadata": {},
   "outputs": [],
   "source": [
    "data_train, data_validation = train_test_split(data, test_size=0.5, random_state=381)"
   ]
  },
  {
   "cell_type": "markdown",
   "id": "92e93d76-ab02-47a4-afd2-0db9dc9d8def",
   "metadata": {},
   "source": [
    "ii. We then fit a multiple logistic regression model using only the training observations."
   ]
  },
  {
   "cell_type": "code",
   "execution_count": 6,
   "id": "96687a2c-43ca-42a7-8c42-2552f5adb34a",
   "metadata": {},
   "outputs": [
    {
     "name": "stdout",
     "output_type": "stream",
     "text": [
      "Optimization terminated successfully.\n",
      "         Current function value: 0.081512\n",
      "         Iterations 10\n"
     ]
    },
    {
     "data": {
      "text/html": [
       "<table class=\"simpletable\">\n",
       "<caption>Logit Regression Results</caption>\n",
       "<tr>\n",
       "  <th>Dep. Variable:</th>        <td>default</td>     <th>  No. Observations:  </th>   <td>  5000</td>  \n",
       "</tr>\n",
       "<tr>\n",
       "  <th>Model:</th>                 <td>Logit</td>      <th>  Df Residuals:      </th>   <td>  4997</td>  \n",
       "</tr>\n",
       "<tr>\n",
       "  <th>Method:</th>                 <td>MLE</td>       <th>  Df Model:          </th>   <td>     2</td>  \n",
       "</tr>\n",
       "<tr>\n",
       "  <th>Date:</th>            <td>Fri, 03 Oct 2025</td> <th>  Pseudo R-squ.:     </th>   <td>0.4507</td>  \n",
       "</tr>\n",
       "<tr>\n",
       "  <th>Time:</th>                <td>12:25:55</td>     <th>  Log-Likelihood:    </th>  <td> -407.56</td> \n",
       "</tr>\n",
       "<tr>\n",
       "  <th>converged:</th>             <td>True</td>       <th>  LL-Null:           </th>  <td> -741.91</td> \n",
       "</tr>\n",
       "<tr>\n",
       "  <th>Covariance Type:</th>     <td>nonrobust</td>    <th>  LLR p-value:       </th> <td>6.182e-146</td>\n",
       "</tr>\n",
       "</table>\n",
       "<table class=\"simpletable\">\n",
       "<tr>\n",
       "      <td></td>         <th>coef</th>     <th>std err</th>      <th>z</th>      <th>P>|z|</th>  <th>[0.025</th>    <th>0.975]</th>  \n",
       "</tr>\n",
       "<tr>\n",
       "  <th>Intercept</th> <td>  -11.5318</td> <td>    0.603</td> <td>  -19.132</td> <td> 0.000</td> <td>  -12.713</td> <td>  -10.350</td>\n",
       "</tr>\n",
       "<tr>\n",
       "  <th>income</th>    <td> 2.373e-05</td> <td> 6.87e-06</td> <td>    3.453</td> <td> 0.001</td> <td> 1.03e-05</td> <td> 3.72e-05</td>\n",
       "</tr>\n",
       "<tr>\n",
       "  <th>balance</th>   <td>    0.0056</td> <td>    0.000</td> <td>   17.641</td> <td> 0.000</td> <td>    0.005</td> <td>    0.006</td>\n",
       "</tr>\n",
       "</table><br/><br/>Possibly complete quasi-separation: A fraction 0.14 of observations can be<br/>perfectly predicted. This might indicate that there is complete<br/>quasi-separation. In this case some parameters will not be identified."
      ],
      "text/latex": [
       "\\begin{center}\n",
       "\\begin{tabular}{lclc}\n",
       "\\toprule\n",
       "\\textbf{Dep. Variable:}   &     default      & \\textbf{  No. Observations:  } &     5000    \\\\\n",
       "\\textbf{Model:}           &      Logit       & \\textbf{  Df Residuals:      } &     4997    \\\\\n",
       "\\textbf{Method:}          &       MLE        & \\textbf{  Df Model:          } &        2    \\\\\n",
       "\\textbf{Date:}            & Fri, 03 Oct 2025 & \\textbf{  Pseudo R-squ.:     } &   0.4507    \\\\\n",
       "\\textbf{Time:}            &     12:25:55     & \\textbf{  Log-Likelihood:    } &   -407.56   \\\\\n",
       "\\textbf{converged:}       &       True       & \\textbf{  LL-Null:           } &   -741.91   \\\\\n",
       "\\textbf{Covariance Type:} &    nonrobust     & \\textbf{  LLR p-value:       } & 6.182e-146  \\\\\n",
       "\\bottomrule\n",
       "\\end{tabular}\n",
       "\\begin{tabular}{lcccccc}\n",
       "                   & \\textbf{coef} & \\textbf{std err} & \\textbf{z} & \\textbf{P$> |$z$|$} & \\textbf{[0.025} & \\textbf{0.975]}  \\\\\n",
       "\\midrule\n",
       "\\textbf{Intercept} &     -11.5318  &        0.603     &   -19.132  &         0.000        &      -12.713    &      -10.350     \\\\\n",
       "\\textbf{income}    &    2.373e-05  &     6.87e-06     &     3.453  &         0.001        &     1.03e-05    &     3.72e-05     \\\\\n",
       "\\textbf{balance}   &       0.0056  &        0.000     &    17.641  &         0.000        &        0.005    &        0.006     \\\\\n",
       "\\bottomrule\n",
       "\\end{tabular}\n",
       "%\\caption{Logit Regression Results}\n",
       "\\end{center}\n",
       "\n",
       "Possibly complete quasi-separation: A fraction 0.14 of observations can be \\newline\n",
       " perfectly predicted. This might indicate that there is complete \\newline\n",
       " quasi-separation. In this case some parameters will not be identified."
      ],
      "text/plain": [
       "<class 'statsmodels.iolib.summary.Summary'>\n",
       "\"\"\"\n",
       "                           Logit Regression Results                           \n",
       "==============================================================================\n",
       "Dep. Variable:                default   No. Observations:                 5000\n",
       "Model:                          Logit   Df Residuals:                     4997\n",
       "Method:                           MLE   Df Model:                            2\n",
       "Date:                Fri, 03 Oct 2025   Pseudo R-squ.:                  0.4507\n",
       "Time:                        12:25:55   Log-Likelihood:                -407.56\n",
       "converged:                       True   LL-Null:                       -741.91\n",
       "Covariance Type:            nonrobust   LLR p-value:                6.182e-146\n",
       "==============================================================================\n",
       "                 coef    std err          z      P>|z|      [0.025      0.975]\n",
       "------------------------------------------------------------------------------\n",
       "Intercept    -11.5318      0.603    -19.132      0.000     -12.713     -10.350\n",
       "income      2.373e-05   6.87e-06      3.453      0.001    1.03e-05    3.72e-05\n",
       "balance        0.0056      0.000     17.641      0.000       0.005       0.006\n",
       "==============================================================================\n",
       "\n",
       "Possibly complete quasi-separation: A fraction 0.14 of observations can be\n",
       "perfectly predicted. This might indicate that there is complete\n",
       "quasi-separation. In this case some parameters will not be identified.\n",
       "\"\"\""
      ]
     },
     "execution_count": 6,
     "metadata": {},
     "output_type": "execute_result"
    }
   ],
   "source": [
    "model1 = smf.logit('default~income+balance', data_train).fit()\n",
    "model1.summary()"
   ]
  },
  {
   "cell_type": "markdown",
   "id": "3bc52dca-cb27-4a55-a505-827ad1fd62b0",
   "metadata": {},
   "source": [
    "iii. We now obtain a prediction of `default` status for each individual in the validation set by computing the posterior probability of `default` for that individual, and classifying the individual to the `default` category if the posterior probability is greater than $0.5$."
   ]
  },
  {
   "cell_type": "code",
   "execution_count": 7,
   "id": "40b57fef-fb1a-4d85-9387-61b0f56d96f4",
   "metadata": {},
   "outputs": [],
   "source": [
    "predictions1 = np.where(model1.predict(data_validation) > 0.5, 1, 0)"
   ]
  },
  {
   "cell_type": "markdown",
   "id": "ddb547bc-d54a-4181-ad84-0c8fb8a5807d",
   "metadata": {},
   "source": [
    "iv. We then compute the validation set error, which is the fraction of the observations in the validation set that are misclassified."
   ]
  },
  {
   "cell_type": "code",
   "execution_count": 8,
   "id": "3232a708-fcd4-418f-b7fc-504d1f87df58",
   "metadata": {},
   "outputs": [
    {
     "data": {
      "text/plain": [
       "np.float64(0.0248)"
      ]
     },
     "execution_count": 8,
     "metadata": {},
     "output_type": "execute_result"
    }
   ],
   "source": [
    "np.mean(predictions1 != data_validation['default'])"
   ]
  },
  {
   "cell_type": "markdown",
   "id": "0e620ee6-16a4-435a-bb87-cea776141382",
   "metadata": {},
   "source": [
    "The validation set error for this model, split, and seed, is about $2.48\\%$.\n",
    "\n",
    "#### (c) Repeat the process in (b) three times, using three different splits of the observations into a training set and a validation set. Comment on the results obtained.\n",
    "\n",
    "To conduct this process, we will be repeating each model fit with a different seed. The first repetition will be done with seed `465`."
   ]
  },
  {
   "cell_type": "code",
   "execution_count": 9,
   "id": "4109eded-7fe2-43d9-8478-be73ee70141f",
   "metadata": {},
   "outputs": [
    {
     "name": "stdout",
     "output_type": "stream",
     "text": [
      "Optimization terminated successfully.\n",
      "         Current function value: 0.077249\n",
      "         Iterations 10\n"
     ]
    },
    {
     "data": {
      "text/html": [
       "<table class=\"simpletable\">\n",
       "<caption>Logit Regression Results</caption>\n",
       "<tr>\n",
       "  <th>Dep. Variable:</th>        <td>default</td>     <th>  No. Observations:  </th>   <td>  5000</td>  \n",
       "</tr>\n",
       "<tr>\n",
       "  <th>Model:</th>                 <td>Logit</td>      <th>  Df Residuals:      </th>   <td>  4997</td>  \n",
       "</tr>\n",
       "<tr>\n",
       "  <th>Method:</th>                 <td>MLE</td>       <th>  Df Model:          </th>   <td>     2</td>  \n",
       "</tr>\n",
       "<tr>\n",
       "  <th>Date:</th>            <td>Fri, 03 Oct 2025</td> <th>  Pseudo R-squ.:     </th>   <td>0.4863</td>  \n",
       "</tr>\n",
       "<tr>\n",
       "  <th>Time:</th>                <td>12:25:59</td>     <th>  Log-Likelihood:    </th>  <td> -386.24</td> \n",
       "</tr>\n",
       "<tr>\n",
       "  <th>converged:</th>             <td>True</td>       <th>  LL-Null:           </th>  <td> -751.93</td> \n",
       "</tr>\n",
       "<tr>\n",
       "  <th>Covariance Type:</th>     <td>nonrobust</td>    <th>  LLR p-value:       </th> <td>1.534e-159</td>\n",
       "</tr>\n",
       "</table>\n",
       "<table class=\"simpletable\">\n",
       "<tr>\n",
       "      <td></td>         <th>coef</th>     <th>std err</th>      <th>z</th>      <th>P>|z|</th>  <th>[0.025</th>    <th>0.975]</th>  \n",
       "</tr>\n",
       "<tr>\n",
       "  <th>Intercept</th> <td>  -12.2894</td> <td>    0.661</td> <td>  -18.591</td> <td> 0.000</td> <td>  -13.585</td> <td>  -10.994</td>\n",
       "</tr>\n",
       "<tr>\n",
       "  <th>income</th>    <td> 2.933e-05</td> <td> 7.21e-06</td> <td>    4.066</td> <td> 0.000</td> <td> 1.52e-05</td> <td> 4.35e-05</td>\n",
       "</tr>\n",
       "<tr>\n",
       "  <th>balance</th>   <td>    0.0060</td> <td>    0.000</td> <td>   17.583</td> <td> 0.000</td> <td>    0.005</td> <td>    0.007</td>\n",
       "</tr>\n",
       "</table><br/><br/>Possibly complete quasi-separation: A fraction 0.17 of observations can be<br/>perfectly predicted. This might indicate that there is complete<br/>quasi-separation. In this case some parameters will not be identified."
      ],
      "text/latex": [
       "\\begin{center}\n",
       "\\begin{tabular}{lclc}\n",
       "\\toprule\n",
       "\\textbf{Dep. Variable:}   &     default      & \\textbf{  No. Observations:  } &     5000    \\\\\n",
       "\\textbf{Model:}           &      Logit       & \\textbf{  Df Residuals:      } &     4997    \\\\\n",
       "\\textbf{Method:}          &       MLE        & \\textbf{  Df Model:          } &        2    \\\\\n",
       "\\textbf{Date:}            & Fri, 03 Oct 2025 & \\textbf{  Pseudo R-squ.:     } &   0.4863    \\\\\n",
       "\\textbf{Time:}            &     12:25:59     & \\textbf{  Log-Likelihood:    } &   -386.24   \\\\\n",
       "\\textbf{converged:}       &       True       & \\textbf{  LL-Null:           } &   -751.93   \\\\\n",
       "\\textbf{Covariance Type:} &    nonrobust     & \\textbf{  LLR p-value:       } & 1.534e-159  \\\\\n",
       "\\bottomrule\n",
       "\\end{tabular}\n",
       "\\begin{tabular}{lcccccc}\n",
       "                   & \\textbf{coef} & \\textbf{std err} & \\textbf{z} & \\textbf{P$> |$z$|$} & \\textbf{[0.025} & \\textbf{0.975]}  \\\\\n",
       "\\midrule\n",
       "\\textbf{Intercept} &     -12.2894  &        0.661     &   -18.591  &         0.000        &      -13.585    &      -10.994     \\\\\n",
       "\\textbf{income}    &    2.933e-05  &     7.21e-06     &     4.066  &         0.000        &     1.52e-05    &     4.35e-05     \\\\\n",
       "\\textbf{balance}   &       0.0060  &        0.000     &    17.583  &         0.000        &        0.005    &        0.007     \\\\\n",
       "\\bottomrule\n",
       "\\end{tabular}\n",
       "%\\caption{Logit Regression Results}\n",
       "\\end{center}\n",
       "\n",
       "Possibly complete quasi-separation: A fraction 0.17 of observations can be \\newline\n",
       " perfectly predicted. This might indicate that there is complete \\newline\n",
       " quasi-separation. In this case some parameters will not be identified."
      ],
      "text/plain": [
       "<class 'statsmodels.iolib.summary.Summary'>\n",
       "\"\"\"\n",
       "                           Logit Regression Results                           \n",
       "==============================================================================\n",
       "Dep. Variable:                default   No. Observations:                 5000\n",
       "Model:                          Logit   Df Residuals:                     4997\n",
       "Method:                           MLE   Df Model:                            2\n",
       "Date:                Fri, 03 Oct 2025   Pseudo R-squ.:                  0.4863\n",
       "Time:                        12:25:59   Log-Likelihood:                -386.24\n",
       "converged:                       True   LL-Null:                       -751.93\n",
       "Covariance Type:            nonrobust   LLR p-value:                1.534e-159\n",
       "==============================================================================\n",
       "                 coef    std err          z      P>|z|      [0.025      0.975]\n",
       "------------------------------------------------------------------------------\n",
       "Intercept    -12.2894      0.661    -18.591      0.000     -13.585     -10.994\n",
       "income      2.933e-05   7.21e-06      4.066      0.000    1.52e-05    4.35e-05\n",
       "balance        0.0060      0.000     17.583      0.000       0.005       0.007\n",
       "==============================================================================\n",
       "\n",
       "Possibly complete quasi-separation: A fraction 0.17 of observations can be\n",
       "perfectly predicted. This might indicate that there is complete\n",
       "quasi-separation. In this case some parameters will not be identified.\n",
       "\"\"\""
      ]
     },
     "execution_count": 9,
     "metadata": {},
     "output_type": "execute_result"
    }
   ],
   "source": [
    "data_train, data_validation = train_test_split(data, test_size=0.5, random_state=465)\n",
    "model2 = smf.logit('default~income+balance', data_train).fit()\n",
    "predictions2 = np.where(model2.predict(data_validation) > 0.5, 1, 0)\n",
    "model2.summary()"
   ]
  },
  {
   "cell_type": "code",
   "execution_count": 10,
   "id": "fa704443-bf2e-4fa8-b146-75279cacb16b",
   "metadata": {},
   "outputs": [
    {
     "data": {
      "text/plain": [
       "np.float64(0.0274)"
      ]
     },
     "execution_count": 10,
     "metadata": {},
     "output_type": "execute_result"
    }
   ],
   "source": [
    "np.mean(predictions2 != data_validation['default'])"
   ]
  },
  {
   "cell_type": "markdown",
   "id": "06416c6e-a0e0-48ed-98eb-3ba1b22a055d",
   "metadata": {},
   "source": [
    "The validation set error for the validation split determined by the seed `465` is $2.74\\%$.\n",
    "\n",
    "The second repetition will use the seed `402`."
   ]
  },
  {
   "cell_type": "code",
   "execution_count": 11,
   "id": "541bfbf8-f175-41ee-bdc6-bdfdb1412958",
   "metadata": {},
   "outputs": [
    {
     "name": "stdout",
     "output_type": "stream",
     "text": [
      "Optimization terminated successfully.\n",
      "         Current function value: 0.069673\n",
      "         Iterations 10\n"
     ]
    },
    {
     "data": {
      "text/html": [
       "<table class=\"simpletable\">\n",
       "<caption>Logit Regression Results</caption>\n",
       "<tr>\n",
       "  <th>Dep. Variable:</th>        <td>default</td>     <th>  No. Observations:  </th>   <td>  5000</td>  \n",
       "</tr>\n",
       "<tr>\n",
       "  <th>Model:</th>                 <td>Logit</td>      <th>  Df Residuals:      </th>   <td>  4997</td>  \n",
       "</tr>\n",
       "<tr>\n",
       "  <th>Method:</th>                 <td>MLE</td>       <th>  Df Model:          </th>   <td>     2</td>  \n",
       "</tr>\n",
       "<tr>\n",
       "  <th>Date:</th>            <td>Fri, 03 Oct 2025</td> <th>  Pseudo R-squ.:     </th>   <td>0.4856</td>  \n",
       "</tr>\n",
       "<tr>\n",
       "  <th>Time:</th>                <td>12:26:02</td>     <th>  Log-Likelihood:    </th>  <td> -348.36</td> \n",
       "</tr>\n",
       "<tr>\n",
       "  <th>converged:</th>             <td>True</td>       <th>  LL-Null:           </th>  <td> -677.18</td> \n",
       "</tr>\n",
       "<tr>\n",
       "  <th>Covariance Type:</th>     <td>nonrobust</td>    <th>  LLR p-value:       </th> <td>1.570e-143</td>\n",
       "</tr>\n",
       "</table>\n",
       "<table class=\"simpletable\">\n",
       "<tr>\n",
       "      <td></td>         <th>coef</th>     <th>std err</th>      <th>z</th>      <th>P>|z|</th>  <th>[0.025</th>    <th>0.975]</th>  \n",
       "</tr>\n",
       "<tr>\n",
       "  <th>Intercept</th> <td>  -12.4179</td> <td>    0.701</td> <td>  -17.711</td> <td> 0.000</td> <td>  -13.792</td> <td>  -11.044</td>\n",
       "</tr>\n",
       "<tr>\n",
       "  <th>income</th>    <td> 2.192e-05</td> <td> 7.63e-06</td> <td>    2.872</td> <td> 0.004</td> <td> 6.96e-06</td> <td> 3.69e-05</td>\n",
       "</tr>\n",
       "<tr>\n",
       "  <th>balance</th>   <td>    0.0061</td> <td>    0.000</td> <td>   16.631</td> <td> 0.000</td> <td>    0.005</td> <td>    0.007</td>\n",
       "</tr>\n",
       "</table><br/><br/>Possibly complete quasi-separation: A fraction 0.21 of observations can be<br/>perfectly predicted. This might indicate that there is complete<br/>quasi-separation. In this case some parameters will not be identified."
      ],
      "text/latex": [
       "\\begin{center}\n",
       "\\begin{tabular}{lclc}\n",
       "\\toprule\n",
       "\\textbf{Dep. Variable:}   &     default      & \\textbf{  No. Observations:  } &     5000    \\\\\n",
       "\\textbf{Model:}           &      Logit       & \\textbf{  Df Residuals:      } &     4997    \\\\\n",
       "\\textbf{Method:}          &       MLE        & \\textbf{  Df Model:          } &        2    \\\\\n",
       "\\textbf{Date:}            & Fri, 03 Oct 2025 & \\textbf{  Pseudo R-squ.:     } &   0.4856    \\\\\n",
       "\\textbf{Time:}            &     12:26:02     & \\textbf{  Log-Likelihood:    } &   -348.36   \\\\\n",
       "\\textbf{converged:}       &       True       & \\textbf{  LL-Null:           } &   -677.18   \\\\\n",
       "\\textbf{Covariance Type:} &    nonrobust     & \\textbf{  LLR p-value:       } & 1.570e-143  \\\\\n",
       "\\bottomrule\n",
       "\\end{tabular}\n",
       "\\begin{tabular}{lcccccc}\n",
       "                   & \\textbf{coef} & \\textbf{std err} & \\textbf{z} & \\textbf{P$> |$z$|$} & \\textbf{[0.025} & \\textbf{0.975]}  \\\\\n",
       "\\midrule\n",
       "\\textbf{Intercept} &     -12.4179  &        0.701     &   -17.711  &         0.000        &      -13.792    &      -11.044     \\\\\n",
       "\\textbf{income}    &    2.192e-05  &     7.63e-06     &     2.872  &         0.004        &     6.96e-06    &     3.69e-05     \\\\\n",
       "\\textbf{balance}   &       0.0061  &        0.000     &    16.631  &         0.000        &        0.005    &        0.007     \\\\\n",
       "\\bottomrule\n",
       "\\end{tabular}\n",
       "%\\caption{Logit Regression Results}\n",
       "\\end{center}\n",
       "\n",
       "Possibly complete quasi-separation: A fraction 0.21 of observations can be \\newline\n",
       " perfectly predicted. This might indicate that there is complete \\newline\n",
       " quasi-separation. In this case some parameters will not be identified."
      ],
      "text/plain": [
       "<class 'statsmodels.iolib.summary.Summary'>\n",
       "\"\"\"\n",
       "                           Logit Regression Results                           \n",
       "==============================================================================\n",
       "Dep. Variable:                default   No. Observations:                 5000\n",
       "Model:                          Logit   Df Residuals:                     4997\n",
       "Method:                           MLE   Df Model:                            2\n",
       "Date:                Fri, 03 Oct 2025   Pseudo R-squ.:                  0.4856\n",
       "Time:                        12:26:02   Log-Likelihood:                -348.36\n",
       "converged:                       True   LL-Null:                       -677.18\n",
       "Covariance Type:            nonrobust   LLR p-value:                1.570e-143\n",
       "==============================================================================\n",
       "                 coef    std err          z      P>|z|      [0.025      0.975]\n",
       "------------------------------------------------------------------------------\n",
       "Intercept    -12.4179      0.701    -17.711      0.000     -13.792     -11.044\n",
       "income      2.192e-05   7.63e-06      2.872      0.004    6.96e-06    3.69e-05\n",
       "balance        0.0061      0.000     16.631      0.000       0.005       0.007\n",
       "==============================================================================\n",
       "\n",
       "Possibly complete quasi-separation: A fraction 0.21 of observations can be\n",
       "perfectly predicted. This might indicate that there is complete\n",
       "quasi-separation. In this case some parameters will not be identified.\n",
       "\"\"\""
      ]
     },
     "execution_count": 11,
     "metadata": {},
     "output_type": "execute_result"
    }
   ],
   "source": [
    "data_train, data_validation = train_test_split(data, test_size=0.5, random_state=402)\n",
    "model3 = smf.logit('default~income+balance', data_train).fit()\n",
    "predictions3 = np.where(model3.predict(data_validation) > 0.5, 1, 0)\n",
    "model3.summary()"
   ]
  },
  {
   "cell_type": "code",
   "execution_count": 12,
   "id": "61539616-c1d8-4f91-a302-84bd3c5eceec",
   "metadata": {},
   "outputs": [
    {
     "data": {
      "text/plain": [
       "np.float64(0.0292)"
      ]
     },
     "execution_count": 12,
     "metadata": {},
     "output_type": "execute_result"
    }
   ],
   "source": [
    "np.mean(predictions3 != data_validation['default'])"
   ]
  },
  {
   "cell_type": "markdown",
   "id": "42ada50c-8c0b-45f6-8431-f65754e886bf",
   "metadata": {},
   "source": [
    "The validation set error for the validation split determined by the seed `402` is $2.92\\%$.\n",
    "\n",
    "The third repetition will use the seed `415`."
   ]
  },
  {
   "cell_type": "code",
   "execution_count": 13,
   "id": "3e396b16-6e29-4876-9fbe-5c2e9e2116db",
   "metadata": {},
   "outputs": [
    {
     "name": "stdout",
     "output_type": "stream",
     "text": [
      "Optimization terminated successfully.\n",
      "         Current function value: 0.082030\n",
      "         Iterations 10\n"
     ]
    },
    {
     "data": {
      "text/html": [
       "<table class=\"simpletable\">\n",
       "<caption>Logit Regression Results</caption>\n",
       "<tr>\n",
       "  <th>Dep. Variable:</th>        <td>default</td>     <th>  No. Observations:  </th>   <td>  5000</td>  \n",
       "</tr>\n",
       "<tr>\n",
       "  <th>Model:</th>                 <td>Logit</td>      <th>  Df Residuals:      </th>   <td>  4997</td>  \n",
       "</tr>\n",
       "<tr>\n",
       "  <th>Method:</th>                 <td>MLE</td>       <th>  Df Model:          </th>   <td>     2</td>  \n",
       "</tr>\n",
       "<tr>\n",
       "  <th>Date:</th>            <td>Fri, 03 Oct 2025</td> <th>  Pseudo R-squ.:     </th>   <td>0.4640</td>  \n",
       "</tr>\n",
       "<tr>\n",
       "  <th>Time:</th>                <td>12:26:05</td>     <th>  Log-Likelihood:    </th>  <td> -410.15</td> \n",
       "</tr>\n",
       "<tr>\n",
       "  <th>converged:</th>             <td>True</td>       <th>  LL-Null:           </th>  <td> -765.19</td> \n",
       "</tr>\n",
       "<tr>\n",
       "  <th>Covariance Type:</th>     <td>nonrobust</td>    <th>  LLR p-value:       </th> <td>6.417e-155</td>\n",
       "</tr>\n",
       "</table>\n",
       "<table class=\"simpletable\">\n",
       "<tr>\n",
       "      <td></td>         <th>coef</th>     <th>std err</th>      <th>z</th>      <th>P>|z|</th>  <th>[0.025</th>    <th>0.975]</th>  \n",
       "</tr>\n",
       "<tr>\n",
       "  <th>Intercept</th> <td>  -11.5815</td> <td>    0.605</td> <td>  -19.148</td> <td> 0.000</td> <td>  -12.767</td> <td>  -10.396</td>\n",
       "</tr>\n",
       "<tr>\n",
       "  <th>income</th>    <td>  2.34e-05</td> <td> 6.86e-06</td> <td>    3.414</td> <td> 0.001</td> <td> 9.97e-06</td> <td> 3.68e-05</td>\n",
       "</tr>\n",
       "<tr>\n",
       "  <th>balance</th>   <td>    0.0057</td> <td>    0.000</td> <td>   18.001</td> <td> 0.000</td> <td>    0.005</td> <td>    0.006</td>\n",
       "</tr>\n",
       "</table><br/><br/>Possibly complete quasi-separation: A fraction 0.14 of observations can be<br/>perfectly predicted. This might indicate that there is complete<br/>quasi-separation. In this case some parameters will not be identified."
      ],
      "text/latex": [
       "\\begin{center}\n",
       "\\begin{tabular}{lclc}\n",
       "\\toprule\n",
       "\\textbf{Dep. Variable:}   &     default      & \\textbf{  No. Observations:  } &     5000    \\\\\n",
       "\\textbf{Model:}           &      Logit       & \\textbf{  Df Residuals:      } &     4997    \\\\\n",
       "\\textbf{Method:}          &       MLE        & \\textbf{  Df Model:          } &        2    \\\\\n",
       "\\textbf{Date:}            & Fri, 03 Oct 2025 & \\textbf{  Pseudo R-squ.:     } &   0.4640    \\\\\n",
       "\\textbf{Time:}            &     12:26:05     & \\textbf{  Log-Likelihood:    } &   -410.15   \\\\\n",
       "\\textbf{converged:}       &       True       & \\textbf{  LL-Null:           } &   -765.19   \\\\\n",
       "\\textbf{Covariance Type:} &    nonrobust     & \\textbf{  LLR p-value:       } & 6.417e-155  \\\\\n",
       "\\bottomrule\n",
       "\\end{tabular}\n",
       "\\begin{tabular}{lcccccc}\n",
       "                   & \\textbf{coef} & \\textbf{std err} & \\textbf{z} & \\textbf{P$> |$z$|$} & \\textbf{[0.025} & \\textbf{0.975]}  \\\\\n",
       "\\midrule\n",
       "\\textbf{Intercept} &     -11.5815  &        0.605     &   -19.148  &         0.000        &      -12.767    &      -10.396     \\\\\n",
       "\\textbf{income}    &     2.34e-05  &     6.86e-06     &     3.414  &         0.001        &     9.97e-06    &     3.68e-05     \\\\\n",
       "\\textbf{balance}   &       0.0057  &        0.000     &    18.001  &         0.000        &        0.005    &        0.006     \\\\\n",
       "\\bottomrule\n",
       "\\end{tabular}\n",
       "%\\caption{Logit Regression Results}\n",
       "\\end{center}\n",
       "\n",
       "Possibly complete quasi-separation: A fraction 0.14 of observations can be \\newline\n",
       " perfectly predicted. This might indicate that there is complete \\newline\n",
       " quasi-separation. In this case some parameters will not be identified."
      ],
      "text/plain": [
       "<class 'statsmodels.iolib.summary.Summary'>\n",
       "\"\"\"\n",
       "                           Logit Regression Results                           \n",
       "==============================================================================\n",
       "Dep. Variable:                default   No. Observations:                 5000\n",
       "Model:                          Logit   Df Residuals:                     4997\n",
       "Method:                           MLE   Df Model:                            2\n",
       "Date:                Fri, 03 Oct 2025   Pseudo R-squ.:                  0.4640\n",
       "Time:                        12:26:05   Log-Likelihood:                -410.15\n",
       "converged:                       True   LL-Null:                       -765.19\n",
       "Covariance Type:            nonrobust   LLR p-value:                6.417e-155\n",
       "==============================================================================\n",
       "                 coef    std err          z      P>|z|      [0.025      0.975]\n",
       "------------------------------------------------------------------------------\n",
       "Intercept    -11.5815      0.605    -19.148      0.000     -12.767     -10.396\n",
       "income       2.34e-05   6.86e-06      3.414      0.001    9.97e-06    3.68e-05\n",
       "balance        0.0057      0.000     18.001      0.000       0.005       0.006\n",
       "==============================================================================\n",
       "\n",
       "Possibly complete quasi-separation: A fraction 0.14 of observations can be\n",
       "perfectly predicted. This might indicate that there is complete\n",
       "quasi-separation. In this case some parameters will not be identified.\n",
       "\"\"\""
      ]
     },
     "execution_count": 13,
     "metadata": {},
     "output_type": "execute_result"
    }
   ],
   "source": [
    "data_train, data_validation = train_test_split(data, test_size=0.5, random_state=415)\n",
    "model4 = smf.logit('default~income+balance', data_train).fit()\n",
    "predictions4 = np.where(model4.predict(data_validation) > 0.5, 1, 0)\n",
    "model4.summary()"
   ]
  },
  {
   "cell_type": "code",
   "execution_count": 14,
   "id": "3ed169ca-bdc2-4166-80e8-92df93234051",
   "metadata": {},
   "outputs": [
    {
     "data": {
      "text/plain": [
       "np.float64(0.0246)"
      ]
     },
     "execution_count": 14,
     "metadata": {},
     "output_type": "execute_result"
    }
   ],
   "source": [
    "np.mean(predictions4 != data_validation['default'])"
   ]
  },
  {
   "cell_type": "markdown",
   "id": "e4dee3a1-1757-4ed5-be7d-f216f906c62c",
   "metadata": {},
   "source": [
    "The validation set error for the validation split determined by the seed `382` is $2.46\\%$.\n",
    "\n",
    "The following table compares the error between each model trained.\n",
    "\n",
    "| Model | Seed | Validation Set Error |\n",
    "|-------|------|----------------------|\n",
    "| 0     | 381  | 2.48%                |\n",
    "| 1     | 465  | 2.74%                |\n",
    "| 2     | 402  | 2.92%                |\n",
    "| 3     | 415  | 2.46%                |"
   ]
  },
  {
   "cell_type": "markdown",
   "id": "85e5e4b1-9959-43c9-82c5-e7096674f4ba",
   "metadata": {},
   "source": [
    "#### (d) Now consider a logistic regression model that predicts the probability of `default` using `income`, `balance`, and a dummy variable for `student`. Estimate the test error for this model using the validation set approach. Comment on whether or not including a dummy variable for `student` leads to a reduction in the test error rate.\n",
    "\n",
    "We will reload the data set before cleaning it up to prevent overwriting in case the code is run again accidentally."
   ]
  },
  {
   "cell_type": "code",
   "execution_count": 15,
   "id": "b6e04436-35af-4ee0-a93e-bd0bdf03adb0",
   "metadata": {},
   "outputs": [
    {
     "data": {
      "text/html": [
       "<div>\n",
       "<style scoped>\n",
       "    .dataframe tbody tr th:only-of-type {\n",
       "        vertical-align: middle;\n",
       "    }\n",
       "\n",
       "    .dataframe tbody tr th {\n",
       "        vertical-align: top;\n",
       "    }\n",
       "\n",
       "    .dataframe thead th {\n",
       "        text-align: right;\n",
       "    }\n",
       "</style>\n",
       "<table border=\"1\" class=\"dataframe\">\n",
       "  <thead>\n",
       "    <tr style=\"text-align: right;\">\n",
       "      <th></th>\n",
       "      <th>default</th>\n",
       "      <th>student</th>\n",
       "      <th>balance</th>\n",
       "      <th>income</th>\n",
       "    </tr>\n",
       "  </thead>\n",
       "  <tbody>\n",
       "    <tr>\n",
       "      <th>0</th>\n",
       "      <td>0</td>\n",
       "      <td>0</td>\n",
       "      <td>729.526495</td>\n",
       "      <td>44361.62507</td>\n",
       "    </tr>\n",
       "    <tr>\n",
       "      <th>1</th>\n",
       "      <td>0</td>\n",
       "      <td>1</td>\n",
       "      <td>817.180407</td>\n",
       "      <td>12106.13470</td>\n",
       "    </tr>\n",
       "    <tr>\n",
       "      <th>2</th>\n",
       "      <td>0</td>\n",
       "      <td>0</td>\n",
       "      <td>1073.549164</td>\n",
       "      <td>31767.13895</td>\n",
       "    </tr>\n",
       "    <tr>\n",
       "      <th>3</th>\n",
       "      <td>0</td>\n",
       "      <td>0</td>\n",
       "      <td>529.250605</td>\n",
       "      <td>35704.49394</td>\n",
       "    </tr>\n",
       "    <tr>\n",
       "      <th>4</th>\n",
       "      <td>0</td>\n",
       "      <td>0</td>\n",
       "      <td>785.655883</td>\n",
       "      <td>38463.49588</td>\n",
       "    </tr>\n",
       "  </tbody>\n",
       "</table>\n",
       "</div>"
      ],
      "text/plain": [
       "   default  student      balance       income\n",
       "0        0        0   729.526495  44361.62507\n",
       "1        0        1   817.180407  12106.13470\n",
       "2        0        0  1073.549164  31767.13895\n",
       "3        0        0   529.250605  35704.49394\n",
       "4        0        0   785.655883  38463.49588"
      ]
     },
     "execution_count": 15,
     "metadata": {},
     "output_type": "execute_result"
    }
   ],
   "source": [
    "data=pd.read_csv('../data/Default.csv')\n",
    "data['default']=(data['default'] == 'Yes').astype(int)\n",
    "data['student']=(data['student'] == 'Yes').astype(int)\n",
    "data.head()"
   ]
  },
  {
   "cell_type": "markdown",
   "id": "16218ba1-f4bd-4bdc-9c47-8806a7f9ec55",
   "metadata": {},
   "source": [
    "We can now train a new model. We will set the seed at `381` here to ensure the results remain constant and are reproducible. This also helps with an equitable comparison with the original model."
   ]
  },
  {
   "cell_type": "code",
   "execution_count": 16,
   "id": "37cfbcd3-68ed-432b-a44c-b64a9d405b9d",
   "metadata": {},
   "outputs": [
    {
     "name": "stdout",
     "output_type": "stream",
     "text": [
      "Optimization terminated successfully.\n",
      "         Current function value: 0.081253\n",
      "         Iterations 10\n"
     ]
    },
    {
     "data": {
      "text/html": [
       "<table class=\"simpletable\">\n",
       "<caption>Logit Regression Results</caption>\n",
       "<tr>\n",
       "  <th>Dep. Variable:</th>        <td>default</td>     <th>  No. Observations:  </th>   <td>  5000</td>  \n",
       "</tr>\n",
       "<tr>\n",
       "  <th>Model:</th>                 <td>Logit</td>      <th>  Df Residuals:      </th>   <td>  4996</td>  \n",
       "</tr>\n",
       "<tr>\n",
       "  <th>Method:</th>                 <td>MLE</td>       <th>  Df Model:          </th>   <td>     3</td>  \n",
       "</tr>\n",
       "<tr>\n",
       "  <th>Date:</th>            <td>Fri, 03 Oct 2025</td> <th>  Pseudo R-squ.:     </th>   <td>0.4524</td>  \n",
       "</tr>\n",
       "<tr>\n",
       "  <th>Time:</th>                <td>12:26:11</td>     <th>  Log-Likelihood:    </th>  <td> -406.27</td> \n",
       "</tr>\n",
       "<tr>\n",
       "  <th>converged:</th>             <td>True</td>       <th>  LL-Null:           </th>  <td> -741.91</td> \n",
       "</tr>\n",
       "<tr>\n",
       "  <th>Covariance Type:</th>     <td>nonrobust</td>    <th>  LLR p-value:       </th> <td>3.518e-145</td>\n",
       "</tr>\n",
       "</table>\n",
       "<table class=\"simpletable\">\n",
       "<tr>\n",
       "      <td></td>         <th>coef</th>     <th>std err</th>      <th>z</th>      <th>P>|z|</th>  <th>[0.025</th>    <th>0.975]</th>  \n",
       "</tr>\n",
       "<tr>\n",
       "  <th>Intercept</th> <td>  -10.9724</td> <td>    0.687</td> <td>  -15.968</td> <td> 0.000</td> <td>  -12.319</td> <td>   -9.626</td>\n",
       "</tr>\n",
       "<tr>\n",
       "  <th>income</th>    <td> 9.104e-06</td> <td> 1.14e-05</td> <td>    0.799</td> <td> 0.424</td> <td>-1.32e-05</td> <td> 3.14e-05</td>\n",
       "</tr>\n",
       "<tr>\n",
       "  <th>balance</th>   <td>    0.0057</td> <td>    0.000</td> <td>   17.561</td> <td> 0.000</td> <td>    0.005</td> <td>    0.006</td>\n",
       "</tr>\n",
       "<tr>\n",
       "  <th>student</th>   <td>   -0.5397</td> <td>    0.334</td> <td>   -1.615</td> <td> 0.106</td> <td>   -1.195</td> <td>    0.115</td>\n",
       "</tr>\n",
       "</table><br/><br/>Possibly complete quasi-separation: A fraction 0.14 of observations can be<br/>perfectly predicted. This might indicate that there is complete<br/>quasi-separation. In this case some parameters will not be identified."
      ],
      "text/latex": [
       "\\begin{center}\n",
       "\\begin{tabular}{lclc}\n",
       "\\toprule\n",
       "\\textbf{Dep. Variable:}   &     default      & \\textbf{  No. Observations:  } &     5000    \\\\\n",
       "\\textbf{Model:}           &      Logit       & \\textbf{  Df Residuals:      } &     4996    \\\\\n",
       "\\textbf{Method:}          &       MLE        & \\textbf{  Df Model:          } &        3    \\\\\n",
       "\\textbf{Date:}            & Fri, 03 Oct 2025 & \\textbf{  Pseudo R-squ.:     } &   0.4524    \\\\\n",
       "\\textbf{Time:}            &     12:26:11     & \\textbf{  Log-Likelihood:    } &   -406.27   \\\\\n",
       "\\textbf{converged:}       &       True       & \\textbf{  LL-Null:           } &   -741.91   \\\\\n",
       "\\textbf{Covariance Type:} &    nonrobust     & \\textbf{  LLR p-value:       } & 3.518e-145  \\\\\n",
       "\\bottomrule\n",
       "\\end{tabular}\n",
       "\\begin{tabular}{lcccccc}\n",
       "                   & \\textbf{coef} & \\textbf{std err} & \\textbf{z} & \\textbf{P$> |$z$|$} & \\textbf{[0.025} & \\textbf{0.975]}  \\\\\n",
       "\\midrule\n",
       "\\textbf{Intercept} &     -10.9724  &        0.687     &   -15.968  &         0.000        &      -12.319    &       -9.626     \\\\\n",
       "\\textbf{income}    &    9.104e-06  &     1.14e-05     &     0.799  &         0.424        &    -1.32e-05    &     3.14e-05     \\\\\n",
       "\\textbf{balance}   &       0.0057  &        0.000     &    17.561  &         0.000        &        0.005    &        0.006     \\\\\n",
       "\\textbf{student}   &      -0.5397  &        0.334     &    -1.615  &         0.106        &       -1.195    &        0.115     \\\\\n",
       "\\bottomrule\n",
       "\\end{tabular}\n",
       "%\\caption{Logit Regression Results}\n",
       "\\end{center}\n",
       "\n",
       "Possibly complete quasi-separation: A fraction 0.14 of observations can be \\newline\n",
       " perfectly predicted. This might indicate that there is complete \\newline\n",
       " quasi-separation. In this case some parameters will not be identified."
      ],
      "text/plain": [
       "<class 'statsmodels.iolib.summary.Summary'>\n",
       "\"\"\"\n",
       "                           Logit Regression Results                           \n",
       "==============================================================================\n",
       "Dep. Variable:                default   No. Observations:                 5000\n",
       "Model:                          Logit   Df Residuals:                     4996\n",
       "Method:                           MLE   Df Model:                            3\n",
       "Date:                Fri, 03 Oct 2025   Pseudo R-squ.:                  0.4524\n",
       "Time:                        12:26:11   Log-Likelihood:                -406.27\n",
       "converged:                       True   LL-Null:                       -741.91\n",
       "Covariance Type:            nonrobust   LLR p-value:                3.518e-145\n",
       "==============================================================================\n",
       "                 coef    std err          z      P>|z|      [0.025      0.975]\n",
       "------------------------------------------------------------------------------\n",
       "Intercept    -10.9724      0.687    -15.968      0.000     -12.319      -9.626\n",
       "income      9.104e-06   1.14e-05      0.799      0.424   -1.32e-05    3.14e-05\n",
       "balance        0.0057      0.000     17.561      0.000       0.005       0.006\n",
       "student       -0.5397      0.334     -1.615      0.106      -1.195       0.115\n",
       "==============================================================================\n",
       "\n",
       "Possibly complete quasi-separation: A fraction 0.14 of observations can be\n",
       "perfectly predicted. This might indicate that there is complete\n",
       "quasi-separation. In this case some parameters will not be identified.\n",
       "\"\"\""
      ]
     },
     "execution_count": 16,
     "metadata": {},
     "output_type": "execute_result"
    }
   ],
   "source": [
    "data_train, data_validation = train_test_split(data, test_size=0.5, random_state=381)\n",
    "model5 = smf.logit('default~income+balance+student', data_train).fit()\n",
    "predictions5 = np.where(model5.predict(data_validation) > 0.5, 1, 0)\n",
    "model5.summary()"
   ]
  },
  {
   "cell_type": "code",
   "execution_count": 17,
   "id": "7991e957-9adf-45d8-a31b-208c320fce2a",
   "metadata": {},
   "outputs": [
    {
     "data": {
      "text/plain": [
       "np.float64(0.0256)"
      ]
     },
     "execution_count": 17,
     "metadata": {},
     "output_type": "execute_result"
    }
   ],
   "source": [
    "np.mean(predictions5 != data_validation['default'])"
   ]
  },
  {
   "cell_type": "markdown",
   "id": "0c1f3d6e-2f2b-4177-811e-4c56f54833f6",
   "metadata": {},
   "source": [
    "The validation set error when we include `student` as a dummy variable is $2.56\\%$. This is an increase from when `student` is not included. So including the fact whether the record belongs to a student or not does not lead to a reduction in the validation set error."
   ]
  },
  {
   "cell_type": "markdown",
   "id": "6ef2ebf5-7613-4b46-8ce3-f9a6e0691c62",
   "metadata": {},
   "source": [
    "### Question 3: ISLP $\\S$ 5.4.8\n",
    "\n",
    "We will now perform cross-validation on a simulated data set.\n",
    "\n",
    "#### (a) Generate a simulated data set as given in the text. In this data set, what is $n$ and what is $p$? Write out the model used to generate the data in equation form.\n",
    "\n",
    "From the code used to simulate the data set, we can determine that $n=100$, since 100 data points are being generated, and $p=1$, since there is only one predictor variable, despite there being two terms in the model. At the end, the second term, $x^2$, is still using the same predictor, $x$ to create a polynomial model.\n",
    "\n",
    "The model used to generate the data is:\n",
    "\n",
    "$$y=x-2x^2+\\epsilon$$\n",
    "\n",
    "where $\\epsilon$ is the random noise generated."
   ]
  },
  {
   "cell_type": "code",
   "execution_count": 18,
   "id": "e4f28541-a713-4532-811d-a2c809fc7119",
   "metadata": {},
   "outputs": [],
   "source": [
    "rng = np.random.default_rng(1)\n",
    "x = rng.normal(size=100)\n",
    "y = x - 2 * x**2 + rng.normal(size=100)"
   ]
  },
  {
   "cell_type": "markdown",
   "id": "40aa66e9-1383-4723-9f36-fddbb61f0cdf",
   "metadata": {},
   "source": [
    "#### (b) Create a scatterplot of $X$ against $Y$. Comment on what you find."
   ]
  },
  {
   "cell_type": "code",
   "execution_count": 20,
   "id": "f9579367-1f81-40a8-85fa-4c92af4e4fb9",
   "metadata": {},
   "outputs": [
    {
     "data": {
      "text/plain": [
       "Text(0, 0.5, 'Y')"
      ]
     },
     "execution_count": 20,
     "metadata": {},
     "output_type": "execute_result"
    },
    {
     "data": {
      "image/png": "[encoded data removed]",
      "text/plain": [
       "<Figure size 640x480 with 1 Axes>"
      ]
     },
     "metadata": {},
     "output_type": "display_data"
    }
   ],
   "source": [
    "plt.scatter(x,y); plt.xlabel('X'); plt.ylabel('Y')"
   ]
  },
  {
   "cell_type": "markdown",
   "id": "9e89d35b-1ee8-4195-ad79-a6e5ba2a9f69",
   "metadata": {},
   "source": [
    "The plot demonstrates what looks like a polynomial-based model of the second degree (quadratic). The general trend is a parabola with its mouth facing towards negative infinity on the y-axis (negative concavity). There is minimal noise, and the parabola, if ideal, would likely rest on the origin.\n",
    "\n",
    "#### (c) Set a random seed, and then compute the LOOCV errors that result from fitting the following four models using least squares.\n",
    "\n",
    "The models being trained are:\n",
    "\n",
    "1. $Y=\\beta_0+\\beta_1X+\\epsilon$\n",
    "2. $Y=\\beta_0+\\beta_1X+\\beta_2X^2+\\epsilon$\n",
    "3. $Y=\\beta_0+\\beta_1X+\\beta_2X^2+\\beta_3X^3+\\epsilon$\n",
    "4. $Y=\\beta_0+\\beta_1X+\\beta_2X^2+\\beta_3X^3+\\beta_4X^4+\\epsilon$\n",
    "\n",
    "We first create the data frame `sim` to host the above data."
   ]
  },
  {
   "cell_type": "code",
   "execution_count": 23,
   "id": "a3663e15-38cb-41e1-aa0a-97b313f86189",
   "metadata": {},
   "outputs": [],
   "source": [
    "sim=pd.DataFrame({'x':x,'y':y})"
   ]
  },
  {
   "cell_type": "markdown",
   "id": "905faea4-fec4-46d8-b9a1-f5be7e19f0ce",
   "metadata": {},
   "source": [
    "We can now initiate the LOOCV object and train the models. We set the seed at `1` and proceed with calculating the LOOCV errors. We will use `sklearn` over `statsmodels` here for ease of use with the new methods being implemented."
   ]
  },
  {
   "cell_type": "code",
   "execution_count": 53,
   "id": "64aabb5d-9d4f-48ba-933d-9b7f301767ab",
   "metadata": {},
   "outputs": [
    {
     "name": "stdout",
     "output_type": "stream",
     "text": [
      "  Model (d=1): 6.6330\n",
      "  Model (d=2): 1.1229\n",
      "  Model (d=3): 1.3018\n",
      "  Model (d=4): 1.3324\n"
     ]
    }
   ],
   "source": [
    "np.random.seed(1)\n",
    "loocv_results = {}\n",
    "for deg in range(1,5):\n",
    "    sim_poly=np.column_stack([sim.x**p for p in range(1,deg+1)])\n",
    "    mse_list = []\n",
    "    model = LinearRegression()\n",
    "    for train_index, test_index in loo.split(sim_poly):\n",
    "        X_train, X_test = sim_poly[train_index], sim_poly[test_index]\n",
    "        y_train, y_test = sim.y[train_index], sim.y[test_index]\n",
    "        model.fit(X_train, y_train)\n",
    "        y_pred = model.predict(X_test)\n",
    "        mse_list.append(mean_squared_error(y_test, y_pred))\n",
    "    loocv_mse=np.mean(mse_list)\n",
    "    loocv_results[f'Model (d={deg})'] = loocv_mse\n",
    "for model_name, mse in loocv_results.items():\n",
    "    print(f\"  {model_name}: {mse:.4f}\")"
   ]
  },
  {
   "cell_type": "markdown",
   "id": "45eb65b0-58fc-4c59-9a9f-d930bd96696f",
   "metadata": {},
   "source": [
    "#### (d) Repeat (c) using another random seed, and report your results. Are your results the same as what you got in (c)? Why?\n",
    "\n",
    "Upon repeating the modeling using seed `381`, we get the same results. This is because we are only remove one data point for testing in each train-test split. This eliminates any randomness that exists within the model. In other words, the training is done in exactly the same order no matter the seed, unlike the case where we use a method like $k$-fold, where the different folds will vary, introducing randomness in the process."
   ]
  },
  {
   "cell_type": "code",
   "execution_count": 54,
   "id": "c286434a-4f0d-4227-bea4-cdbd0b13244d",
   "metadata": {},
   "outputs": [
    {
     "name": "stdout",
     "output_type": "stream",
     "text": [
      "  Model (d=1): 6.6330\n",
      "  Model (d=2): 1.1229\n",
      "  Model (d=3): 1.3018\n",
      "  Model (d=4): 1.3324\n"
     ]
    }
   ],
   "source": [
    "np.random.seed(381)\n",
    "loocv_results = {}\n",
    "for deg in range(1,5):\n",
    "    sim_poly=np.column_stack([sim.x**p for p in range(1,deg+1)])\n",
    "    mse_list = []\n",
    "    model = LinearRegression()\n",
    "    for train_index, test_index in loo.split(sim_poly):\n",
    "        X_train, X_test = sim_poly[train_index], sim_poly[test_index]\n",
    "        y_train, y_test = sim.y[train_index], sim.y[test_index]\n",
    "        model.fit(X_train, y_train)\n",
    "        y_pred = model.predict(X_test)\n",
    "        mse_list.append(mean_squared_error(y_test, y_pred))\n",
    "    loocv_mse=np.mean(mse_list)\n",
    "    loocv_results[f'Model (d={deg})'] = loocv_mse\n",
    "for model_name, mse in loocv_results.items():\n",
    "    print(f\"  {model_name}: {mse:.4f}\")"
   ]
  },
  {
   "cell_type": "markdown",
   "id": "432bc5c2-af40-4e7f-af13-8f3d1971dec6",
   "metadata": {},
   "source": [
    "#### (e) Which of the models in (c) had the smallest LOOCV error? Is this what you expected? Explain your answer.\n",
    "\n",
    "It looks like model 2, or the quadratic model $Y=\\beta_0+\\beta_1X+\\beta_2X^2+\\epsilon$, has the smallest LOOCV error. This was expected, considering the true data generating process was based on a quadratic model $y=X-2x^2+\\epsilon$. This way, the quadratic term provides the best fit among the four models, with the linear model generating the most error since it is the least flexible (due to the missing quadratic term), and the cubic and fourth-degree model producing more error as compared to the quadratic model due to overfitting caused by its high flexibility.\n",
    "\n",
    "#### (f) (Modified) Repeat part (c) using $k$-fold CV for $k=5,10,15,20$. Plot your results for error vs. degree for all these plus the LOOCV version. What do you notice?\n",
    "\n",
    "First, let's set up a data frame to store the errors for each value of $k$. LOOCV is the special case of $k$-fold CV, where $k=n$."
   ]
  },
  {
   "cell_type": "code",
   "execution_count": 63,
   "id": "a20ad962-a8f9-4fab-b967-e078266ed63b",
   "metadata": {},
   "outputs": [],
   "source": [
    "errors = pd.DataFrame({'model':loocv_results.keys(),'kn':loocv_results.values()})\n",
    "errors['degree'] = errors.index+1\n",
    "errors = errors[['model','degree','kn']]"
   ]
  },
  {
   "cell_type": "markdown",
   "id": "88b535a3-b346-453e-b481-7799f4883701",
   "metadata": {},
   "source": [
    "We can now create the models for each value of $k$. I like automating this process as much as possible with the help of loops. I am also setting the seed at `1`."
   ]
  },
  {
   "cell_type": "code",
   "execution_count": 64,
   "id": "38fa252b-2eca-4d7a-95e2-d0e6080c9896",
   "metadata": {},
   "outputs": [],
   "source": [
    "k_values = [5, 10, 15, 20]\n",
    "for k in k_values:\n",
    "    np.random.seed(1)\n",
    "    kf = KFold(n_splits=k, shuffle=True, random_state=1)\n",
    "    kfold_results = {}\n",
    "    for deg in range(1, 5):\n",
    "        sim_poly = np.column_stack([sim.x**p for p in range(1,deg+1)])\n",
    "        mse_list = []\n",
    "        model = LinearRegression()\n",
    "        for train_index, test_index in kf.split(sim_poly):\n",
    "            X_train, X_test = sim_poly[train_index], sim_poly[test_index]\n",
    "            y_train, y_test = sim.y[train_index], sim.y[test_index]\n",
    "            model.fit(X_train, y_train)\n",
    "            y_pred = model.predict(X_test)\n",
    "            mse_list.append(mean_squared_error(y_test, y_pred))\n",
    "        kfold_mse = np.mean(mse_list)\n",
    "        kfold_results[f'Model (d={deg})'] = kfold_mse\n",
    "    errors[f'k{k}'] = kfold_results.values()"
   ]
  },
  {
   "cell_type": "markdown",
   "id": "70ef00d3-b190-4537-a990-80c0e50b8d39",
   "metadata": {},
   "source": [
    "We can now proceed with plotting the results."
   ]
  },
  {
   "cell_type": "code",
   "execution_count": 65,
   "id": "eba30214-29f4-43c1-993d-7dd71701b399",
   "metadata": {},
   "outputs": [
    {
     "data": {
      "text/html": [
       "<div>\n",
       "<style scoped>\n",
       "    .dataframe tbody tr th:only-of-type {\n",
       "        vertical-align: middle;\n",
       "    }\n",
       "\n",
       "    .dataframe tbody tr th {\n",
       "        vertical-align: top;\n",
       "    }\n",
       "\n",
       "    .dataframe thead th {\n",
       "        text-align: right;\n",
       "    }\n",
       "</style>\n",
       "<table border=\"1\" class=\"dataframe\">\n",
       "  <thead>\n",
       "    <tr style=\"text-align: right;\">\n",
       "      <th></th>\n",
       "      <th>model</th>\n",
       "      <th>degree</th>\n",
       "      <th>kn</th>\n",
       "      <th>k5</th>\n",
       "      <th>k10</th>\n",
       "      <th>k15</th>\n",
       "      <th>k20</th>\n",
       "    </tr>\n",
       "  </thead>\n",
       "  <tbody>\n",
       "    <tr>\n",
       "      <th>0</th>\n",
       "      <td>Model (d=1)</td>\n",
       "      <td>1</td>\n",
       "      <td>6.633030</td>\n",
       "      <td>6.811787</td>\n",
       "      <td>6.601821</td>\n",
       "      <td>6.593518</td>\n",
       "      <td>6.673826</td>\n",
       "    </tr>\n",
       "    <tr>\n",
       "      <th>1</th>\n",
       "      <td>Model (d=2)</td>\n",
       "      <td>2</td>\n",
       "      <td>1.122937</td>\n",
       "      <td>1.225392</td>\n",
       "      <td>1.148015</td>\n",
       "      <td>1.114624</td>\n",
       "      <td>1.112671</td>\n",
       "    </tr>\n",
       "    <tr>\n",
       "      <th>2</th>\n",
       "      <td>Model (d=3)</td>\n",
       "      <td>3</td>\n",
       "      <td>1.301797</td>\n",
       "      <td>1.343901</td>\n",
       "      <td>1.318824</td>\n",
       "      <td>1.285709</td>\n",
       "      <td>1.304488</td>\n",
       "    </tr>\n",
       "    <tr>\n",
       "      <th>3</th>\n",
       "      <td>Model (d=4)</td>\n",
       "      <td>4</td>\n",
       "      <td>1.332394</td>\n",
       "      <td>1.167000</td>\n",
       "      <td>1.283247</td>\n",
       "      <td>1.281072</td>\n",
       "      <td>1.311173</td>\n",
       "    </tr>\n",
       "  </tbody>\n",
       "</table>\n",
       "</div>"
      ],
      "text/plain": [
       "         model  degree        kn        k5       k10       k15       k20\n",
       "0  Model (d=1)       1  6.633030  6.811787  6.601821  6.593518  6.673826\n",
       "1  Model (d=2)       2  1.122937  1.225392  1.148015  1.114624  1.112671\n",
       "2  Model (d=3)       3  1.301797  1.343901  1.318824  1.285709  1.304488\n",
       "3  Model (d=4)       4  1.332394  1.167000  1.283247  1.281072  1.311173"
      ]
     },
     "execution_count": 65,
     "metadata": {},
     "output_type": "execute_result"
    }
   ],
   "source": [
    "errors"
   ]
  },
  {
   "cell_type": "code",
   "execution_count": 78,
   "id": "d3d2c646-02d9-411f-84c7-9720ce9deaef",
   "metadata": {},
   "outputs": [
    {
     "data": {
      "image/png": "[encoded data removed]",
      "text/plain": [
       "<Figure size 640x480 with 1 Axes>"
      ]
     },
     "metadata": {},
     "output_type": "display_data"
    }
   ],
   "source": [
    "plt.plot(errors['degree'], errors['kn'], linestyle='dashed', linewidth=2, label='LOOCV (k=n=100)', color='black', alpha=0.2)\n",
    "colors = ['blue', 'red', 'green', 'purple']\n",
    "for i, k in enumerate(k_values):\n",
    "    plt.plot(errors['degree'], errors[f'k{k}'], linewidth=2, label=f'{k}-Fold CV', color=colors[i], alpha=0.1)\n",
    "plt.xlabel('Polynomial Degree')\n",
    "plt.ylabel('CV Score / Error (Average MSE)')\n",
    "plt.title('Cross-Validation Error vs. Polynomial Degree, Seed 1')\n",
    "plt.legend()\n",
    "plt.xticks(errors['degree'])\n",
    "plt.tight_layout()\n",
    "plt.show()"
   ]
  },
  {
   "cell_type": "markdown",
   "id": "d7213c7e-ceaa-4c8b-874b-1fb878e72c58",
   "metadata": {},
   "source": [
    "If one looks at the plot at a slight glance, it looks like there is hardly any difference, which is true. But it is important we take a closer look at a micro level:\n",
    "\n",
    "1. All methods agree that the quadratic model is the best model in terms of error.\n",
    "2. As $k$ increases, $k$-fold CV errors approach LOOCV errors, which makes sense, since LOOCV provides the largest possible value of $k=n$.\n",
    "4. All CV methods show the same overall pattern, and nearly identical curves: degree 1 has the highest error rate, degree 2 has the lowest, and degree 3 and 4 face slight increases in error rate due to overfitting. Model 2 is not sensitive to the CV method used, essentially.\n",
    "5. Practically, 10-fold or 15-fold is sufficient for model selection, since they nearly replicate the results provided by LOOCV, without the computational expenses that LOOCV brings about. LOOCV requires 100 model fits, compared to 10 or 15 in 10-fold or 15-fold.\n",
    "6. I would avoid 5-fold, since it has slightly higher error rates for what should be the optimal model, and offers lesser penalties for model 4, which has the unnecessary third and fourth degree terms, by its smaller error.\n",
    "7. All methods successfully avoid overfitting by correctly penalizing the unnecessary higher-degree terms in the third and fourth degree terms, providing us with a slightly higher error."
   ]
  }
 ],
 "metadata": {
  "kernelspec": {
   "display_name": "Python 3.12 (default)",
   "language": "python",
   "name": "python3"
  },
  "language_info": {
   "codemirror_mode": {
    "name": "ipython",
    "version": 3
   },
   "file_extension": ".py",
   "mimetype": "text/x-python",
   "name": "python",
   "nbconvert_exporter": "python",
   "pygments_lexer": "ipython3",
   "version": "3.12.11"
  }
 },
 "nbformat": 4,
 "nbformat_minor": 5
}
