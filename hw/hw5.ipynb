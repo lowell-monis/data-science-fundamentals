{
 "cells": [
  {
   "cell_type": "code",
   "execution_count": 1,
   "id": "7f2699a1-1b0a-4912-918a-cc172683b317",
   "metadata": {},
   "outputs": [],
   "source": [
    "import pandas as pd\n",
    "import numpy as np\n",
    "import matplotlib.pyplot as plt\n",
    "import seaborn as sns\n",
    "import statsmodels.api as sm\n",
    "import statsmodels.formula.api as smf\n",
    "%matplotlib inline\n",
    "from sklearn.model_selection import train_test_split, GridSearchCV, cross_val_score\n",
    "from sklearn.preprocessing import StandardScaler\n",
    "from sklearn.metrics import mean_squared_error, r2_score\n",
    "from sklearn.linear_model import Ridge, RidgeCV, Lasso, LassoCV, LinearRegression\n",
    "from sklearn.decomposition import PCA\n",
    "from sklearn.preprocessing import scale\n",
    "from sklearn.pipeline import make_pipeline"
   ]
  },
  {
   "cell_type": "markdown",
   "id": "ba4d7bb0-298c-469a-be38-20126931bec6",
   "metadata": {},
   "source": [
    "# CMSE 381, Fundamental Data Science Methods\n",
    "## Homework 5, Fall 2025\n",
    "\n",
    "**Name:** Monis, Lowell\n",
    "\n",
    "---\n",
    "\n",
    "### Question 1: Subset selection problem\n",
    "\n",
    "Below are the training and testing error from doing linear regression on different subsets of the variables from the `auto` data set to predict `mpg`.\n",
    "\n",
    "| Variables                                    | Train Score | Test Score |\n",
    "|----------------------------------------------|-------------|------------|\n",
    "| null model                                   | 60.76       | 60.73      |\n",
    "| (cylinders,)                                 | 24.02       | 24.15      |\n",
    "| (horsepower,)                                | 23.94       | 24.19      |\n",
    "| (weight,)                                    | 18.68       | 18.84      |\n",
    "| (acceleration,)                              | 49.87       | 50.26      |\n",
    "| (cylinders, horsepower)                      | 20.85       | 21.13      |\n",
    "| (cylinders, weight)                          | 18.38       | 18.55      |\n",
    "| (cylinders, acceleration)                    | 23.94       | 24.38      |\n",
    "| (horsepower, weight)                         | 17.84       | 18.03      |\n",
    "| (horsepower, acceleration)                   | 22.46       | 22.70      |\n",
    "| (weight, acceleration)                       | 18.25       | 18.61      |\n",
    "| (cylinders, horsepower, weight)              | 17.76       | 17.99      |\n",
    "| (cylinders, horsepower, acceleration)        | 20.06       | 20.44      |\n",
    "| (cylinders, weight, acceleration)            | 18.13       | 18.54      |\n",
    "| (horsepower, weight, acceleration)           | 17.84       | 18.16      |\n",
    "| (cylinders, horsepower, weight, acceleration)| 17.76       | 18.13      |\n",
    "\n",
    "Do the following for each of the three subset selection methods discussed in class:\n",
    "\n",
    "- Describe the steps taken in the algorithm to arrive at a conclusion for the best possible model.\n",
    "- Be sure to say what $\\mathcal{M}_k$ is for $k=0,1,\\dots,4$.\n",
    "- What is the best model returned by the algorithm? Give the full equation for `mpg` in terms of the variables, although you don't know the learned coefficients so those can be left in terms of $\\hat\\beta_i$.\n",
    "- How many models do you have to train to arrive at the conclusion?\n",
    "\n",
    "#### (a) Best subset selection\n",
    "\n",
    "The predictor space can be written as $\\mathcal{P}=\\{\\text{cylinders},\\text{horsepower},\\text{weight},\\text{acceleration}\\}$. $p=4$\n",
    "\n",
    "Best subset selection finds the optimal subset of predictors for each size $k$. The steps are as follows as per ISLP Algorithm $\\S$ 6.1:\n",
    "\n",
    "1. Let $\\mathcal{M}_0$ denote the null model, which contains no predictors. This model essentially predicts the sample mean for each observation.\n",
    "2. For $k=1,2,\\dots,p$:\n",
    "   - Fit all $p\\choose k$ models that contain exactly $k$ predictors.\n",
    "   - Pick the best among these $p\\choose k$ models, and call it $\\mathcal{M}_k$. Here, best is defined as having the smallest residual sum of squares, or the largest $R^2$.\n",
    "3. Now, we can select a single best model from $\\mathcal{M}_k, k\\in [p]$ using the prediction error on a validation set, thus a test error, or the adjusted $R^2$, depending on what's available. Cross-validation can also be used.\n",
    "\n",
    "The null model $\\mathcal{M}_0$ has a training error of 60.76. We can now proceed with identifying the rest of $\\mathcal{M}_k$. Since we have been given all the possible models and their training and testing errors, we do not have to train individual models and determine the different possibilities.\n",
    "\n",
    "For $k=1$, there are ${4\\choose1} = 4$ possible models to choose from. The best performing model $\\mathcal{M}_1$ is the one with the least training error at 18.68, (weight,).\n",
    "\n",
    "For $k=2$, there are ${4\\choose2} =6$ possible models to choose from. The best performing model $\\mathcal{M}_2$ is the one with the least training error at 17.84, (horsepower, weight).\n",
    "\n",
    "For $k=3$, there are ${4\\choose3}=4$ possible models to choose from. The best performing model $\\mathcal{M}_3$ is the one with the least training error at 17.76, (cylinders, horsepower, weight).\n",
    "\n",
    "For $k=4$, there are ${4\\choose4}=1$ possible model to choose from. The only model $\\mathcal{M}_4$ is (cylinders, horsepower, weight, acceleration), at training error 17.76.\n",
    "\n",
    "Now, we can gauge the best model between $\\mathcal{M}_k$, $k\\in [p]$, by comparing their respective test errors.\n",
    "\n",
    "|$k$| Best Model $\\mathcal{M}_k$                   | Train Score | Test Score |\n",
    "|---|----------------------------------------------|-------------|------------|\n",
    "| 0 | null model                                   | 60.76       | 60.73      |\n",
    "| 1 | (weight,)                                    | 18.68       | 18.84      |\n",
    "| 2 | (horsepower, weight)                         | 17.84       | 18.03      |\n",
    "| 3 | (cylinders, horsepower, weight)              | 17.76       | 17.99      |\n",
    "| 4 | (cylinders, horsepower, weight, acceleration)| 17.76       | 18.13      |\n",
    "\n",
    "From the above comparison, it looks like the lowest validation/test score (17.99) is associated with $\\mathcal{M}_3$, which is trained using (cylinders, horsepower, weight).\n",
    "\n",
    "Thus, based on test score, the best model is $\\mathcal{M}_3$ (cylinders, horsepower, weight). The model can be written as:\n",
    "\n",
    "$$\\mathrm{mpg} = \\beta_0+\\beta_1(\\mathrm{cylinders})+\\beta_2(\\mathrm{horsepower})+\\beta_3(\\mathrm{weight})$$\n",
    "\n",
    "While a quick count from the above deduction can inform us of the number of models trained, the textbook gives us a formula, $2^p$, to calculate the number of models that need to be trained for best subset selection. Thus, for this data, best subset selection needs us to train $2^4=16$ models.\n",
    "\n",
    "#### (b) Forward selection\n",
    "\n",
    "Forward stepwise selection finds the optimal subset of predictors by adding a new variable depending on its effect on the error. The steps are as follows as per ISLP Algorithm $\\S$ 6.2:\n",
    "\n",
    "1. Let $\\mathcal{M}_0$ denote the null model, which contains no predictors.\n",
    "2. For $k=0,2,\\dots,p-1$:\n",
    "   - Consider all $p-k$ models that augment the predictors in $\\mathcal{M}_k$ with one additional predictor.\n",
    "   - Choose the best among these $p-k$ models, and call it $\\mathcal{M}_{k+1}$. Here best is defined as having smallest RSS or highest $R^2$.\n",
    "3. Now, we can select a single best model from $\\mathcal{M}_k, k\\in [p]$ using the prediction error on a validation set, thus a test error, or the adjusted $R^2$, depending on what's available. Cross-validation can also be used.\n",
    "\n",
    "The algorithm uses the training error to determine which predictor to add at each step. $p=4$ predictors are available from the predictor space $\\mathcal{P}$. We initiate the algorithm with $\\mathcal{M}_0$, the null model.\n",
    "\n",
    "For $k=0$, the current model is $\\mathcal{M}_0$. There are $p-k=4-0=4$ predictors remaining. The lowest error is from adding weight, at 18.68, resulting in the model (weight,), which is now $\\mathcal{M}_1$.\n",
    "\n",
    "For $k=1$, the current model is $\\mathcal{M}_1$ (weight,). There are $p-k=4-1=3$ predictors remaining, which are cylinders, horsepower, and acceleration. The lowest error is when we add horsepower, at 17.84, resulting in the model (weight, horsepower), which is now $\\mathcal{M}_2$.\n",
    "\n",
    "For $k=2$, the current model is $\\mathcal{M}_2$ (weight, horsepower). There are $p-k=4-2=2$ predictors remaining, which are cylinders and acceleration. The lowest error is when we add cylinders, at 17.76, resulting in the model (weight, horsepower, cylinders), which is now $\\mathcal{M}_3$.\n",
    "\n",
    "For $k=4$, the current model is $\\mathcal{M}_3$ (weight, horsepower, cylinders). There is $p-k=4-3=1$ predictor remaining, which is acceleration, which we can add directly, resulting in the model (weight, horsepower, cylinders, acceleration), which is now $\\mathcal{M}_4$, having a training error of 17.76.\n",
    "\n",
    "Now, we can gauge the best model between $\\mathcal{M}_k$, $k\\in [p]$, by comparing their respective test errors.\n",
    "\n",
    "|$k$| Best Model $\\mathcal{M}_k$                   | Train Score | Test Score |\n",
    "|---|----------------------------------------------|-------------|------------|\n",
    "| 0 | null model                                   | 60.76       | 60.73      |\n",
    "| 1 | (weight,)                                    | 18.68       | 18.84      |\n",
    "| 2 | (horsepower, weight)                         | 17.84       | 18.03      |\n",
    "| 3 | (cylinders, horsepower, weight)              | 17.76       | 17.99      |\n",
    "| 4 | (cylinders, horsepower, weight, acceleration)| 17.76       | 18.13      |\n",
    "\n",
    "From the above comparison, it looks like the lowest validation/test score (17.99) is associated with $\\mathcal{M}_3$, which is trained using (cylinders, horsepower, weight).\n",
    "\n",
    "Thus, based on test score, the best model is $\\mathcal{M}_3$ (cylinders, horsepower, weight). The model can be written as:\n",
    "\n",
    "$$\\mathrm{mpg} = \\beta_0+\\beta_1(\\mathrm{cylinders})+\\beta_2(\\mathrm{horsepower})+\\beta_3(\\mathrm{weight})$$\n",
    "\n",
    "While a quick count from the above deduction can inform us of the number of models trained, the textbook gives us a formula, $1+\\frac{p(p+1)}{2}$, to calculate the number of models that need to be trained for best subset selection. Thus, for this data, best subset selection needs us to train $1+\\frac{4(4+1)}{2}=1+\\frac{20}{2}=11$ models.\n",
    "\n",
    "#### (c) Backward selection\n",
    "\n",
    "Backward stepwise selection finds the optimal subset of predictors by removing a variable depending on its effect on the error value. The steps are as follows as per ISLP Algorithm $\\S$ 6.3:\n",
    "\n",
    "1. Let $\\mathcal{M}_p$ denote the full model, containing all $p$ predictors.\n",
    "2. For $k=p,p-1,\\dots,1$:\n",
    "   - Consider all $k$ models that contain all but one of the predictors in $\\mathcal{M}_k$, for a total of $k-1$ predictors.\n",
    "   - Choose the best among these $k$ models and call it $\\mathcal{M}_{k-1}$. Here best is defined as having smallest RSS or highest $R^2$.\n",
    "3. Now, we can select a single best model from $\\mathcal{M}_k, k\\in [p]$ using the prediction error on a validation set, thus a test error, or the adjusted $R^2$, depending on what's available. Cross-validation can also be used.\n",
    "\n",
    "The algorithm uses the training error to determine which predictor to add at each step. $p=4$ predictors are available from the predictor space $\\mathcal{P}$. We initiate the algorithm with $\\mathcal{M}_0$, the null model.\n",
    "\n",
    "For $k=4$, the current model is $\\mathcal{M}_4$ (cylinders, horsepower, weight, acceleration). We try removing each of the variables and check for the effect on the training error. When we remove acceleration, the error has the most favorable change--it remains the same at 17.76, and does not increase, as is the case for the rest of the predictors. Thus, the model evolves to $\\mathcal{M}_3$ (cylinders, horsepower, weight).\n",
    "\n",
    "For $k=3$, the current model is $\\mathcal{M}_3$ (cylinders, horsepower, weight). We try removing each of the remaining variables and check for the effect on the training error. When we remove cylinders, the error has the most favorable change--it increases the least, from 17.76 to 17.84. Thus, the model evolves to $\\mathcal{M}_2$ (horsepower, weight).\n",
    "\n",
    "For $k=2$, the current model is $\\mathcal{M}_2$ (horsepower, weight). We try removing each of the remaining variables and check for the effect on the training error. When we remove horsepower, the error has the most favorable change--it increases the least, from 17.84 to 18.68. Thus, the model evolves to $\\mathcal{M}_1$ (weight,).\n",
    "\n",
    "For $k=1$, the current model is $\\mathcal{M}_1$ (weight,). We remove the last variable to evolve the model to the null model $\\mathcal{M}_0$, which has a training error of 60.76.\n",
    "\n",
    "Now, we can gauge the best model between $\\mathcal{M}_k$, $k\\in [p]$, by comparing their respective test errors.\n",
    "\n",
    "|$k$| Best Model $\\mathcal{M}_k$                   | Train Score | Test Score |\n",
    "|---|----------------------------------------------|-------------|------------|\n",
    "| 0 | null model                                   | 60.76       | 60.73      |\n",
    "| 1 | (weight,)                                    | 18.68       | 18.84      |\n",
    "| 2 | (horsepower, weight)                         | 17.84       | 18.03      |\n",
    "| 3 | (cylinders, horsepower, weight)              | 17.76       | 17.99      |\n",
    "| 4 | (cylinders, horsepower, weight, acceleration)| 17.76       | 18.13      |\n",
    "\n",
    "From the above comparison, once again, it looks like the lowest validation/test score (17.99) is associated with $\\mathcal{M}_3$, which is trained using (cylinders, horsepower, weight).\n",
    "\n",
    "Thus, based on test score, the best model is $\\mathcal{M}_3$ (cylinders, horsepower, weight). The model can be written as:\n",
    "\n",
    "$$\\mathrm{mpg} = \\beta_0+\\beta_1(\\mathrm{cylinders})+\\beta_2(\\mathrm{horsepower})+\\beta_3(\\mathrm{weight})$$\n",
    "\n",
    "While a quick count from the above deduction can inform us of the number of models trained, the textbook gives us a formula, $1+\\frac{p(p+1)}{2}$, to calculate the number of models that need to be trained for best subset selection. Thus, for this data, best subset selection needs us to train $1+\\frac{4(4+1)}{2}=1+\\frac{20}{2}=11$ models.\n",
    "\n",
    "#### (d) Are your answers to (a), (b), and (c) the same? Do we expect them to be?\n",
    "\n",
    "My answers to all three methods of subset selection conducted in this study are the same. However, we cannot expect them to be the same all the time.\n",
    "\n",
    "The best model selected by all three methods ($\\mathcal{M}_3$), which is trained using variables `cylinders`, `horsepower`, and `weight` from the `mpg` data set. The model generates a test error of 17.99.\n",
    "\n",
    "The three methods are never expected to yield the same best model all the time. Best subset selection is guaranteed to find the absolute best model with the lowest training error, which needs it to train all possible models, increasing its computational cost. Stepwise selections use greedy search strategies. All possible models are not examined, but rather a subset of models based on the previous step's choice are chosen. It is possible that the small number of predictors in this case led to us getting the same response for all three methods. This is not always the case since stepwise methods follow an irreversible, myopic path, and they may overlook the overall best model if it is not along their particular search path.\n",
    "\n",
    "### Question 2: ISLP $\\S$ 6.6.9\n",
    "\n",
    "A selection of the sub-problems in this question are to be completed. For each of the parts (c), (d), and (e), provide an additional plot showing the test error for either the potential $\\lambda$ (a.k.a. $\\alpha$) values for ridge/lasso or the potential dimension $M$ for PCR to justify the choice.\n",
    "\n",
    "In this exercise, we will predict the number of applications received using the other variables in the `College` data set.\n",
    "\n",
    "I first preprocess the data as recommended in previous chapters of ISLP. It looks like I need to do one-hot encoding for the variable `Private`."
   ]
  },
  {
   "cell_type": "code",
   "execution_count": 2,
   "id": "ca6e468e-1854-4d9c-8c31-15f3063700c2",
   "metadata": {},
   "outputs": [
    {
     "data": {
      "text/html": [
       "<div>\n",
       "<style scoped>\n",
       "    .dataframe tbody tr th:only-of-type {\n",
       "        vertical-align: middle;\n",
       "    }\n",
       "\n",
       "    .dataframe tbody tr th {\n",
       "        vertical-align: top;\n",
       "    }\n",
       "\n",
       "    .dataframe thead th {\n",
       "        text-align: right;\n",
       "    }\n",
       "</style>\n",
       "<table border=\"1\" class=\"dataframe\">\n",
       "  <thead>\n",
       "    <tr style=\"text-align: right;\">\n",
       "      <th></th>\n",
       "      <th>Private</th>\n",
       "      <th>Apps</th>\n",
       "      <th>Accept</th>\n",
       "      <th>Enroll</th>\n",
       "      <th>Top10perc</th>\n",
       "      <th>Top25perc</th>\n",
       "      <th>F.Undergrad</th>\n",
       "      <th>P.Undergrad</th>\n",
       "      <th>Outstate</th>\n",
       "      <th>Room.Board</th>\n",
       "      <th>Books</th>\n",
       "      <th>Personal</th>\n",
       "      <th>PhD</th>\n",
       "      <th>Terminal</th>\n",
       "      <th>S.F.Ratio</th>\n",
       "      <th>perc.alumni</th>\n",
       "      <th>Expend</th>\n",
       "      <th>Grad.Rate</th>\n",
       "    </tr>\n",
       "    <tr>\n",
       "      <th>College</th>\n",
       "      <th></th>\n",
       "      <th></th>\n",
       "      <th></th>\n",
       "      <th></th>\n",
       "      <th></th>\n",
       "      <th></th>\n",
       "      <th></th>\n",
       "      <th></th>\n",
       "      <th></th>\n",
       "      <th></th>\n",
       "      <th></th>\n",
       "      <th></th>\n",
       "      <th></th>\n",
       "      <th></th>\n",
       "      <th></th>\n",
       "      <th></th>\n",
       "      <th></th>\n",
       "      <th></th>\n",
       "    </tr>\n",
       "  </thead>\n",
       "  <tbody>\n",
       "    <tr>\n",
       "      <th>Abilene Christian University</th>\n",
       "      <td>1</td>\n",
       "      <td>1660</td>\n",
       "      <td>1232</td>\n",
       "      <td>721</td>\n",
       "      <td>23</td>\n",
       "      <td>52</td>\n",
       "      <td>2885</td>\n",
       "      <td>537</td>\n",
       "      <td>7440</td>\n",
       "      <td>3300</td>\n",
       "      <td>450</td>\n",
       "      <td>2200</td>\n",
       "      <td>70</td>\n",
       "      <td>78</td>\n",
       "      <td>18.1</td>\n",
       "      <td>12</td>\n",
       "      <td>7041</td>\n",
       "      <td>60</td>\n",
       "    </tr>\n",
       "    <tr>\n",
       "      <th>Adelphi University</th>\n",
       "      <td>1</td>\n",
       "      <td>2186</td>\n",
       "      <td>1924</td>\n",
       "      <td>512</td>\n",
       "      <td>16</td>\n",
       "      <td>29</td>\n",
       "      <td>2683</td>\n",
       "      <td>1227</td>\n",
       "      <td>12280</td>\n",
       "      <td>6450</td>\n",
       "      <td>750</td>\n",
       "      <td>1500</td>\n",
       "      <td>29</td>\n",
       "      <td>30</td>\n",
       "      <td>12.2</td>\n",
       "      <td>16</td>\n",
       "      <td>10527</td>\n",
       "      <td>56</td>\n",
       "    </tr>\n",
       "    <tr>\n",
       "      <th>Adrian College</th>\n",
       "      <td>1</td>\n",
       "      <td>1428</td>\n",
       "      <td>1097</td>\n",
       "      <td>336</td>\n",
       "      <td>22</td>\n",
       "      <td>50</td>\n",
       "      <td>1036</td>\n",
       "      <td>99</td>\n",
       "      <td>11250</td>\n",
       "      <td>3750</td>\n",
       "      <td>400</td>\n",
       "      <td>1165</td>\n",
       "      <td>53</td>\n",
       "      <td>66</td>\n",
       "      <td>12.9</td>\n",
       "      <td>30</td>\n",
       "      <td>8735</td>\n",
       "      <td>54</td>\n",
       "    </tr>\n",
       "    <tr>\n",
       "      <th>Agnes Scott College</th>\n",
       "      <td>1</td>\n",
       "      <td>417</td>\n",
       "      <td>349</td>\n",
       "      <td>137</td>\n",
       "      <td>60</td>\n",
       "      <td>89</td>\n",
       "      <td>510</td>\n",
       "      <td>63</td>\n",
       "      <td>12960</td>\n",
       "      <td>5450</td>\n",
       "      <td>450</td>\n",
       "      <td>875</td>\n",
       "      <td>92</td>\n",
       "      <td>97</td>\n",
       "      <td>7.7</td>\n",
       "      <td>37</td>\n",
       "      <td>19016</td>\n",
       "      <td>59</td>\n",
       "    </tr>\n",
       "    <tr>\n",
       "      <th>Alaska Pacific University</th>\n",
       "      <td>1</td>\n",
       "      <td>193</td>\n",
       "      <td>146</td>\n",
       "      <td>55</td>\n",
       "      <td>16</td>\n",
       "      <td>44</td>\n",
       "      <td>249</td>\n",
       "      <td>869</td>\n",
       "      <td>7560</td>\n",
       "      <td>4120</td>\n",
       "      <td>800</td>\n",
       "      <td>1500</td>\n",
       "      <td>76</td>\n",
       "      <td>72</td>\n",
       "      <td>11.9</td>\n",
       "      <td>2</td>\n",
       "      <td>10922</td>\n",
       "      <td>15</td>\n",
       "    </tr>\n",
       "  </tbody>\n",
       "</table>\n",
       "</div>"
      ],
      "text/plain": [
       "                              Private  Apps  Accept  Enroll  Top10perc  \\\n",
       "College                                                                  \n",
       "Abilene Christian University        1  1660    1232     721         23   \n",
       "Adelphi University                  1  2186    1924     512         16   \n",
       "Adrian College                      1  1428    1097     336         22   \n",
       "Agnes Scott College                 1   417     349     137         60   \n",
       "Alaska Pacific University           1   193     146      55         16   \n",
       "\n",
       "                              Top25perc  F.Undergrad  P.Undergrad  Outstate  \\\n",
       "College                                                                       \n",
       "Abilene Christian University         52         2885          537      7440   \n",
       "Adelphi University                   29         2683         1227     12280   \n",
       "Adrian College                       50         1036           99     11250   \n",
       "Agnes Scott College                  89          510           63     12960   \n",
       "Alaska Pacific University            44          249          869      7560   \n",
       "\n",
       "                              Room.Board  Books  Personal  PhD  Terminal  \\\n",
       "College                                                                    \n",
       "Abilene Christian University        3300    450      2200   70        78   \n",
       "Adelphi University                  6450    750      1500   29        30   \n",
       "Adrian College                      3750    400      1165   53        66   \n",
       "Agnes Scott College                 5450    450       875   92        97   \n",
       "Alaska Pacific University           4120    800      1500   76        72   \n",
       "\n",
       "                              S.F.Ratio  perc.alumni  Expend  Grad.Rate  \n",
       "College                                                                  \n",
       "Abilene Christian University       18.1           12    7041         60  \n",
       "Adelphi University                 12.2           16   10527         56  \n",
       "Adrian College                     12.9           30    8735         54  \n",
       "Agnes Scott College                 7.7           37   19016         59  \n",
       "Alaska Pacific University          11.9            2   10922         15  "
      ]
     },
     "execution_count": 2,
     "metadata": {},
     "output_type": "execute_result"
    }
   ],
   "source": [
    "data=pd.read_csv('../data/College.csv').rename({'Unnamed: 0': 'College'}, axis=1).set_index('College')\n",
    "data['Private'] = [1 if x == 'Yes' else 0 for x in data['Private']]\n",
    "data.head()"
   ]
  },
  {
   "cell_type": "code",
   "execution_count": 3,
   "id": "c2bf2ffc-ee71-450b-b9f8-6e06a2fbb2be",
   "metadata": {},
   "outputs": [
    {
     "data": {
      "text/html": [
       "<div>\n",
       "<style scoped>\n",
       "    .dataframe tbody tr th:only-of-type {\n",
       "        vertical-align: middle;\n",
       "    }\n",
       "\n",
       "    .dataframe tbody tr th {\n",
       "        vertical-align: top;\n",
       "    }\n",
       "\n",
       "    .dataframe thead th {\n",
       "        text-align: right;\n",
       "    }\n",
       "</style>\n",
       "<table border=\"1\" class=\"dataframe\">\n",
       "  <thead>\n",
       "    <tr style=\"text-align: right;\">\n",
       "      <th></th>\n",
       "      <th>Private</th>\n",
       "      <th>Apps</th>\n",
       "      <th>Accept</th>\n",
       "      <th>Enroll</th>\n",
       "      <th>Top10perc</th>\n",
       "      <th>Top25perc</th>\n",
       "      <th>F.Undergrad</th>\n",
       "      <th>P.Undergrad</th>\n",
       "      <th>Outstate</th>\n",
       "      <th>Room.Board</th>\n",
       "      <th>Books</th>\n",
       "      <th>Personal</th>\n",
       "      <th>PhD</th>\n",
       "      <th>Terminal</th>\n",
       "      <th>S.F.Ratio</th>\n",
       "      <th>perc.alumni</th>\n",
       "      <th>Expend</th>\n",
       "      <th>Grad.Rate</th>\n",
       "    </tr>\n",
       "  </thead>\n",
       "  <tbody>\n",
       "    <tr>\n",
       "      <th>count</th>\n",
       "      <td>777.000000</td>\n",
       "      <td>777.000000</td>\n",
       "      <td>777.000000</td>\n",
       "      <td>777.000000</td>\n",
       "      <td>777.000000</td>\n",
       "      <td>777.000000</td>\n",
       "      <td>777.000000</td>\n",
       "      <td>777.000000</td>\n",
       "      <td>777.000000</td>\n",
       "      <td>777.000000</td>\n",
       "      <td>777.000000</td>\n",
       "      <td>777.000000</td>\n",
       "      <td>777.000000</td>\n",
       "      <td>777.000000</td>\n",
       "      <td>777.000000</td>\n",
       "      <td>777.000000</td>\n",
       "      <td>777.000000</td>\n",
       "      <td>777.00000</td>\n",
       "    </tr>\n",
       "    <tr>\n",
       "      <th>mean</th>\n",
       "      <td>0.727156</td>\n",
       "      <td>3001.638353</td>\n",
       "      <td>2018.804376</td>\n",
       "      <td>779.972973</td>\n",
       "      <td>27.558559</td>\n",
       "      <td>55.796654</td>\n",
       "      <td>3699.907336</td>\n",
       "      <td>855.298584</td>\n",
       "      <td>10440.669241</td>\n",
       "      <td>4357.526384</td>\n",
       "      <td>549.380952</td>\n",
       "      <td>1340.642214</td>\n",
       "      <td>72.660232</td>\n",
       "      <td>79.702703</td>\n",
       "      <td>14.089704</td>\n",
       "      <td>22.743887</td>\n",
       "      <td>9660.171171</td>\n",
       "      <td>65.46332</td>\n",
       "    </tr>\n",
       "    <tr>\n",
       "      <th>std</th>\n",
       "      <td>0.445708</td>\n",
       "      <td>3870.201484</td>\n",
       "      <td>2451.113971</td>\n",
       "      <td>929.176190</td>\n",
       "      <td>17.640364</td>\n",
       "      <td>19.804778</td>\n",
       "      <td>4850.420531</td>\n",
       "      <td>1522.431887</td>\n",
       "      <td>4023.016484</td>\n",
       "      <td>1096.696416</td>\n",
       "      <td>165.105360</td>\n",
       "      <td>677.071454</td>\n",
       "      <td>16.328155</td>\n",
       "      <td>14.722359</td>\n",
       "      <td>3.958349</td>\n",
       "      <td>12.391801</td>\n",
       "      <td>5221.768440</td>\n",
       "      <td>17.17771</td>\n",
       "    </tr>\n",
       "    <tr>\n",
       "      <th>min</th>\n",
       "      <td>0.000000</td>\n",
       "      <td>81.000000</td>\n",
       "      <td>72.000000</td>\n",
       "      <td>35.000000</td>\n",
       "      <td>1.000000</td>\n",
       "      <td>9.000000</td>\n",
       "      <td>139.000000</td>\n",
       "      <td>1.000000</td>\n",
       "      <td>2340.000000</td>\n",
       "      <td>1780.000000</td>\n",
       "      <td>96.000000</td>\n",
       "      <td>250.000000</td>\n",
       "      <td>8.000000</td>\n",
       "      <td>24.000000</td>\n",
       "      <td>2.500000</td>\n",
       "      <td>0.000000</td>\n",
       "      <td>3186.000000</td>\n",
       "      <td>10.00000</td>\n",
       "    </tr>\n",
       "    <tr>\n",
       "      <th>25%</th>\n",
       "      <td>0.000000</td>\n",
       "      <td>776.000000</td>\n",
       "      <td>604.000000</td>\n",
       "      <td>242.000000</td>\n",
       "      <td>15.000000</td>\n",
       "      <td>41.000000</td>\n",
       "      <td>992.000000</td>\n",
       "      <td>95.000000</td>\n",
       "      <td>7320.000000</td>\n",
       "      <td>3597.000000</td>\n",
       "      <td>470.000000</td>\n",
       "      <td>850.000000</td>\n",
       "      <td>62.000000</td>\n",
       "      <td>71.000000</td>\n",
       "      <td>11.500000</td>\n",
       "      <td>13.000000</td>\n",
       "      <td>6751.000000</td>\n",
       "      <td>53.00000</td>\n",
       "    </tr>\n",
       "    <tr>\n",
       "      <th>50%</th>\n",
       "      <td>1.000000</td>\n",
       "      <td>1558.000000</td>\n",
       "      <td>1110.000000</td>\n",
       "      <td>434.000000</td>\n",
       "      <td>23.000000</td>\n",
       "      <td>54.000000</td>\n",
       "      <td>1707.000000</td>\n",
       "      <td>353.000000</td>\n",
       "      <td>9990.000000</td>\n",
       "      <td>4200.000000</td>\n",
       "      <td>500.000000</td>\n",
       "      <td>1200.000000</td>\n",
       "      <td>75.000000</td>\n",
       "      <td>82.000000</td>\n",
       "      <td>13.600000</td>\n",
       "      <td>21.000000</td>\n",
       "      <td>8377.000000</td>\n",
       "      <td>65.00000</td>\n",
       "    </tr>\n",
       "    <tr>\n",
       "      <th>75%</th>\n",
       "      <td>1.000000</td>\n",
       "      <td>3624.000000</td>\n",
       "      <td>2424.000000</td>\n",
       "      <td>902.000000</td>\n",
       "      <td>35.000000</td>\n",
       "      <td>69.000000</td>\n",
       "      <td>4005.000000</td>\n",
       "      <td>967.000000</td>\n",
       "      <td>12925.000000</td>\n",
       "      <td>5050.000000</td>\n",
       "      <td>600.000000</td>\n",
       "      <td>1700.000000</td>\n",
       "      <td>85.000000</td>\n",
       "      <td>92.000000</td>\n",
       "      <td>16.500000</td>\n",
       "      <td>31.000000</td>\n",
       "      <td>10830.000000</td>\n",
       "      <td>78.00000</td>\n",
       "    </tr>\n",
       "    <tr>\n",
       "      <th>max</th>\n",
       "      <td>1.000000</td>\n",
       "      <td>48094.000000</td>\n",
       "      <td>26330.000000</td>\n",
       "      <td>6392.000000</td>\n",
       "      <td>96.000000</td>\n",
       "      <td>100.000000</td>\n",
       "      <td>31643.000000</td>\n",
       "      <td>21836.000000</td>\n",
       "      <td>21700.000000</td>\n",
       "      <td>8124.000000</td>\n",
       "      <td>2340.000000</td>\n",
       "      <td>6800.000000</td>\n",
       "      <td>103.000000</td>\n",
       "      <td>100.000000</td>\n",
       "      <td>39.800000</td>\n",
       "      <td>64.000000</td>\n",
       "      <td>56233.000000</td>\n",
       "      <td>118.00000</td>\n",
       "    </tr>\n",
       "  </tbody>\n",
       "</table>\n",
       "</div>"
      ],
      "text/plain": [
       "          Private          Apps        Accept       Enroll   Top10perc  \\\n",
       "count  777.000000    777.000000    777.000000   777.000000  777.000000   \n",
       "mean     0.727156   3001.638353   2018.804376   779.972973   27.558559   \n",
       "std      0.445708   3870.201484   2451.113971   929.176190   17.640364   \n",
       "min      0.000000     81.000000     72.000000    35.000000    1.000000   \n",
       "25%      0.000000    776.000000    604.000000   242.000000   15.000000   \n",
       "50%      1.000000   1558.000000   1110.000000   434.000000   23.000000   \n",
       "75%      1.000000   3624.000000   2424.000000   902.000000   35.000000   \n",
       "max      1.000000  48094.000000  26330.000000  6392.000000   96.000000   \n",
       "\n",
       "        Top25perc   F.Undergrad   P.Undergrad      Outstate   Room.Board  \\\n",
       "count  777.000000    777.000000    777.000000    777.000000   777.000000   \n",
       "mean    55.796654   3699.907336    855.298584  10440.669241  4357.526384   \n",
       "std     19.804778   4850.420531   1522.431887   4023.016484  1096.696416   \n",
       "min      9.000000    139.000000      1.000000   2340.000000  1780.000000   \n",
       "25%     41.000000    992.000000     95.000000   7320.000000  3597.000000   \n",
       "50%     54.000000   1707.000000    353.000000   9990.000000  4200.000000   \n",
       "75%     69.000000   4005.000000    967.000000  12925.000000  5050.000000   \n",
       "max    100.000000  31643.000000  21836.000000  21700.000000  8124.000000   \n",
       "\n",
       "             Books     Personal         PhD    Terminal   S.F.Ratio  \\\n",
       "count   777.000000   777.000000  777.000000  777.000000  777.000000   \n",
       "mean    549.380952  1340.642214   72.660232   79.702703   14.089704   \n",
       "std     165.105360   677.071454   16.328155   14.722359    3.958349   \n",
       "min      96.000000   250.000000    8.000000   24.000000    2.500000   \n",
       "25%     470.000000   850.000000   62.000000   71.000000   11.500000   \n",
       "50%     500.000000  1200.000000   75.000000   82.000000   13.600000   \n",
       "75%     600.000000  1700.000000   85.000000   92.000000   16.500000   \n",
       "max    2340.000000  6800.000000  103.000000  100.000000   39.800000   \n",
       "\n",
       "       perc.alumni        Expend  Grad.Rate  \n",
       "count   777.000000    777.000000  777.00000  \n",
       "mean     22.743887   9660.171171   65.46332  \n",
       "std      12.391801   5221.768440   17.17771  \n",
       "min       0.000000   3186.000000   10.00000  \n",
       "25%      13.000000   6751.000000   53.00000  \n",
       "50%      21.000000   8377.000000   65.00000  \n",
       "75%      31.000000  10830.000000   78.00000  \n",
       "max      64.000000  56233.000000  118.00000  "
      ]
     },
     "execution_count": 3,
     "metadata": {},
     "output_type": "execute_result"
    }
   ],
   "source": [
    "data.describe()"
   ]
  },
  {
   "cell_type": "code",
   "execution_count": 4,
   "id": "dd32e6d6-da34-4d75-962e-41cd2eb1caba",
   "metadata": {},
   "outputs": [
    {
     "name": "stdout",
     "output_type": "stream",
     "text": [
      "<class 'pandas.core.frame.DataFrame'>\n",
      "Index: 777 entries, Abilene Christian University to York College of Pennsylvania\n",
      "Data columns (total 18 columns):\n",
      " #   Column       Non-Null Count  Dtype  \n",
      "---  ------       --------------  -----  \n",
      " 0   Private      777 non-null    int64  \n",
      " 1   Apps         777 non-null    int64  \n",
      " 2   Accept       777 non-null    int64  \n",
      " 3   Enroll       777 non-null    int64  \n",
      " 4   Top10perc    777 non-null    int64  \n",
      " 5   Top25perc    777 non-null    int64  \n",
      " 6   F.Undergrad  777 non-null    int64  \n",
      " 7   P.Undergrad  777 non-null    int64  \n",
      " 8   Outstate     777 non-null    int64  \n",
      " 9   Room.Board   777 non-null    int64  \n",
      " 10  Books        777 non-null    int64  \n",
      " 11  Personal     777 non-null    int64  \n",
      " 12  PhD          777 non-null    int64  \n",
      " 13  Terminal     777 non-null    int64  \n",
      " 14  S.F.Ratio    777 non-null    float64\n",
      " 15  perc.alumni  777 non-null    int64  \n",
      " 16  Expend       777 non-null    int64  \n",
      " 17  Grad.Rate    777 non-null    int64  \n",
      "dtypes: float64(1), int64(17)\n",
      "memory usage: 115.3+ KB\n"
     ]
    }
   ],
   "source": [
    "data.info()"
   ]
  },
  {
   "cell_type": "markdown",
   "id": "0b8fb1c5-9abb-466a-9697-e3a21c9a4a6d",
   "metadata": {},
   "source": [
    "#### (a) Split the data into a training set and a test set."
   ]
  },
  {
   "cell_type": "markdown",
   "id": "bed8d386-6e47-49c2-8bad-243dd72b939f",
   "metadata": {},
   "source": [
    "We will be doing a default train-test split on this data, using the seed `381`."
   ]
  },
  {
   "cell_type": "code",
   "execution_count": 5,
   "id": "47aabf08-4862-4aa6-8dba-d2bad20b2a2f",
   "metadata": {},
   "outputs": [],
   "source": [
    "X = sm.add_constant(data.iloc[:, [0]+list(range(2,data.shape[1]))])\n",
    "y = data['Apps']\n",
    "X_train, X_test, y_train, y_test = train_test_split(X, y, random_state=381)"
   ]
  },
  {
   "cell_type": "markdown",
   "id": "50061aba-be89-445f-ad45-a3bed76ad0d3",
   "metadata": {},
   "source": [
    "#### (b) Fit a linear model using least squares on the training set, and report the test error obtained."
   ]
  },
  {
   "cell_type": "code",
   "execution_count": 6,
   "id": "5fbadf54-e42c-478d-ad38-dacb7873aebe",
   "metadata": {},
   "outputs": [
    {
     "data": {
      "text/html": [
       "<table class=\"simpletable\">\n",
       "<caption>OLS Regression Results</caption>\n",
       "<tr>\n",
       "  <th>Dep. Variable:</th>          <td>Apps</td>       <th>  R-squared:         </th> <td>   0.926</td> \n",
       "</tr>\n",
       "<tr>\n",
       "  <th>Model:</th>                   <td>OLS</td>       <th>  Adj. R-squared:    </th> <td>   0.924</td> \n",
       "</tr>\n",
       "<tr>\n",
       "  <th>Method:</th>             <td>Least Squares</td>  <th>  F-statistic:       </th> <td>   414.8</td> \n",
       "</tr>\n",
       "<tr>\n",
       "  <th>Date:</th>             <td>Sat, 25 Oct 2025</td> <th>  Prob (F-statistic):</th> <td>1.77e-305</td>\n",
       "</tr>\n",
       "<tr>\n",
       "  <th>Time:</th>                 <td>21:00:38</td>     <th>  Log-Likelihood:    </th> <td> -4900.9</td> \n",
       "</tr>\n",
       "<tr>\n",
       "  <th>No. Observations:</th>      <td>   582</td>      <th>  AIC:               </th> <td>   9838.</td> \n",
       "</tr>\n",
       "<tr>\n",
       "  <th>Df Residuals:</th>          <td>   564</td>      <th>  BIC:               </th> <td>   9916.</td> \n",
       "</tr>\n",
       "<tr>\n",
       "  <th>Df Model:</th>              <td>    17</td>      <th>                     </th>     <td> </td>    \n",
       "</tr>\n",
       "<tr>\n",
       "  <th>Covariance Type:</th>      <td>nonrobust</td>    <th>                     </th>     <td> </td>    \n",
       "</tr>\n",
       "</table>\n",
       "<table class=\"simpletable\">\n",
       "<tr>\n",
       "       <td></td>          <th>coef</th>     <th>std err</th>      <th>t</th>      <th>P>|t|</th>  <th>[0.025</th>    <th>0.975]</th>  \n",
       "</tr>\n",
       "<tr>\n",
       "  <th>const</th>       <td> -378.4851</td> <td>  503.356</td> <td>   -0.752</td> <td> 0.452</td> <td>-1367.167</td> <td>  610.197</td>\n",
       "</tr>\n",
       "<tr>\n",
       "  <th>Private</th>     <td> -593.5154</td> <td>  172.920</td> <td>   -3.432</td> <td> 0.001</td> <td> -933.160</td> <td> -253.870</td>\n",
       "</tr>\n",
       "<tr>\n",
       "  <th>Accept</th>      <td>    1.5869</td> <td>    0.047</td> <td>   33.968</td> <td> 0.000</td> <td>    1.495</td> <td>    1.679</td>\n",
       "</tr>\n",
       "<tr>\n",
       "  <th>Enroll</th>      <td>   -0.7328</td> <td>    0.231</td> <td>   -3.177</td> <td> 0.002</td> <td>   -1.186</td> <td>   -0.280</td>\n",
       "</tr>\n",
       "<tr>\n",
       "  <th>Top10perc</th>   <td>   58.7022</td> <td>    6.653</td> <td>    8.823</td> <td> 0.000</td> <td>   45.634</td> <td>   71.771</td>\n",
       "</tr>\n",
       "<tr>\n",
       "  <th>Top25perc</th>   <td>  -18.4695</td> <td>    5.334</td> <td>   -3.463</td> <td> 0.001</td> <td>  -28.946</td> <td>   -7.993</td>\n",
       "</tr>\n",
       "<tr>\n",
       "  <th>F.Undergrad</th> <td>    0.0139</td> <td>    0.042</td> <td>    0.330</td> <td> 0.741</td> <td>   -0.069</td> <td>    0.096</td>\n",
       "</tr>\n",
       "<tr>\n",
       "  <th>P.Undergrad</th> <td>    0.0687</td> <td>    0.038</td> <td>    1.790</td> <td> 0.074</td> <td>   -0.007</td> <td>    0.144</td>\n",
       "</tr>\n",
       "<tr>\n",
       "  <th>Outstate</th>    <td>   -0.0833</td> <td>    0.023</td> <td>   -3.593</td> <td> 0.000</td> <td>   -0.129</td> <td>   -0.038</td>\n",
       "</tr>\n",
       "<tr>\n",
       "  <th>Room.Board</th>  <td>    0.1847</td> <td>    0.060</td> <td>    3.087</td> <td> 0.002</td> <td>    0.067</td> <td>    0.302</td>\n",
       "</tr>\n",
       "<tr>\n",
       "  <th>Books</th>       <td>   -0.0321</td> <td>    0.279</td> <td>   -0.115</td> <td> 0.908</td> <td>   -0.580</td> <td>    0.516</td>\n",
       "</tr>\n",
       "<tr>\n",
       "  <th>Personal</th>    <td>    0.0486</td> <td>    0.075</td> <td>    0.652</td> <td> 0.515</td> <td>   -0.098</td> <td>    0.195</td>\n",
       "</tr>\n",
       "<tr>\n",
       "  <th>PhD</th>         <td>   -6.3530</td> <td>    5.676</td> <td>   -1.119</td> <td> 0.264</td> <td>  -17.502</td> <td>    4.796</td>\n",
       "</tr>\n",
       "<tr>\n",
       "  <th>Terminal</th>    <td>   -5.3529</td> <td>    6.394</td> <td>   -0.837</td> <td> 0.403</td> <td>  -17.911</td> <td>    7.205</td>\n",
       "</tr>\n",
       "<tr>\n",
       "  <th>S.F.Ratio</th>   <td>   10.5306</td> <td>   15.887</td> <td>    0.663</td> <td> 0.508</td> <td>  -20.674</td> <td>   41.735</td>\n",
       "</tr>\n",
       "<tr>\n",
       "  <th>perc.alumni</th> <td>   -0.4081</td> <td>    5.146</td> <td>   -0.079</td> <td> 0.937</td> <td>  -10.515</td> <td>    9.699</td>\n",
       "</tr>\n",
       "<tr>\n",
       "  <th>Expend</th>      <td>    0.0681</td> <td>    0.014</td> <td>    4.757</td> <td> 0.000</td> <td>    0.040</td> <td>    0.096</td>\n",
       "</tr>\n",
       "<tr>\n",
       "  <th>Grad.Rate</th>   <td>    9.3386</td> <td>    3.641</td> <td>    2.565</td> <td> 0.011</td> <td>    2.188</td> <td>   16.489</td>\n",
       "</tr>\n",
       "</table>\n",
       "<table class=\"simpletable\">\n",
       "<tr>\n",
       "  <th>Omnibus:</th>       <td>341.608</td> <th>  Durbin-Watson:     </th> <td>   1.958</td>\n",
       "</tr>\n",
       "<tr>\n",
       "  <th>Prob(Omnibus):</th> <td> 0.000</td>  <th>  Jarque-Bera (JB):  </th> <td>5534.627</td>\n",
       "</tr>\n",
       "<tr>\n",
       "  <th>Skew:</th>          <td> 2.250</td>  <th>  Prob(JB):          </th> <td>    0.00</td>\n",
       "</tr>\n",
       "<tr>\n",
       "  <th>Kurtosis:</th>      <td>17.421</td>  <th>  Cond. No.          </th> <td>1.84e+05</td>\n",
       "</tr>\n",
       "</table><br/><br/>Notes:<br/>[1] Standard Errors assume that the covariance matrix of the errors is correctly specified.<br/>[2] The condition number is large, 1.84e+05. This might indicate that there are<br/>strong multicollinearity or other numerical problems."
      ],
      "text/latex": [
       "\\begin{center}\n",
       "\\begin{tabular}{lclc}\n",
       "\\toprule\n",
       "\\textbf{Dep. Variable:}    &       Apps       & \\textbf{  R-squared:         } &     0.926   \\\\\n",
       "\\textbf{Model:}            &       OLS        & \\textbf{  Adj. R-squared:    } &     0.924   \\\\\n",
       "\\textbf{Method:}           &  Least Squares   & \\textbf{  F-statistic:       } &     414.8   \\\\\n",
       "\\textbf{Date:}             & Sat, 25 Oct 2025 & \\textbf{  Prob (F-statistic):} & 1.77e-305   \\\\\n",
       "\\textbf{Time:}             &     21:00:38     & \\textbf{  Log-Likelihood:    } &   -4900.9   \\\\\n",
       "\\textbf{No. Observations:} &         582      & \\textbf{  AIC:               } &     9838.   \\\\\n",
       "\\textbf{Df Residuals:}     &         564      & \\textbf{  BIC:               } &     9916.   \\\\\n",
       "\\textbf{Df Model:}         &          17      & \\textbf{                     } &             \\\\\n",
       "\\textbf{Covariance Type:}  &    nonrobust     & \\textbf{                     } &             \\\\\n",
       "\\bottomrule\n",
       "\\end{tabular}\n",
       "\\begin{tabular}{lcccccc}\n",
       "                     & \\textbf{coef} & \\textbf{std err} & \\textbf{t} & \\textbf{P$> |$t$|$} & \\textbf{[0.025} & \\textbf{0.975]}  \\\\\n",
       "\\midrule\n",
       "\\textbf{const}       &    -378.4851  &      503.356     &    -0.752  &         0.452        &    -1367.167    &      610.197     \\\\\n",
       "\\textbf{Private}     &    -593.5154  &      172.920     &    -3.432  &         0.001        &     -933.160    &     -253.870     \\\\\n",
       "\\textbf{Accept}      &       1.5869  &        0.047     &    33.968  &         0.000        &        1.495    &        1.679     \\\\\n",
       "\\textbf{Enroll}      &      -0.7328  &        0.231     &    -3.177  &         0.002        &       -1.186    &       -0.280     \\\\\n",
       "\\textbf{Top10perc}   &      58.7022  &        6.653     &     8.823  &         0.000        &       45.634    &       71.771     \\\\\n",
       "\\textbf{Top25perc}   &     -18.4695  &        5.334     &    -3.463  &         0.001        &      -28.946    &       -7.993     \\\\\n",
       "\\textbf{F.Undergrad} &       0.0139  &        0.042     &     0.330  &         0.741        &       -0.069    &        0.096     \\\\\n",
       "\\textbf{P.Undergrad} &       0.0687  &        0.038     &     1.790  &         0.074        &       -0.007    &        0.144     \\\\\n",
       "\\textbf{Outstate}    &      -0.0833  &        0.023     &    -3.593  &         0.000        &       -0.129    &       -0.038     \\\\\n",
       "\\textbf{Room.Board}  &       0.1847  &        0.060     &     3.087  &         0.002        &        0.067    &        0.302     \\\\\n",
       "\\textbf{Books}       &      -0.0321  &        0.279     &    -0.115  &         0.908        &       -0.580    &        0.516     \\\\\n",
       "\\textbf{Personal}    &       0.0486  &        0.075     &     0.652  &         0.515        &       -0.098    &        0.195     \\\\\n",
       "\\textbf{PhD}         &      -6.3530  &        5.676     &    -1.119  &         0.264        &      -17.502    &        4.796     \\\\\n",
       "\\textbf{Terminal}    &      -5.3529  &        6.394     &    -0.837  &         0.403        &      -17.911    &        7.205     \\\\\n",
       "\\textbf{S.F.Ratio}   &      10.5306  &       15.887     &     0.663  &         0.508        &      -20.674    &       41.735     \\\\\n",
       "\\textbf{perc.alumni} &      -0.4081  &        5.146     &    -0.079  &         0.937        &      -10.515    &        9.699     \\\\\n",
       "\\textbf{Expend}      &       0.0681  &        0.014     &     4.757  &         0.000        &        0.040    &        0.096     \\\\\n",
       "\\textbf{Grad.Rate}   &       9.3386  &        3.641     &     2.565  &         0.011        &        2.188    &       16.489     \\\\\n",
       "\\bottomrule\n",
       "\\end{tabular}\n",
       "\\begin{tabular}{lclc}\n",
       "\\textbf{Omnibus:}       & 341.608 & \\textbf{  Durbin-Watson:     } &    1.958  \\\\\n",
       "\\textbf{Prob(Omnibus):} &   0.000 & \\textbf{  Jarque-Bera (JB):  } & 5534.627  \\\\\n",
       "\\textbf{Skew:}          &   2.250 & \\textbf{  Prob(JB):          } &     0.00  \\\\\n",
       "\\textbf{Kurtosis:}      &  17.421 & \\textbf{  Cond. No.          } & 1.84e+05  \\\\\n",
       "\\bottomrule\n",
       "\\end{tabular}\n",
       "%\\caption{OLS Regression Results}\n",
       "\\end{center}\n",
       "\n",
       "Notes: \\newline\n",
       " [1] Standard Errors assume that the covariance matrix of the errors is correctly specified. \\newline\n",
       " [2] The condition number is large, 1.84e+05. This might indicate that there are \\newline\n",
       " strong multicollinearity or other numerical problems."
      ],
      "text/plain": [
       "<class 'statsmodels.iolib.summary.Summary'>\n",
       "\"\"\"\n",
       "                            OLS Regression Results                            \n",
       "==============================================================================\n",
       "Dep. Variable:                   Apps   R-squared:                       0.926\n",
       "Model:                            OLS   Adj. R-squared:                  0.924\n",
       "Method:                 Least Squares   F-statistic:                     414.8\n",
       "Date:                Sat, 25 Oct 2025   Prob (F-statistic):          1.77e-305\n",
       "Time:                        21:00:38   Log-Likelihood:                -4900.9\n",
       "No. Observations:                 582   AIC:                             9838.\n",
       "Df Residuals:                     564   BIC:                             9916.\n",
       "Df Model:                          17                                         \n",
       "Covariance Type:            nonrobust                                         \n",
       "===============================================================================\n",
       "                  coef    std err          t      P>|t|      [0.025      0.975]\n",
       "-------------------------------------------------------------------------------\n",
       "const        -378.4851    503.356     -0.752      0.452   -1367.167     610.197\n",
       "Private      -593.5154    172.920     -3.432      0.001    -933.160    -253.870\n",
       "Accept          1.5869      0.047     33.968      0.000       1.495       1.679\n",
       "Enroll         -0.7328      0.231     -3.177      0.002      -1.186      -0.280\n",
       "Top10perc      58.7022      6.653      8.823      0.000      45.634      71.771\n",
       "Top25perc     -18.4695      5.334     -3.463      0.001     -28.946      -7.993\n",
       "F.Undergrad     0.0139      0.042      0.330      0.741      -0.069       0.096\n",
       "P.Undergrad     0.0687      0.038      1.790      0.074      -0.007       0.144\n",
       "Outstate       -0.0833      0.023     -3.593      0.000      -0.129      -0.038\n",
       "Room.Board      0.1847      0.060      3.087      0.002       0.067       0.302\n",
       "Books          -0.0321      0.279     -0.115      0.908      -0.580       0.516\n",
       "Personal        0.0486      0.075      0.652      0.515      -0.098       0.195\n",
       "PhD            -6.3530      5.676     -1.119      0.264     -17.502       4.796\n",
       "Terminal       -5.3529      6.394     -0.837      0.403     -17.911       7.205\n",
       "S.F.Ratio      10.5306     15.887      0.663      0.508     -20.674      41.735\n",
       "perc.alumni    -0.4081      5.146     -0.079      0.937     -10.515       9.699\n",
       "Expend          0.0681      0.014      4.757      0.000       0.040       0.096\n",
       "Grad.Rate       9.3386      3.641      2.565      0.011       2.188      16.489\n",
       "==============================================================================\n",
       "Omnibus:                      341.608   Durbin-Watson:                   1.958\n",
       "Prob(Omnibus):                  0.000   Jarque-Bera (JB):             5534.627\n",
       "Skew:                           2.250   Prob(JB):                         0.00\n",
       "Kurtosis:                      17.421   Cond. No.                     1.84e+05\n",
       "==============================================================================\n",
       "\n",
       "Notes:\n",
       "[1] Standard Errors assume that the covariance matrix of the errors is correctly specified.\n",
       "[2] The condition number is large, 1.84e+05. This might indicate that there are\n",
       "strong multicollinearity or other numerical problems.\n",
       "\"\"\""
      ]
     },
     "execution_count": 6,
     "metadata": {},
     "output_type": "execute_result"
    }
   ],
   "source": [
    "model=sm.OLS(y_train, X_train).fit()\n",
    "model.summary()"
   ]
  },
  {
   "cell_type": "markdown",
   "id": "92e93d76-ab02-47a4-afd2-0db9dc9d8def",
   "metadata": {},
   "source": [
    "I am using the mean squared error to calculate the test error for this model, which is given as follows:"
   ]
  },
  {
   "cell_type": "code",
   "execution_count": 7,
   "id": "b56bc7c4-f7c3-49a0-b901-85d7cd290814",
   "metadata": {},
   "outputs": [
    {
     "data": {
      "text/plain": [
       "665249.6845421843"
      ]
     },
     "execution_count": 7,
     "metadata": {},
     "output_type": "execute_result"
    }
   ],
   "source": [
    "mean_squared_error(y_test, model.predict(X_test))"
   ]
  },
  {
   "cell_type": "code",
   "execution_count": 8,
   "id": "ba5acb95-c3c8-4d9d-9067-6f2bf361b776",
   "metadata": {},
   "outputs": [
    {
     "data": {
      "text/plain": [
       "0.9392250767406248"
      ]
     },
     "execution_count": 8,
     "metadata": {},
     "output_type": "execute_result"
    }
   ],
   "source": [
    "r2_score(y_test, model.predict(X_test))"
   ]
  },
  {
   "cell_type": "markdown",
   "id": "0e620ee6-16a4-435a-bb87-cea776141382",
   "metadata": {},
   "source": [
    "#### (c)  Fit a ridge regression model on the training set, with $\\lambda$ chosen by cross-validation. Report the test error obtained.\n",
    "\n",
    "First, I normalize the data set."
   ]
  },
  {
   "cell_type": "code",
   "execution_count": 9,
   "id": "4109eded-7fe2-43d9-8478-be73ee70141f",
   "metadata": {},
   "outputs": [],
   "source": [
    "transformer = StandardScaler().fit(X_train).set_output(transform = 'pandas')\n",
    "X_tr_norm = transformer.transform(X_train).drop(['const'],axis=1)\n",
    "X_te_norm = transformer.transform(X_test).drop(['const'],axis=1)"
   ]
  },
  {
   "cell_type": "markdown",
   "id": "151d7116-fd98-41ec-a538-329570bcdadd",
   "metadata": {},
   "source": [
    "I will be using Leave-One-Out Cross Validation to determine the best value of $\\lambda$, or in this case $\\alpha$. We create a wide range of potential values and then run a cross-validation ridge regression model. We exclude 0."
   ]
  },
  {
   "cell_type": "code",
   "execution_count": 10,
   "id": "d68c99c3-4318-40a5-a9c5-0c9b34eadcf6",
   "metadata": {},
   "outputs": [
    {
     "name": "stdout",
     "output_type": "stream",
     "text": [
      "0.005\n"
     ]
    }
   ],
   "source": [
    "alphas = 10**np.linspace(4,-2,100)*0.5\n",
    "alphas_cv = alphas[alphas>0]\n",
    "ridgecv = RidgeCV(alphas = alphas_cv, scoring = 'neg_mean_squared_error')\n",
    "ridgecv.fit(X_tr_norm, y_train)\n",
    "alpha = ridgecv.alpha_\n",
    "print(alpha)"
   ]
  },
  {
   "cell_type": "markdown",
   "id": "4e0896a2-5ba2-490a-a61a-db6c52e0923e",
   "metadata": {},
   "source": [
    "The optimal value for $\\lambda$ is $0.005$ as determined by this cross-validation. I can now proceed with calculating the test MSE."
   ]
  },
  {
   "cell_type": "code",
   "execution_count": 11,
   "id": "fa704443-bf2e-4fa8-b146-75279cacb16b",
   "metadata": {},
   "outputs": [
    {
     "data": {
      "text/plain": [
       "665246.4290323145"
      ]
     },
     "execution_count": 11,
     "metadata": {},
     "output_type": "execute_result"
    }
   ],
   "source": [
    "mean_squared_error(y_test, ridgecv.predict(X_te_norm))"
   ]
  },
  {
   "cell_type": "code",
   "execution_count": 12,
   "id": "bec9b63b-fd08-494e-b0ba-f9b7c648f5c9",
   "metadata": {},
   "outputs": [
    {
     "data": {
      "text/plain": [
       "0.9392253741528103"
      ]
     },
     "execution_count": 12,
     "metadata": {},
     "output_type": "execute_result"
    }
   ],
   "source": [
    "r2_score(y_test, ridgecv.predict(X_te_norm))"
   ]
  },
  {
   "cell_type": "markdown",
   "id": "06416c6e-a0e0-48ed-98eb-3ba1b22a055d",
   "metadata": {},
   "source": [
    "I will now loop through all the potential $\\lambda$ values and plot the associated test error to justify my choice of $\\lambda$. I plot a marker for the $\\lambda$ value associated with the lowest test MSE, along with the chosen $\\lambda=0.005$ via cross-validation. "
   ]
  },
  {
   "cell_type": "code",
   "execution_count": 13,
   "id": "541bfbf8-f175-41ee-bdc6-bdfdb1412958",
   "metadata": {},
   "outputs": [
    {
     "data": {
      "image/png": "[encoded data removed]",
      "text/plain": [
       "<Figure size 1000x600 with 1 Axes>"
      ]
     },
     "metadata": {},
     "output_type": "display_data"
    }
   ],
   "source": [
    "errors = []\n",
    "for a in alphas:\n",
    "    ridge = Ridge(alpha=a)\n",
    "    ridge.fit(X_tr_norm, y_train)\n",
    "    test_error = mean_squared_error(y_test, ridge.predict(X_te_norm))\n",
    "    errors.append(test_error)\n",
    "plt.figure(figsize=(10, 6))\n",
    "plt.plot(alphas, errors, label='Test MSE')\n",
    "plt.scatter(alpha, mean_squared_error(y_test, ridgecv.predict(X_te_norm)),\n",
    "            color='green', marker='o', s=100, label=f'$\\\\lambda_\\\\text{{CV}}$ = {alpha} chosen via cross-validation')\n",
    "plt.scatter(alphas[np.argmin(errors)], errors[np.argmin(errors)],\n",
    "            color='red', marker='o', s=100, label='$\\\\lambda_\\\\text{test}$ identified via lowest test MSE')\n",
    "plt.title('Test MSE vs. Potential $\\\\lambda$ Values for Ridge Regression, College Dataset')\n",
    "plt.xlabel('Potential $\\\\lambda$ Values (Log Scale)')\n",
    "plt.ylabel('Test Mean Squared Error')\n",
    "ax=plt.gca()\n",
    "ax.set_xscale('log')\n",
    "plt.legend()\n",
    "plt.show()"
   ]
  },
  {
   "cell_type": "markdown",
   "id": "42ada50c-8c0b-45f6-8431-f65754e886bf",
   "metadata": {},
   "source": [
    "Clearly,  $\\lambda=0.005$ is a good value for the regularization parameter, since it is associated with very low test error. When test MSE is used as a metric, $\\lambda$ values of order between 0 and 1 also provide low error, as observed on the above plot."
   ]
  },
  {
   "cell_type": "markdown",
   "id": "85e5e4b1-9959-43c9-82c5-e7096674f4ba",
   "metadata": {},
   "source": [
    "#### (d) Fit a lasso model on the training set, with $\\lambda$ chosen by cross-validation. Report the test error obtained, along with the number of non-zero coefficient estimates.\n",
    "\n",
    "I can reuse the normalized data from part (c). Since `LassoCV()` automatically finds good choices of the regularization parameter for you, I will not be passing a list `alphas` to the method. I will reuse that array later for justifying my choice via a plot. The `LassoCV()` method uses a 5-fold cross-validation by default."
   ]
  },
  {
   "cell_type": "code",
   "execution_count": 14,
   "id": "b6e04436-35af-4ee0-a93e-bd0bdf03adb0",
   "metadata": {},
   "outputs": [
    {
     "name": "stdout",
     "output_type": "stream",
     "text": [
      "17.598043523672352\n"
     ]
    }
   ],
   "source": [
    "lassocv = LassoCV(random_state=381).fit(X_tr_norm, y_train)\n",
    "alpha = lassocv.alpha_\n",
    "print(alpha)"
   ]
  },
  {
   "cell_type": "markdown",
   "id": "16218ba1-f4bd-4bdc-9c47-8806a7f9ec55",
   "metadata": {},
   "source": [
    "The optimal value for $\\lambda$ is $17.598$ as determined by this cross-validation. I can now proceed with calculating the test MSE."
   ]
  },
  {
   "cell_type": "code",
   "execution_count": 15,
   "id": "37cfbcd3-68ed-432b-a44c-b64a9d405b9d",
   "metadata": {},
   "outputs": [
    {
     "data": {
      "text/plain": [
       "643492.5095449584"
      ]
     },
     "execution_count": 15,
     "metadata": {},
     "output_type": "execute_result"
    }
   ],
   "source": [
    "mean_squared_error(y_test, lassocv.predict(X_te_norm))"
   ]
  },
  {
   "cell_type": "code",
   "execution_count": 16,
   "id": "db888a1a-06b1-4269-adc9-458419ca3715",
   "metadata": {},
   "outputs": [
    {
     "data": {
      "text/plain": [
       "0.9412127374213017"
      ]
     },
     "execution_count": 16,
     "metadata": {},
     "output_type": "execute_result"
    }
   ],
   "source": [
    "r2_score(y_test, lassocv.predict(X_te_norm))"
   ]
  },
  {
   "cell_type": "markdown",
   "id": "14ea2829-933e-471e-b33f-08013b82a861",
   "metadata": {},
   "source": [
    "I will now count the number of non-zero coefficients."
   ]
  },
  {
   "cell_type": "code",
   "execution_count": 17,
   "id": "074dc0e7-c241-41d6-8d35-a205ed958af9",
   "metadata": {},
   "outputs": [
    {
     "name": "stdout",
     "output_type": "stream",
     "text": [
      "15\n"
     ]
    }
   ],
   "source": [
    "print(np.sum(np.abs(lassocv.coef_) > 0))"
   ]
  },
  {
   "cell_type": "markdown",
   "id": "0c1f3d6e-2f2b-4177-811e-4c56f54833f6",
   "metadata": {},
   "source": [
    "There are 15 non-zero coefficients.\n",
    "\n",
    "I will now loop through all the potential $\\lambda$ values and plot the associated test error to justify my choice of $\\lambda$. I plot a marker for the $\\lambda$ value associated with the lowest test MSE, and check if it matches $\\lambda=17.598$."
   ]
  },
  {
   "cell_type": "code",
   "execution_count": 18,
   "id": "34171f19-289e-45f9-b3fc-74b651ba4afb",
   "metadata": {},
   "outputs": [
    {
     "data": {
      "image/png": "[encoded data removed]",
      "text/plain": [
       "<Figure size 1000x600 with 1 Axes>"
      ]
     },
     "metadata": {},
     "output_type": "display_data"
    }
   ],
   "source": [
    "coefs = []\n",
    "errors = []\n",
    "for a in alphas:\n",
    "    lasso = Lasso(alpha=a)\n",
    "    lasso.fit(X_tr_norm, y_train)\n",
    "    test_error = mean_squared_error(y_test, lasso.predict(X_te_norm))\n",
    "    coefs.append(lasso.coef_)\n",
    "    errors.append(test_error)\n",
    "plt.figure(figsize=(10, 6))\n",
    "plt.plot(alphas, errors, label='Test MSE')\n",
    "plt.scatter(alpha, mean_squared_error(y_test, lassocv.predict(X_te_norm)),\n",
    "            color='green', marker='o', s=100, label=f'$\\\\lambda_\\\\text{{CV}} \\\\approx${alpha:.3f} chosen via cross-validation')\n",
    "plt.scatter(alphas[np.argmin(errors)], errors[np.argmin(errors)],\n",
    "            color='red', marker='o', s=100, label='$\\\\lambda_\\\\text{test}$ identified via lowest test MSE')\n",
    "plt.title('Test MSE vs. Potential $\\\\lambda$ Values for Lasso Regression, College Dataset')\n",
    "plt.xlabel('Potential $\\\\lambda$ Values (Log Scale)')\n",
    "plt.ylabel('Test Mean Squared Error')\n",
    "ax=plt.gca()\n",
    "ax.set_xscale('log')\n",
    "plt.legend()\n",
    "plt.show()"
   ]
  },
  {
   "cell_type": "markdown",
   "id": "73bba1e2-8418-4bb5-b350-c428d6607414",
   "metadata": {},
   "source": [
    "Clearly,  $\\lambda=17.598$ is a good value for the regularization parameter, since it is associated with very low test error. When test MSE is used as a metric, $\\lambda$ values of order between 1 and 2 also provide low error, as observed on the above plot.\n",
    "\n",
    "Now, I will create a plot of the number of non-zero coefficients  as a function of  the choice of $\\lambda$ values"
   ]
  },
  {
   "cell_type": "code",
   "execution_count": 19,
   "id": "a86e4d6f-f7ce-4b01-9acf-83e6d4417972",
   "metadata": {},
   "outputs": [
    {
     "data": {
      "image/png": "[encoded data removed]",
      "text/plain": [
       "<Figure size 1000x600 with 1 Axes>"
      ]
     },
     "metadata": {},
     "output_type": "display_data"
    }
   ],
   "source": [
    "non_zero_counts = np.count_nonzero(coefs, axis=1)\n",
    "plt.figure(figsize=(10, 6))\n",
    "plt.plot(alphas, non_zero_counts)\n",
    "plt.scatter(alpha, np.sum(np.abs(lassocv.coef_) > 0),\n",
    "           color='red', marker='o', s=100, label=f'$\\\\lambda_\\\\text{{CV}} \\\\approx${alpha:.3f} chosen via cross-validation')\n",
    "plt.xscale('log')\n",
    "plt.legend()\n",
    "plt.xlabel('$\\\\lambda$ (Log Scale)')\n",
    "plt.ylabel('Number of non-zero coefficients')\n",
    "plt.show()"
   ]
  },
  {
   "cell_type": "markdown",
   "id": "928673a4-9df4-4c68-9ff7-6ebdb25a1682",
   "metadata": {},
   "source": [
    "The above plot verifies the model's claim that there are 15 non-zero coefficients for the associated optimal $\\lambda$ value.\n",
    "\n",
    "#### (e) Fit a PCR model on the training set, with $M$ chosen by cross-validation. Report the test error obtained, along with the value of $M$ selected by cross-validation.\n",
    "\n",
    "First, I will create a PCA object and fit it with scaled data. I will also create a linear regression object. After this, I will train the linear regression model for each value of $M$ and compute the 10-fold CV error, as well as the test error. Below are the optimal value of $M$, the minimal cross-validation error, and the test error obtained for the optimal value of $M$. I have also created a plot showing the cumulative explained variance ratio."
   ]
  },
  {
   "cell_type": "code",
   "execution_count": 23,
   "id": "e4f28541-a713-4532-811d-a2c809fc7119",
   "metadata": {},
   "outputs": [
    {
     "name": "stdout",
     "output_type": "stream",
     "text": [
      "Optimal number of principal components using 10-fold CV: 17\n",
      "Minimal cross-validation error associated with 17 PCs: 1624553.076487689\n",
      "Test MSE for M=17: 665249.6845430702\n"
     ]
    },
    {
     "data": {
      "image/png": "[encoded data removed]",
      "text/plain": [
       "<Figure size 800x500 with 1 Axes>"
      ]
     },
     "metadata": {},
     "output_type": "display_data"
    },
    {
     "data": {
      "image/png": "[encoded data removed]",
      "text/plain": [
       "<Figure size 640x480 with 1 Axes>"
      ]
     },
     "metadata": {},
     "output_type": "display_data"
    }
   ],
   "source": [
    "cv_mse = []\n",
    "errors = []\n",
    "for M in range(1, X_train.shape[1] + 1):\n",
    "    model = make_pipeline(StandardScaler(), PCA(n_components=M), LinearRegression())\n",
    "    scores = cross_val_score(model, X_train, y_train, cv=10, scoring='neg_mean_squared_error')\n",
    "    cv_mse.append(-scores.mean())\n",
    "    model.fit(X_train, y_train)\n",
    "    errors.append(mean_squared_error(y_test, model.predict(X_test)))\n",
    "scaler = StandardScaler().fit(X_train)\n",
    "X_train_scaled = scaler.transform(X_train)\n",
    "pca_full = PCA().fit(X_train_scaled)\n",
    "cumulative_variance = np.cumsum(pca_full.explained_variance_ratio_)\n",
    "M_opt = np.argmin(cv_mse) + 1\n",
    "min_cv_mse = cv_mse[M_opt - 1]\n",
    "print(\"Optimal number of principal components using 10-fold CV:\", M_opt)\n",
    "print(\"Minimal cross-validation error associated with\", M_opt, \"PCs:\", min_cv_mse)\n",
    "print(\"Test MSE for M=\", M_opt,\": \", errors[M_opt-1], sep=\"\")\n",
    "\n",
    "plt.figure(figsize=(8, 5))\n",
    "plt.plot(np.arange(1, X_train.shape[1] + 1), cv_mse, '-o', zorder=0, label='10-fold CV MSE')\n",
    "plt.plot(np.arange(1, X_train.shape[1] + 1), errors, '-o', label='PCR test error')\n",
    "plt.scatter(M_opt, min_cv_mse,\n",
    "            color='green', marker='o', label=f'Optimal M = {M_opt} if chosen by CV', zorder=2, s=100)\n",
    "plt.scatter(np.argmin(errors) + 1, errors[np.argmin(errors)],\n",
    "            color='red', marker='o', s=100,\n",
    "            label=f'Optimal $M$ = {np.argmin(errors)+1} if chosen by lowest test MSE', zorder=2)\n",
    "plt.xlabel('Number of principal components (M)')\n",
    "plt.ylabel('Mean Squared Error')\n",
    "plt.title('Error vs. Potential Number of Principal Components for PCR')\n",
    "plt.xticks(np.arange(0, X_train.shape[1] + 1,2))\n",
    "plt.legend()\n",
    "plt.show()\n",
    "plt.plot(np.arange(1, X_train.shape[1] + 1), cumulative_variance, '-o')\n",
    "plt.xlabel('Number of principal components (M)')\n",
    "plt.ylabel('Cumulative Explained Variance Ratio')\n",
    "plt.title('Explained Variance as a Function of Principal Components')\n",
    "plt.xticks(np.arange(0, X_train.shape[1] + 1,2))\n",
    "plt.show()"
   ]
  },
  {
   "cell_type": "markdown",
   "id": "8fae5f57-4f0d-43af-aacc-f410b8a1c02b",
   "metadata": {},
   "source": [
    "The reason I have added all these extra elements to the plots is to show that while the question asks for the optimal $M$ _chosen by cross-validation_, it is always better to use the $M$ value after which there is only marginal decline in error, or the $M$ value where 90% of variance is explained. The goal of PCA is dimension reduction, and the optimal value $M=17$ chosen by cross-validation does not reduce the dimensions of the data at all. So while the question is asking me to provide the optimal value by cross-validation, if I were to do my own analysis, I would probably choose a value between 4 and 8, since after 4, there is very marginal change in error (changes are smaller after 8), and 90% of variance is explained at 8 principal components.\n",
    "\n",
    "I will now recreate the PCR model for $M=17$ and calculate the error as a sanity check."
   ]
  },
  {
   "cell_type": "code",
   "execution_count": 21,
   "id": "c286b143-1274-40e9-8275-df80577b3b83",
   "metadata": {},
   "outputs": [
    {
     "data": {
      "text/plain": [
       "665249.6845430702"
      ]
     },
     "execution_count": 21,
     "metadata": {},
     "output_type": "execute_result"
    }
   ],
   "source": [
    "pcr_model = make_pipeline(StandardScaler(), PCA(n_components=M_opt), LinearRegression())\n",
    "pcr_model.fit(X_train, y_train)\n",
    "mean_squared_error(y_test, pcr_model.predict(X_test))"
   ]
  },
  {
   "cell_type": "code",
   "execution_count": 22,
   "id": "c1367399-4a1b-4677-8a6d-db16e090808f",
   "metadata": {},
   "outputs": [
    {
     "data": {
      "text/plain": [
       "0.9392250767405439"
      ]
     },
     "execution_count": 22,
     "metadata": {},
     "output_type": "execute_result"
    }
   ],
   "source": [
    "r2_score(y_test, pcr_model.predict(X_test))"
   ]
  },
  {
   "cell_type": "markdown",
   "id": "3f95c0f2-a64a-4b52-9665-6a695691580f",
   "metadata": {},
   "source": [
    "#### (g) Comment on the results obtained. How accurately can we predict the number of college applications received? Is there much difference among the test errors resulting from these five approaches?\n",
    "\n",
    "I have created a table for the error values associated with the most optimal selections of the hyperparameter of each model.\n",
    "\n",
    "| Model                   | Tuning parameter | Test MSE      | $R^2$  | Notes                                            |\n",
    "| ----------------------- | ---------------- | ------------- | ------ | ------------------------------------------------ |\n",
    "| OLS                     | –                | 665249.68     | 0.9392 | Baseline model with 18 predictors                |\n",
    "| Ridge Regression        | $\\lambda=0.005$  | 665246.43     | 0.9392 | Nearly identical to OLS due to less shrinkage    |\n",
    "| Lasso Regression        | $\\lambda=17.598$ | **643492.51** | 0.9412 | 3 predictors removed, 15 non-zero coefficients   |\n",
    "| PCR                     | $M=17$           | 665249.68     | 0.9392 | Same as OLS (no effective dimension reduction)   |\n",
    "\n",
    "The test mean squared errors for the four models (OLS, ridge regression, lasso regression, and PCR) are all very similar, ranging from approximately 643000 to 665000. The ridge and PCR models perform almost identically to OLS, suggesting that multicollinearity and overfitting are not major concerns while the model generalizes. The lasso model achieves a slightly lower test error, implying that excluding some predictors may marginally improve generalization. Overall, the differences in predictive performance among the methods are small, and all capture roughly the same underlying linear relationships in the data. All models achieve an $R^2$ around 0.94, meaning they explain roughly 94% of the variance in the number of college applications received. Linear relationships capture most of the predictive signal. The lasso provides a marginal improvement while also performing feature selection, making it arguably the most efficient model. Differences in test error are minimal, so model choice could depend more on interpretability or simplicity than predictive gains, like a choice of lower $M$ in PCR.\n",
    "\n",
    "The models show that the number of college applications can be predicted with high accuracy, but that must be taken with a grain of salt due to the significant test MSE. Differences among OLS, Ridge, and PCR are negligible, suggesting that regularization and dimension reduction offer little improvement for this dataset. The lasso model achieves the best performance with fewer predictors, indicating some redundancy among variables. Overall, the models generalize well and capture most of the variance in the response variable."
   ]
  }
 ],
 "metadata": {
  "kernelspec": {
   "display_name": "Python 3.12 (default)",
   "language": "python",
   "name": "python3"
  },
  "language_info": {
   "codemirror_mode": {
    "name": "ipython",
    "version": 3
   },
   "file_extension": ".py",
   "mimetype": "text/x-python",
   "name": "python",
   "nbconvert_exporter": "python",
   "pygments_lexer": "ipython3",
   "version": "3.12.11"
  }
 },
 "nbformat": 4,
 "nbformat_minor": 5
}
